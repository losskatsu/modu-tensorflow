{
 "cells": [
  {
   "cell_type": "markdown",
   "metadata": {},
   "source": [
    "# Logistic Regression with `tf.data`\n",
    "\n",
    "* [참고: TensorFlow.org](https://www.tensorflow.org/get_started/mnist/beginners)\n",
    "* [소스: mnist_softmax.py in verion 1.4](https://github.com/tensorflow/tensorflow/blob/r1.4/tensorflow/examples/tutorials/mnist/mnist_softmax.py)\n",
    "* `tf.data`를 이용하여 input pipeline을 바꿔보자"
   ]
  },
  {
   "cell_type": "markdown",
   "metadata": {},
   "source": [
    "### Import modules"
   ]
  },
  {
   "cell_type": "code",
   "execution_count": 1,
   "metadata": {},
   "outputs": [],
   "source": [
    "\"\"\"A very simple MNIST classifier.\n",
    "See extensive documentation at\n",
    "https://www.tensorflow.org/get_started/mnist/beginners in version 1.4\n",
    "\"\"\"\n",
    "from __future__ import absolute_import\n",
    "from __future__ import division\n",
    "from __future__ import print_function\n",
    "\n",
    "import time\n",
    "import numpy as np\n",
    "\n",
    "import tensorflow as tf\n",
    "\n",
    "sess_config = tf.ConfigProto(gpu_options=tf.GPUOptions(allow_growth=True))\n",
    "\n",
    "np.random.seed(219)\n",
    "tf.set_random_seed(219)"
   ]
  },
  {
   "cell_type": "markdown",
   "metadata": {},
   "source": [
    "### Import data"
   ]
  },
  {
   "cell_type": "code",
   "execution_count": 2,
   "metadata": {},
   "outputs": [],
   "source": [
    "# Load training and eval data from tf.keras\n",
    "(train_data, train_labels), (test_data, test_labels) = \\\n",
    "    tf.keras.datasets.mnist.load_data()\n",
    "\n",
    "train_data = train_data / 255.\n",
    "train_data = train_data.reshape(-1, 784)\n",
    "train_labels = np.asarray(train_labels, dtype=np.int32)\n",
    "\n",
    "test_data = test_data / 255.\n",
    "test_data = test_data.reshape(-1, 784)\n",
    "test_labels = np.asarray(test_labels, dtype=np.int32)"
   ]
  },
  {
   "cell_type": "markdown",
   "metadata": {},
   "source": [
    "### Show the MNIST"
   ]
  },
  {
   "cell_type": "code",
   "execution_count": 3,
   "metadata": {},
   "outputs": [
    {
     "name": "stdout",
     "output_type": "stream",
     "text": [
      "label = 5\n"
     ]
    },
    {
     "data": {
      "image/png": "[encoded data removed]",
      "text/plain": [
       "<Figure size 432x288 with 1 Axes>"
      ]
     },
     "metadata": {},
     "output_type": "display_data"
    }
   ],
   "source": [
    "import numpy as np\n",
    "import matplotlib.pyplot as plt\n",
    "%matplotlib inline\n",
    "\n",
    "index = 100\n",
    "print(\"label = {}\".format(train_labels[index]))\n",
    "plt.imshow(train_data[index].reshape(28, 28), cmap='gray')\n",
    "plt.show()"
   ]
  },
  {
   "cell_type": "markdown",
   "metadata": {},
   "source": [
    "### Set up dataset with `tf.data`\n",
    "\n",
    "#### input pipeline `tf.data.Dataset` and Transformation"
   ]
  },
  {
   "cell_type": "code",
   "execution_count": 4,
   "metadata": {},
   "outputs": [
    {
     "name": "stdout",
     "output_type": "stream",
     "text": [
      "<BatchDataset shapes: ((?, 784), (?,)), types: (tf.float64, tf.int32)>\n",
      "<BatchDataset shapes: ((?, 784), (?,)), types: (tf.float64, tf.int32)>\n"
     ]
    }
   ],
   "source": [
    "batch_size = 32\n",
    "\n",
    "# for train\n",
    "train_dataset = tf.data.Dataset.from_tensor_slices((train_data, train_labels))\n",
    "train_dataset = train_dataset.shuffle(buffer_size = 10000)\n",
    "train_dataset = train_dataset.batch(batch_size = batch_size)\n",
    "print(train_dataset)\n",
    "\n",
    "# for test\n",
    "test_dataset = tf.data.Dataset.from_tensor_slices((test_data, test_labels))\n",
    "test_dataset = test_dataset.shuffle(buffer_size = 10000)\n",
    "test_dataset = test_dataset.batch(batch_size = len(test_data))\n",
    "print(test_dataset)"
   ]
  },
  {
   "cell_type": "markdown",
   "metadata": {},
   "source": [
    "#### Define Iterator"
   ]
  },
  {
   "cell_type": "code",
   "execution_count": 5,
   "metadata": {},
   "outputs": [],
   "source": [
    "# tf.data.Iterator.from_string_handle의 output_shapes는 default = None이지만 꼭 값을 넣는 게 좋음\n",
    "# 여기를 직접 채워 넣으시면 됩니다.\n",
    "handle = tf.placeholder(tf.string, shape=[])\n",
    "iterator = tf.data.Iterator.from_string_handle(handle, train_dataset.output_types, train_dataset.output_shapes)\n",
    "\n",
    "# 여기를 직접 채워 넣으시면 됩니다.\n",
    "x, y = iterator.get_next()\n",
    "x = tf.cast(x, dtype = tf.float32)\n",
    "y = tf.cast(y, dtype = tf.int32)"
   ]
  },
  {
   "cell_type": "markdown",
   "metadata": {},
   "source": [
    "## Build a graph"
   ]
  },
  {
   "cell_type": "markdown",
   "metadata": {},
   "source": [
    "### Create weight and bias"
   ]
  },
  {
   "cell_type": "code",
   "execution_count": 6,
   "metadata": {},
   "outputs": [],
   "source": [
    "# 여기를 직접 채워 넣으시면 됩니다.\n",
    "# create Variables using `get_variable`\n",
    "W = tf.get_variable(name='W', shape=[784, 10], initializer=tf.truncated_normal_initializer())\n",
    "b = tf.get_variable(name='b', shape=[10], initializer=tf.random_normal_initializer())"
   ]
  },
  {
   "cell_type": "markdown",
   "metadata": {},
   "source": [
    "### Build a model: $y = Wx + b$"
   ]
  },
  {
   "cell_type": "code",
   "execution_count": 7,
   "metadata": {},
   "outputs": [],
   "source": [
    "# 여기를 직접 채워 넣으시면 됩니다.\n",
    "y_pred = tf.matmul(x, W) + b"
   ]
  },
  {
   "cell_type": "markdown",
   "metadata": {},
   "source": [
    "### Define loss function\n",
    "\n",
    "* [`tf.nn.softmax_cross_entropy_with_logits_v2`](https://www.tensorflow.org/api_docs/python/tf/nn/softmax_cross_entropy_with_logits_v2)\n",
    "* [`tf.losses.softmax_cross_entropy`](https://www.tensorflow.org/api_docs/python/tf/losses/softmax_cross_entropy)"
   ]
  },
  {
   "cell_type": "code",
   "execution_count": 8,
   "metadata": {},
   "outputs": [],
   "source": [
    "# 출처: TensorFlow 공식 문서\n",
    "# The raw formulation of cross-entropy,\n",
    "#\n",
    "#   tf.reduce_mean(-tf.reduce_sum(y * tf.log(tf.nn.softmax(y_pred)),\n",
    "#                                 reduction_indices=[1]))\n",
    "#\n",
    "# can be numerically unstable.\n",
    "#\n",
    "# So here we use tf.nn.softmax_cross_entropy_with_logits on the raw\n",
    "# outputs of 'y', and then average across the batch.\n",
    "y_one_hot = tf.one_hot(y, depth=10)\n",
    "cross_entropy = tf.losses.softmax_cross_entropy(onehot_labels=y_one_hot,\n",
    "                                                logits=y_pred)"
   ]
  },
  {
   "cell_type": "markdown",
   "metadata": {},
   "source": [
    "### Create a optimizer"
   ]
  },
  {
   "cell_type": "code",
   "execution_count": 9,
   "metadata": {},
   "outputs": [],
   "source": [
    "train_op = tf.train.GradientDescentOptimizer(0.5).minimize(cross_entropy)"
   ]
  },
  {
   "cell_type": "markdown",
   "metadata": {},
   "source": [
    "### `tf.Session()` and train"
   ]
  },
  {
   "cell_type": "code",
   "execution_count": 10,
   "metadata": {
    "scrolled": true
   },
   "outputs": [
    {
     "name": "stdout",
     "output_type": "stream",
     "text": [
      "step: 0, loss: 10.9081\n",
      "step: 100, loss: 1.62581\n",
      "step: 200, loss: 0.473462\n",
      "step: 300, loss: 1.02776\n",
      "step: 400, loss: 1.14787\n",
      "step: 500, loss: 0.648653\n",
      "step: 600, loss: 0.535513\n",
      "step: 700, loss: 0.683906\n",
      "step: 800, loss: 0.974797\n",
      "step: 900, loss: 0.434975\n",
      "step: 1000, loss: 1.26805\n",
      "step: 1100, loss: 1.21754\n",
      "step: 1200, loss: 1.34171\n",
      "step: 1300, loss: 0.126948\n",
      "step: 1400, loss: 0.861013\n",
      "step: 1500, loss: 0.431571\n",
      "step: 1600, loss: 1.45818\n",
      "step: 1700, loss: 0.555825\n",
      "step: 1800, loss: 0.705837\n",
      "End of dataset\n",
      "step: 1900, loss: 0.0840894\n",
      "step: 2000, loss: 1.19313\n",
      "step: 2100, loss: 0.1841\n",
      "step: 2200, loss: 0.724616\n",
      "step: 2300, loss: 1.02807\n",
      "step: 2400, loss: 0.288195\n",
      "step: 2500, loss: 0.63546\n",
      "step: 2600, loss: 0.168137\n",
      "step: 2700, loss: 1.20409\n",
      "step: 2800, loss: 0.201409\n",
      "step: 2900, loss: 0.256565\n",
      "step: 3000, loss: 0.450206\n",
      "step: 3100, loss: 0.279107\n",
      "step: 3200, loss: 0.196603\n",
      "step: 3300, loss: 0.895472\n",
      "step: 3400, loss: 0.337283\n",
      "step: 3500, loss: 0.498716\n",
      "step: 3600, loss: 0.164274\n",
      "step: 3700, loss: 0.643054\n",
      "End of dataset\n",
      "step: 3800, loss: 0.502515\n",
      "step: 3900, loss: 0.189585\n",
      "step: 4000, loss: 0.104404\n",
      "step: 4100, loss: 0.255938\n",
      "step: 4200, loss: 0.0481564\n",
      "step: 4300, loss: 0.248149\n",
      "step: 4400, loss: 0.313678\n",
      "step: 4500, loss: 0.138853\n",
      "step: 4600, loss: 0.478209\n",
      "step: 4700, loss: 0.0948546\n",
      "step: 4800, loss: 0.936627\n",
      "step: 4900, loss: 0.281731\n",
      "step: 5000, loss: 0.121964\n",
      "step: 5100, loss: 0.218399\n",
      "step: 5200, loss: 0.285481\n",
      "step: 5300, loss: 0.307358\n",
      "step: 5400, loss: 0.302288\n",
      "step: 5500, loss: 0.106244\n",
      "step: 5600, loss: 1.25005\n",
      "End of dataset\n",
      "step: 5700, loss: 0.251763\n",
      "step: 5800, loss: 0.303797\n",
      "step: 5900, loss: 0.146308\n",
      "step: 6000, loss: 0.341613\n",
      "step: 6100, loss: 0.534777\n",
      "step: 6200, loss: 0.235317\n",
      "step: 6300, loss: 0.39843\n",
      "step: 6400, loss: 0.0918088\n",
      "step: 6500, loss: 0.76365\n",
      "step: 6600, loss: 0.321514\n",
      "step: 6700, loss: 0.201767\n",
      "step: 6800, loss: 0.213946\n",
      "step: 6900, loss: 0.263993\n",
      "step: 7000, loss: 0.683696\n",
      "step: 7100, loss: 0.308325\n",
      "step: 7200, loss: 0.480099\n",
      "step: 7300, loss: 0.728569\n",
      "step: 7400, loss: 0.203272\n",
      "End of dataset\n",
      "step: 7500, loss: 0.033396\n",
      "step: 7600, loss: 0.864897\n",
      "step: 7700, loss: 0.203505\n",
      "step: 7800, loss: 0.589256\n",
      "step: 7900, loss: 0.256989\n",
      "step: 8000, loss: 0.252552\n",
      "step: 8100, loss: 0.332187\n",
      "step: 8200, loss: 0.653297\n",
      "step: 8300, loss: 0.680307\n",
      "step: 8400, loss: 0.083085\n",
      "step: 8500, loss: 0.614213\n",
      "step: 8600, loss: 0.709731\n",
      "step: 8700, loss: 0.97639\n",
      "step: 8800, loss: 0.0821487\n",
      "step: 8900, loss: 0.585754\n",
      "step: 9000, loss: 0.250615\n",
      "step: 9100, loss: 0.730814\n",
      "step: 9200, loss: 0.267792\n",
      "step: 9300, loss: 0.625679\n",
      "End of dataset\n",
      "step: 9400, loss: 0.0647877\n",
      "step: 9500, loss: 0.925299\n",
      "step: 9600, loss: 0.129827\n",
      "step: 9700, loss: 0.399528\n",
      "step: 9800, loss: 0.520274\n",
      "step: 9900, loss: 0.186704\n",
      "step: 10000, loss: 0.319918\n",
      "step: 10100, loss: 0.156485\n",
      "step: 10200, loss: 0.960642\n",
      "step: 10300, loss: 0.123499\n",
      "step: 10400, loss: 0.279789\n",
      "step: 10500, loss: 0.350948\n",
      "step: 10600, loss: 0.275907\n",
      "step: 10700, loss: 0.111762\n",
      "step: 10800, loss: 0.643533\n",
      "step: 10900, loss: 0.29284\n",
      "step: 11000, loss: 0.320285\n",
      "step: 11100, loss: 0.101985\n",
      "step: 11200, loss: 0.475103\n",
      "End of dataset\n",
      "step: 11300, loss: 0.299619\n",
      "step: 11400, loss: 0.176733\n",
      "step: 11500, loss: 0.0626177\n",
      "step: 11600, loss: 0.21191\n",
      "step: 11700, loss: 0.0404666\n",
      "step: 11800, loss: 0.219969\n",
      "step: 11900, loss: 0.22019\n",
      "step: 12000, loss: 0.145696\n",
      "step: 12100, loss: 0.560547\n",
      "step: 12200, loss: 0.104177\n",
      "step: 12300, loss: 0.770383\n",
      "step: 12400, loss: 0.263871\n",
      "step: 12500, loss: 0.116601\n",
      "step: 12600, loss: 0.224628\n",
      "step: 12700, loss: 0.382078\n",
      "step: 12800, loss: 0.256308\n",
      "step: 12900, loss: 0.29766\n",
      "step: 13000, loss: 0.0957773\n",
      "step: 13100, loss: 1.02973\n",
      "End of dataset\n",
      "step: 13200, loss: 0.237804\n",
      "step: 13300, loss: 0.226276\n",
      "step: 13400, loss: 0.0932127\n",
      "step: 13500, loss: 0.25898\n",
      "step: 13600, loss: 0.449296\n",
      "step: 13700, loss: 0.184819\n",
      "step: 13800, loss: 0.352078\n",
      "step: 13900, loss: 0.0903903\n",
      "step: 14000, loss: 0.727913\n",
      "step: 14100, loss: 0.273426\n",
      "step: 14200, loss: 0.16612\n",
      "step: 14300, loss: 0.214423\n",
      "step: 14400, loss: 0.281734\n",
      "step: 14500, loss: 0.590158\n",
      "step: 14600, loss: 0.260472\n",
      "step: 14700, loss: 0.459408\n",
      "step: 14800, loss: 0.730144\n",
      "step: 14900, loss: 0.123932\n",
      "End of dataset\n",
      "step: 15000, loss: 0.0349103\n",
      "step: 15100, loss: 0.917441\n",
      "step: 15200, loss: 0.215534\n",
      "step: 15300, loss: 0.48159\n",
      "step: 15400, loss: 0.250147\n",
      "step: 15500, loss: 0.232016\n",
      "step: 15600, loss: 0.292195\n",
      "step: 15700, loss: 0.636986\n",
      "step: 15800, loss: 0.718944\n",
      "step: 15900, loss: 0.0723019\n",
      "step: 16000, loss: 0.51506\n",
      "step: 16100, loss: 0.633359\n",
      "step: 16200, loss: 0.862957\n",
      "step: 16300, loss: 0.0774274\n",
      "step: 16400, loss: 0.51479\n",
      "step: 16500, loss: 0.181395\n",
      "step: 16600, loss: 0.582821\n",
      "step: 16700, loss: 0.202462\n",
      "step: 16800, loss: 0.590261\n",
      "End of dataset\n",
      "step: 16900, loss: 0.0656753\n",
      "step: 17000, loss: 0.91241\n",
      "step: 17100, loss: 0.116942\n",
      "step: 17200, loss: 0.323975\n",
      "step: 17300, loss: 0.374331\n",
      "step: 17400, loss: 0.168766\n",
      "step: 17500, loss: 0.256437\n",
      "step: 17600, loss: 0.13362\n",
      "step: 17700, loss: 0.896294\n",
      "step: 17800, loss: 0.109925\n",
      "step: 17900, loss: 0.270801\n",
      "step: 18000, loss: 0.325564\n",
      "step: 18100, loss: 0.243143\n",
      "step: 18200, loss: 0.0951992\n",
      "step: 18300, loss: 0.60258\n",
      "step: 18400, loss: 0.266213\n",
      "step: 18500, loss: 0.249791\n",
      "step: 18600, loss: 0.100549\n",
      "step: 18700, loss: 0.39993\n",
      "End of dataset\n",
      "training done!\n",
      "Elapsed time: 30.368136882781982\n"
     ]
    }
   ],
   "source": [
    "start_time = time.time()\n",
    "sess = tf.Session(config=sess_config)\n",
    "sess.run(tf.global_variables_initializer())\n",
    "\n",
    "# train_iterator\n",
    "train_iterator = train_dataset.make_initializable_iterator()\n",
    "train_handle = sess.run(train_iterator.string_handle())\n",
    "\n",
    "max_epochs = 10 # Train for only ten epochs\n",
    "step = 0\n",
    "losses = []\n",
    "start_time = time.time()\n",
    "for epochs in range(max_epochs):\n",
    "  sess.run(train_iterator.initializer)\n",
    "  \n",
    "  while True:\n",
    "    try:\n",
    "      _, loss = sess.run([train_op, cross_entropy],\n",
    "                         feed_dict={handle: train_handle})\n",
    "      losses.append(loss)\n",
    "\n",
    "      if step % 100 == 0:\n",
    "        print(\"step: %d, loss: %g\" % (step, loss))\n",
    "      step += 1\n",
    "\n",
    "    except tf.errors.OutOfRangeError:\n",
    "      print(\"End of dataset\")  # ==> \"End of dataset\"\n",
    "      break\n",
    "    \n",
    "print(\"training done!\")\n",
    "print(\"Elapsed time: {}\".format(time.time() - start_time))"
   ]
  },
  {
   "cell_type": "markdown",
   "metadata": {},
   "source": [
    "### Plot the loss funtion"
   ]
  },
  {
   "cell_type": "code",
   "execution_count": 11,
   "metadata": {},
   "outputs": [
    {
     "data": {
      "image/png": "[encoded data removed]",
      "text/plain": [
       "<Figure size 432x288 with 1 Axes>"
      ]
     },
     "metadata": {},
     "output_type": "display_data"
    }
   ],
   "source": [
    "plt.plot(losses, label='loss')\n",
    "plt.legend()\n",
    "plt.show()"
   ]
  },
  {
   "cell_type": "markdown",
   "metadata": {},
   "source": [
    "### Test trained model"
   ]
  },
  {
   "cell_type": "code",
   "execution_count": 12,
   "metadata": {},
   "outputs": [],
   "source": [
    "# test_iterator\n",
    "test_iterator = test_dataset.make_initializable_iterator()\n",
    "test_handle = sess.run(test_iterator.string_handle())\n",
    "sess.run(test_iterator.initializer)"
   ]
  },
  {
   "cell_type": "code",
   "execution_count": 13,
   "metadata": {},
   "outputs": [
    {
     "name": "stdout",
     "output_type": "stream",
     "text": [
      "test accuracy: 0.911\n"
     ]
    }
   ],
   "source": [
    "correct_prediction = tf.equal(tf.argmax(y_pred, 1), tf.cast(y, tf.int64))\n",
    "accuracy = tf.reduce_mean(tf.cast(correct_prediction, tf.float32))\n",
    "print(\"test accuracy:\", sess.run(accuracy, feed_dict={handle: test_handle}))"
   ]
  },
  {
   "cell_type": "code",
   "execution_count": 14,
   "metadata": {},
   "outputs": [
    {
     "data": {
      "image/png": "[encoded data removed]",
      "text/plain": [
       "<Figure size 1152x720 with 16 Axes>"
      ]
     },
     "metadata": {},
     "output_type": "display_data"
    }
   ],
   "source": [
    "import numpy as np\n",
    "import matplotlib.pyplot as plt\n",
    "%matplotlib inline\n",
    "\n",
    "test_batch_size = 16\n",
    "batch_index = np.random.choice(len(test_data), size=test_batch_size, replace=False)\n",
    "batch_xs = test_data[batch_index]\n",
    "y_pred_ = sess.run(y_pred, feed_dict={x: batch_xs})\n",
    "\n",
    "fig = plt.figure(figsize=(16, 10))\n",
    "for i, (px, py) in enumerate(zip(batch_xs, y_pred_)):\n",
    "  p = fig.add_subplot(4, 8, i+1)\n",
    "  p.set_title(\"y_pred: {}\".format(np.argmax(py)))\n",
    "  p.imshow(px.reshape(28, 28), cmap='gray')\n",
    "  p.axis('off')"
   ]
  },
  {
   "cell_type": "markdown",
   "metadata": {},
   "source": [
    "## 직접 실습\n",
    "\n",
    "* 여러가지 hyper-parameter들을 바꿔가면서 accuracy를 높혀보자"
   ]
  }
 ],
 "metadata": {
  "kernelspec": {
   "display_name": "Python 3",
   "language": "python",
   "name": "python3"
  },
  "language_info": {
   "codemirror_mode": {
    "name": "ipython",
    "version": 3
   },
   "file_extension": ".py",
   "mimetype": "text/x-python",
   "name": "python",
   "nbconvert_exporter": "python",
   "pygments_lexer": "ipython3",
   "version": "3.5.5"
  }
 },
 "nbformat": 4,
 "nbformat_minor": 2
}
