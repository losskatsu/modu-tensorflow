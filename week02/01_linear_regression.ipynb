{
 "cells": [
  {
   "cell_type": "markdown",
   "metadata": {},
   "source": [
    "# Linear Regression\n",
    "\n",
    "* y와 한 개 이상의 독립 변수 (또는 설명 변수) X와의 선형 상관 관계를 모델링하는 회귀분석 기법이다. 한 개의 설명 변수에 기반한 경우에는 단순 선형 회귀, 둘 이상의 설명 변수에 기반한 경우에는 다중 선형 회귀라고 한다. [참고: 위키피디아](https://ko.wikipedia.org/wiki/선형_회귀)\n",
    "\n",
    "$$y_{\\textrm{pred}} = \\boldsymbol{W}^{\\top}\\boldsymbol{x} + b$$\n",
    "\n",
    "* $\\boldsymbol{x} = [x_{1}, x_{2}, \\cdots, x_{d}]$\n",
    "* $\\boldsymbol{W} = [w_{1}, w_{2}, \\cdots, w_{d}]$\n",
    "* Loss function: $\\mathcal{L} = \\sum^{N} (y_{\\textrm{pred}} - y)^{2}$"
   ]
  },
  {
   "cell_type": "markdown",
   "metadata": {},
   "source": [
    "## Training Pseudo Code\n",
    "\n",
    "```python\n",
    "for epoch in max_epochs: # 1 epoch: 모든 데이터(N)를 한번 학습 시켰을 때\n",
    "  for step in num_batches: # num_batches = int(data_size / batch_size)\n",
    "    1. sampling mini-batches with batch_size\n",
    "      1-1. data augmentation (필요하면)\n",
    "    2. calculate loss\n",
    "    3. calculate the gradient with respect to weights\n",
    "    4. update weights\n",
    "```"
   ]
  },
  {
   "cell_type": "code",
   "execution_count": 1,
   "metadata": {},
   "outputs": [],
   "source": [
    "import numpy as np\n",
    "import matplotlib.pyplot as plt\n",
    "%matplotlib inline\n",
    "\n",
    "import tensorflow as tf\n",
    "\n",
    "sess_config = tf.ConfigProto(gpu_options=tf.GPUOptions(allow_growth=True))\n",
    "\n",
    "tf.set_random_seed(219)\n",
    "np.random.seed(219)"
   ]
  },
  {
   "cell_type": "markdown",
   "metadata": {},
   "source": [
    "## Phase 1. Build a model"
   ]
  },
  {
   "cell_type": "markdown",
   "metadata": {},
   "source": [
    "### Make data"
   ]
  },
  {
   "cell_type": "code",
   "execution_count": 40,
   "metadata": {},
   "outputs": [
    {
     "data": {
      "image/png": "[encoded data removed]",
      "text/plain": [
       "<Figure size 432x288 with 1 Axes>"
      ]
     },
     "metadata": {},
     "output_type": "display_data"
    }
   ],
   "source": [
    "_a = 3\n",
    "_b = -3\n",
    "N = 200\n",
    "data_X = np.random.uniform(low=0, high=5, size=N)\n",
    "data_y = _a * data_X + _b + np.random.normal(0, 2, N)\n",
    "\n",
    "plt.plot(data_X, data_y, 'ro')\n",
    "plt.axhline(0, color='black', lw=1)\n",
    "plt.axvline(0, color='black', lw=1)\n",
    "plt.show()"
   ]
  },
  {
   "cell_type": "code",
   "execution_count": 19,
   "metadata": {
    "scrolled": true
   },
   "outputs": [
    {
     "data": {
      "text/plain": [
       "array([0.54680387, 0.55032031, 1.26302401, 4.32003445, 4.98859849,\n",
       "       0.70165108, 4.63866948, 3.33945169, 3.80531524, 0.81539984,\n",
       "       1.45059004, 4.00092623, 4.07980445, 0.26672045, 4.23090273,\n",
       "       0.15455721, 2.28989591, 4.48497126, 3.37241333, 3.10713258,\n",
       "       2.43857866, 4.43783919, 1.87033437, 2.88742308, 3.17235282,\n",
       "       0.77936901, 4.02232299, 4.80863954, 0.97474171, 4.74825353,\n",
       "       3.50574902, 4.94130435, 1.30303426, 1.10981011, 2.42438653,\n",
       "       4.06852502, 4.10065378, 0.62757481, 0.13366597, 0.97032254,\n",
       "       2.10973581, 1.93558649, 0.50131481, 2.50803203, 2.76322   ,\n",
       "       4.96660063, 0.01976819, 2.44254375, 4.7254961 , 1.35828587,\n",
       "       2.50646282, 1.0189435 , 0.14801205, 1.47305822, 4.89784207,\n",
       "       3.1960818 , 1.37896852, 1.41923862, 4.4335499 , 4.3978699 ,\n",
       "       4.64791441, 3.24140278, 4.88624744, 3.39817919, 4.46523365,\n",
       "       2.88543044, 2.85187561, 4.21832614, 2.28759182, 0.85486986,\n",
       "       1.04356891, 3.74672137, 4.37965587, 4.16469378, 0.86415856,\n",
       "       2.88648874, 0.90227965, 1.06976452, 4.27711681, 1.99268574,\n",
       "       0.0128804 , 4.88048841, 4.83784892, 0.67162785, 4.58373432,\n",
       "       2.0232545 , 3.59398944, 3.01581466, 3.61970214, 2.57039142,\n",
       "       3.92342972, 0.8448052 , 4.17236383, 3.10251466, 2.7236067 ,\n",
       "       4.54519221, 1.03173268, 0.80425402, 2.23054587, 4.26253194,\n",
       "       2.54772224, 1.00965666, 4.27226882, 4.18602626, 1.30029701,\n",
       "       0.74064877, 1.22372109, 4.95221119, 0.6149323 , 2.0937214 ,\n",
       "       1.43215857, 1.40172702, 4.33565877, 1.25039769, 0.38051962,\n",
       "       0.06746702, 3.677199  , 3.42664695, 1.42409523, 3.59033496,\n",
       "       1.9950653 , 2.17307077, 0.57925913, 1.42126645, 4.99121789,\n",
       "       0.88752855, 3.81255309, 0.70748292, 4.04884416, 2.69377666,\n",
       "       1.08016851, 3.29596473, 0.24341865, 0.54951081, 3.4111137 ,\n",
       "       1.61445411, 4.74921045, 0.74506749, 1.38083664, 0.80174913,\n",
       "       4.82489193, 3.3759495 , 3.57264993, 0.85352706, 2.45520903,\n",
       "       3.58305856, 3.04664089, 0.01559189, 4.1870604 , 1.97002929,\n",
       "       3.56768538, 2.40980516, 1.2222564 , 3.66004451, 3.13990301,\n",
       "       4.80844737, 2.61302645, 4.17164384, 3.85376314, 2.85590996,\n",
       "       3.58255465, 4.88105636, 3.48494333, 2.31804184, 2.19336241,\n",
       "       0.94623403, 4.21324109, 2.88390334, 3.79460551, 4.10335238,\n",
       "       2.79150569, 4.1214472 , 4.29501856, 3.55898555, 2.45679832,\n",
       "       0.39468499, 3.12060894, 3.81967436, 1.50340844, 1.80749714,\n",
       "       3.39301325, 0.15674452, 3.45485671, 2.02542932, 0.18522571,\n",
       "       2.2581956 , 2.97533965, 1.51845188, 0.42390672, 1.19018407,\n",
       "       2.7903867 , 0.62330206, 4.55864842, 1.30292656, 3.61664068,\n",
       "       3.87328797, 4.13651991, 4.64579217, 4.08328598, 0.13897148])"
      ]
     },
     "execution_count": 19,
     "metadata": {},
     "output_type": "execute_result"
    }
   ],
   "source": [
    "data_X"
   ]
  },
  {
   "cell_type": "code",
   "execution_count": 20,
   "metadata": {},
   "outputs": [],
   "source": [
    "np.random.shuffle(data_X)"
   ]
  },
  {
   "cell_type": "code",
   "execution_count": 24,
   "metadata": {
    "scrolled": true
   },
   "outputs": [
    {
     "data": {
      "text/plain": [
       "array([1.26302401, 2.44254375, 2.76322   , 4.17164384, 0.70748292,\n",
       "       3.1960818 , 0.88752855, 4.08328598, 0.67162785, 0.62330206,\n",
       "       2.61302645, 1.04356891, 4.74825353, 4.7254961 , 4.1870604 ,\n",
       "       2.31804184, 4.46523365, 0.42390672, 4.88048841, 3.4111137 ,\n",
       "       4.33565877, 0.74064877, 0.54951081, 1.80749714, 0.01559189,\n",
       "       1.99268574, 4.4335499 , 4.94130435, 1.19018407, 4.96660063,\n",
       "       2.50646282, 0.55032031, 3.42664695, 3.37241333, 4.23090273,\n",
       "       0.01976819, 4.43783919, 0.13366597, 1.9950653 , 1.97002929,\n",
       "       4.80863954, 0.39468499, 2.42438653, 3.04664089, 4.64579217,\n",
       "       0.85352706, 3.677199  , 2.7236067 , 0.97032254, 3.66004451,\n",
       "       4.74921045, 3.17235282, 4.16469378, 4.06852502, 1.2222564 ,\n",
       "       0.80174913, 4.55864842, 0.50131481, 1.22372109, 4.17236383,\n",
       "       4.63866948, 1.10981011, 4.21324109, 3.39817919, 2.69377666,\n",
       "       4.3978699 , 4.13651991, 0.57925913, 0.62757481, 3.13990301,\n",
       "       0.06746702, 4.26253194, 2.54772224, 1.43215857, 2.28989591,\n",
       "       3.33945169, 0.0128804 , 1.42409523, 4.83784892, 3.29596473,\n",
       "       3.61664068, 4.32003445, 4.48497126, 0.38051962, 3.56768538,\n",
       "       2.88543044, 3.55898555, 4.02232299, 1.41923862, 3.58255465,\n",
       "       4.37965587, 1.30029701, 1.00965666, 3.01581466, 1.38083664,\n",
       "       0.24341865, 4.95221119, 2.50803203, 2.02542932, 4.27711681,\n",
       "       3.3759495 , 3.12060894, 0.70165108, 2.17307077, 1.0189435 ,\n",
       "       0.86415856, 3.24140278, 2.0937214 , 0.26672045, 3.87328797,\n",
       "       0.54680387, 4.54519221, 4.80844737, 0.15674452, 2.97533965,\n",
       "       3.92342972, 4.10335238, 0.94623403, 3.58305856, 0.85486986,\n",
       "       0.6149323 , 4.99121789, 4.29501856, 3.57264993, 0.14801205,\n",
       "       1.35828587, 2.45520903, 2.7903867 , 4.98859849, 3.59033496,\n",
       "       0.8448052 , 4.04884416, 4.64791441, 1.50340844, 3.10251466,\n",
       "       4.1214472 , 3.85376314, 1.37896852, 1.06976452, 2.43857866,\n",
       "       2.88742308, 4.88624744, 1.08016851, 3.81255309, 3.79460551,\n",
       "       4.21832614, 4.00092623, 3.39301325, 1.93558649, 3.74672137,\n",
       "       2.28759182, 3.80531524, 1.45059004, 2.88648874, 0.15455721,\n",
       "       1.40172702, 4.18602626, 2.10973581, 2.85187561, 2.79150569,\n",
       "       0.74506749, 3.81967436, 4.27226882, 2.88390334, 3.50574902,\n",
       "       2.23054587, 1.30303426, 2.45679832, 1.30292656, 4.82489193,\n",
       "       3.48494333, 2.0232545 , 0.18522571, 0.80425402, 1.25039769,\n",
       "       2.40980516, 2.2581956 , 1.42126645, 1.03173268, 1.47305822,\n",
       "       4.10065378, 0.90227965, 2.19336241, 2.85590996, 3.59398944,\n",
       "       1.51845188, 4.88105636, 3.61970214, 4.58373432, 3.45485671,\n",
       "       1.87033437, 4.89784207, 0.81539984, 0.97474171, 1.61445411,\n",
       "       2.57039142, 0.77936901, 0.13897148, 4.07980445, 3.10713258])"
      ]
     },
     "execution_count": 24,
     "metadata": {},
     "output_type": "execute_result"
    }
   ],
   "source": [
    "np.random.choice(data_X, len(data_X), replace=False)"
   ]
  },
  {
   "cell_type": "markdown",
   "metadata": {},
   "source": [
    "### Create placeholders for inputs and labels"
   ]
  },
  {
   "cell_type": "code",
   "execution_count": 5,
   "metadata": {},
   "outputs": [],
   "source": [
    "# 여기를 직접 채워넣으시면 됩니다.\n",
    "# X: inputs\n",
    "x = tf.placeholder(tf.float32, name='x')\n",
    "\n",
    "# y: labels\n",
    "y = tf.placeholder(tf.float32, name='y')"
   ]
  },
  {
   "cell_type": "markdown",
   "metadata": {},
   "source": [
    "### Create weight and bias"
   ]
  },
  {
   "cell_type": "code",
   "execution_count": 7,
   "metadata": {},
   "outputs": [],
   "source": [
    "# 여기를 직접 채워넣으시면 됩니다.\n",
    "# create Variables\n",
    "W = tf.get_variable(name='weights', initializer=tf.constant(0.0))\n",
    "b = tf.get_variable(name='bais', initializer=tf.constant(0.0))"
   ]
  },
  {
   "cell_type": "markdown",
   "metadata": {},
   "source": [
    "### Build a model: $y = Wx + b$"
   ]
  },
  {
   "cell_type": "code",
   "execution_count": 10,
   "metadata": {},
   "outputs": [],
   "source": [
    "# 여기를 직접 채워넣으시면 됩니다.\n",
    "y_pred = W*x +b"
   ]
  },
  {
   "cell_type": "markdown",
   "metadata": {},
   "source": [
    "### Define loss function"
   ]
  },
  {
   "cell_type": "code",
   "execution_count": 11,
   "metadata": {},
   "outputs": [],
   "source": [
    "# 여기를 직접 채워넣으시면 됩니다.\n",
    "loss = tf.square(y - y_pred, name='loss')"
   ]
  },
  {
   "cell_type": "markdown",
   "metadata": {},
   "source": [
    "### Create a optimizer"
   ]
  },
  {
   "cell_type": "code",
   "execution_count": 12,
   "metadata": {},
   "outputs": [],
   "source": [
    "# 여기를 직접 채워넣으시면 됩니다.\n",
    "train_op = tf.train.GradientDescentOptimizer(learning_rate=0.001).minimize(loss)"
   ]
  },
  {
   "cell_type": "markdown",
   "metadata": {},
   "source": [
    "## Phase 2. Train a model"
   ]
  },
  {
   "cell_type": "markdown",
   "metadata": {},
   "source": [
    "### Train a model"
   ]
  },
  {
   "cell_type": "code",
   "execution_count": 41,
   "metadata": {},
   "outputs": [
    {
     "name": "stdout",
     "output_type": "stream",
     "text": [
      "Epoch 0: total_loss: 12.390123\n",
      "Epoch 10: total_loss: 6.015025\n",
      "Epoch 20: total_loss: 4.793853\n",
      "Epoch 30: total_loss: 4.620926\n",
      "Epoch 40: total_loss: 4.045620\n",
      "Epoch 50: total_loss: 5.055851\n",
      "Epoch 60: total_loss: 4.366363\n",
      "Epoch 70: total_loss: 4.086910\n",
      "Epoch 80: total_loss: 4.307153\n",
      "Epoch 90: total_loss: 4.642418\n",
      "Epoch 100: total_loss: 4.371126\n",
      "training done!\n"
     ]
    }
   ],
   "source": [
    "with tf.Session(config=sess_config) as sess:\n",
    "  # Initialize all variables\n",
    "  sess.run(tf.global_variables_initializer())\n",
    "  \n",
    "  writer = tf.summary.FileWriter('graphs/01_linear_reg', sess.graph)\n",
    "  writer.close()\n",
    "  \n",
    "  # train the model\n",
    "  max_epochs = 100\n",
    "  total_losses = []\n",
    "  for epoch in range(max_epochs+1):\n",
    "    total_loss = 0.0\n",
    "\n",
    "    # 모든 데이터를 random하게 섞는다.\n",
    "    shuffle_index = np.random.choice(np.arange(200),N)\n",
    "    for i in shuffle_index:\n",
    "      x_ = data_X[i]\n",
    "      y_ = data_y[i]\n",
    "      # `sess.run` 부분을 직접 채워넣으시면 됩니다.\n",
    "      _, loss_ = sess.run([train_op, loss], feed_dict={x:x_, y:y_})\n",
    "      total_loss += loss_\n",
    "      \n",
    "    total_loss /= len(data_X)\n",
    "    total_losses.append(total_loss)\n",
    "    \n",
    "    if epoch % 10 == 0:\n",
    "      print('Epoch %d: total_loss: %f' % (epoch, total_loss))\n",
    "      \n",
    "  print('training done!')\n",
    "      \n",
    "  W_, b_ = sess.run([W, b])"
   ]
  },
  {
   "cell_type": "markdown",
   "metadata": {},
   "source": [
    "### Print the results: W and b\n",
    "\n",
    "* 정답 W = 3, b = -3"
   ]
  },
  {
   "cell_type": "code",
   "execution_count": 42,
   "metadata": {},
   "outputs": [
    {
     "name": "stdout",
     "output_type": "stream",
     "text": [
      "2.9239986 -2.8200607\n"
     ]
    }
   ],
   "source": [
    "print(W_, b_)"
   ]
  },
  {
   "cell_type": "markdown",
   "metadata": {},
   "source": [
    "### Plot the loss funtion"
   ]
  },
  {
   "cell_type": "code",
   "execution_count": 43,
   "metadata": {},
   "outputs": [
    {
     "data": {
      "image/png": "[encoded data removed]",
      "text/plain": [
       "<Figure size 432x288 with 1 Axes>"
      ]
     },
     "metadata": {},
     "output_type": "display_data"
    }
   ],
   "source": [
    "plt.plot(total_losses, label='total_loss')\n",
    "plt.legend()\n",
    "plt.show()"
   ]
  },
  {
   "cell_type": "markdown",
   "metadata": {},
   "source": [
    "### Plot the results"
   ]
  },
  {
   "cell_type": "code",
   "execution_count": 44,
   "metadata": {},
   "outputs": [
    {
     "data": {
      "image/png": "[encoded data removed]",
      "text/plain": [
       "<Figure size 432x288 with 1 Axes>"
      ]
     },
     "metadata": {},
     "output_type": "display_data"
    }
   ],
   "source": [
    "plt.plot(data_X, data_y, 'ro', label='Real data')\n",
    "plt.plot(data_X, W_ * data_X + b_, lw=5, label='model')\n",
    "plt.axhline(0, color='black', lw=1)\n",
    "plt.axvline(0, color='black', lw=1)\n",
    "plt.legend()\n",
    "plt.show()"
   ]
  },
  {
   "cell_type": "code",
   "execution_count": null,
   "metadata": {},
   "outputs": [],
   "source": []
  }
 ],
 "metadata": {
  "kernelspec": {
   "display_name": "Python 3",
   "language": "python",
   "name": "python3"
  },
  "language_info": {
   "codemirror_mode": {
    "name": "ipython",
    "version": 3
   },
   "file_extension": ".py",
   "mimetype": "text/x-python",
   "name": "python",
   "nbconvert_exporter": "python",
   "pygments_lexer": "ipython3",
   "version": "3.5.5"
  }
 },
 "nbformat": 4,
 "nbformat_minor": 2
}
