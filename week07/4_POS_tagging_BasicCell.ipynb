{
 "cells": [
  {
   "cell_type": "markdown",
   "metadata": {},
   "source": [
    "- many to many classification with tf.contrib.seq2seq.sequence_loss\n",
    "- Masking unvalid token with tf.sequence_mask\n"
   ]
  },
  {
   "cell_type": "code",
   "execution_count": 1,
   "metadata": {},
   "outputs": [
    {
     "name": "stdout",
     "output_type": "stream",
     "text": [
      "WARNING:tensorflow:From D:\\Program Files\\Anaconda3\\envs\\tensorflow_1_7\\lib\\site-packages\\tensorflow\\contrib\\learn\\python\\learn\\datasets\\base.py:198: retry (from tensorflow.contrib.learn.python.learn.datasets.base) is deprecated and will be removed in a future version.\n",
      "Instructions for updating:\n",
      "Use the retry module or similar alternatives.\n"
     ]
    }
   ],
   "source": [
    "import os, sys\n",
    "import numpy as np\n",
    "import matplotlib.pyplot as plt\n",
    "import tensorflow as tf\n",
    "import string\n",
    "%matplotlib inline\n",
    "\n",
    "slim = tf.contrib.slim"
   ]
  },
  {
   "cell_type": "code",
   "execution_count": 2,
   "metadata": {},
   "outputs": [],
   "source": [
    "sentences = [['I', 'feel', 'hungry'],\n",
    "     ['tensorflow', 'is', 'very', 'difficult'],\n",
    "     ['tensorflow', 'is', 'a', 'framework', 'for', 'deep', 'learning'],\n",
    "     ['tensorflow', 'is', 'very', 'fast', 'changing']]\n",
    "pos = [['pronoun', 'verb', 'adjective'],\n",
    "     ['noun', 'verb', 'adverb', 'adjective'],\n",
    "     ['noun', 'verb', 'determiner', 'noun', 'preposition', 'adjective', 'noun'],\n",
    "     ['noun', 'verb', 'adverb', 'adjective', 'verb']]"
   ]
  },
  {
   "cell_type": "code",
   "execution_count": 3,
   "metadata": {},
   "outputs": [
    {
     "name": "stdout",
     "output_type": "stream",
     "text": [
      "{'deep': 4, 'changing': 3, 'is': 11, 'very': 14, 'difficult': 5, 'learning': 12, 'feel': 7, 'a': 2, 'framework': 9, 'tensorflow': 13, '<pad>': 0, 'hungry': 10, 'fast': 6, 'I': 1, 'for': 8}\n"
     ]
    }
   ],
   "source": [
    "word_list = []\n",
    "for elm in sentences:\n",
    "    word_list += elm\n",
    "    \n",
    "word_list = list(set(word_list))\n",
    "word_list.sort()\n",
    "word_list = ['<pad>'] + word_list\n",
    "\n",
    "word_dic = {word: idx for idx, word in enumerate(word_list)}\n",
    "print(word_dic)"
   ]
  },
  {
   "cell_type": "code",
   "execution_count": 4,
   "metadata": {},
   "outputs": [
    {
     "data": {
      "text/plain": [
       "15"
      ]
     },
     "execution_count": 4,
     "metadata": {},
     "output_type": "execute_result"
    }
   ],
   "source": [
    "len(word_dic)"
   ]
  },
  {
   "cell_type": "code",
   "execution_count": 5,
   "metadata": {},
   "outputs": [
    {
     "name": "stdout",
     "output_type": "stream",
     "text": [
      "['<pad>', 'adjective', 'adverb', 'determiner', 'noun', 'preposition', 'pronoun', 'verb']\n"
     ]
    },
    {
     "data": {
      "text/plain": [
       "{'<pad>': 0,\n",
       " 'adjective': 1,\n",
       " 'adverb': 2,\n",
       " 'determiner': 3,\n",
       " 'noun': 4,\n",
       " 'preposition': 5,\n",
       " 'pronoun': 6,\n",
       " 'verb': 7}"
      ]
     },
     "execution_count": 5,
     "metadata": {},
     "output_type": "execute_result"
    }
   ],
   "source": [
    "pos_list = []\n",
    "for elm in pos:\n",
    "    pos_list += elm\n",
    "pos_list = list(set(pos_list))\n",
    "pos_list.sort()\n",
    "pos_list = ['<pad>']+pos_list\n",
    "print(pos_list)\n",
    "\n",
    "pos_dic = {pos : idx for idx, pos in enumerate(pos_list)}\n",
    "pos_dic"
   ]
  },
  {
   "cell_type": "code",
   "execution_count": 6,
   "metadata": {},
   "outputs": [
    {
     "data": {
      "text/plain": [
       "{0: '<pad>',\n",
       " 1: 'adjective',\n",
       " 2: 'adverb',\n",
       " 3: 'determiner',\n",
       " 4: 'noun',\n",
       " 5: 'preposition',\n",
       " 6: 'pronoun',\n",
       " 7: 'verb'}"
      ]
     },
     "execution_count": 6,
     "metadata": {},
     "output_type": "execute_result"
    }
   ],
   "source": [
    "pos_idx_to_dic = {elm[1]: elm[0] for elm in pos_dic.items()}\n",
    "pos_idx_to_dic"
   ]
  },
  {
   "cell_type": "code",
   "execution_count": 7,
   "metadata": {},
   "outputs": [],
   "source": [
    "def pad_seq(sequences, max_len, dic):\n",
    "    seq_len, seq_indices = [], []\n",
    "    # 여기서 seq는 한 문장\n",
    "    for seq in sequences:\n",
    "        seq_len.append(len(seq))\n",
    "        seq_idx = [dic.get(word) for word in seq]\n",
    "        seq_idx += (max_len - len(seq_idx)) * [dic.get('<pad>')]\n",
    "        seq_indices.append(seq_idx)\n",
    "    return seq_len, seq_indices"
   ]
  },
  {
   "cell_type": "code",
   "execution_count": 8,
   "metadata": {},
   "outputs": [
    {
     "name": "stdout",
     "output_type": "stream",
     "text": [
      "[3, 4, 7, 5] (4, 10)\n"
     ]
    }
   ],
   "source": [
    "max_length = 10\n",
    "X_length, X_indices = pad_seq(sequences=sentences, max_len=max_length, dic=word_dic)\n",
    "print(X_length, np.shape(X_indices))"
   ]
  },
  {
   "cell_type": "code",
   "execution_count": 9,
   "metadata": {},
   "outputs": [
    {
     "data": {
      "text/plain": [
       "[['pronoun',\n",
       "  'verb',\n",
       "  'adjective',\n",
       "  '<pad>',\n",
       "  '<pad>',\n",
       "  '<pad>',\n",
       "  '<pad>',\n",
       "  '<pad>',\n",
       "  '<pad>',\n",
       "  '<pad>'],\n",
       " ['noun',\n",
       "  'verb',\n",
       "  'adverb',\n",
       "  'adjective',\n",
       "  '<pad>',\n",
       "  '<pad>',\n",
       "  '<pad>',\n",
       "  '<pad>',\n",
       "  '<pad>',\n",
       "  '<pad>'],\n",
       " ['noun',\n",
       "  'verb',\n",
       "  'determiner',\n",
       "  'noun',\n",
       "  'preposition',\n",
       "  'adjective',\n",
       "  'noun',\n",
       "  '<pad>',\n",
       "  '<pad>',\n",
       "  '<pad>'],\n",
       " ['noun',\n",
       "  'verb',\n",
       "  'adverb',\n",
       "  'adjective',\n",
       "  'verb',\n",
       "  '<pad>',\n",
       "  '<pad>',\n",
       "  '<pad>',\n",
       "  '<pad>',\n",
       "  '<pad>']]"
      ]
     },
     "execution_count": 9,
     "metadata": {},
     "output_type": "execute_result"
    }
   ],
   "source": [
    "# target의 padding 처리\n",
    "# max_length-len(elm)의 갯수만큼 special symbol, predefined token word <pad>를 붙힌다.\n",
    "y = [elm + ['<pad>'] * (max_length-len(elm)) for elm in pos]\n",
    "y"
   ]
  },
  {
   "cell_type": "code",
   "execution_count": 10,
   "metadata": {},
   "outputs": [
    {
     "name": "stdout",
     "output_type": "stream",
     "text": [
      "(4, 10)\n"
     ]
    }
   ],
   "source": [
    "y = [list(map(lambda el : pos_dic.get(el), elm)) for elm in y]\n",
    "print(np.shape(y))"
   ]
  },
  {
   "cell_type": "code",
   "execution_count": 11,
   "metadata": {},
   "outputs": [
    {
     "data": {
      "text/plain": [
       "[[6, 7, 1, 0, 0, 0, 0, 0, 0, 0],\n",
       " [4, 7, 2, 1, 0, 0, 0, 0, 0, 0],\n",
       " [4, 7, 3, 4, 5, 1, 4, 0, 0, 0],\n",
       " [4, 7, 2, 1, 7, 0, 0, 0, 0, 0]]"
      ]
     },
     "execution_count": 11,
     "metadata": {},
     "output_type": "execute_result"
    }
   ],
   "source": [
    "y"
   ]
  },
  {
   "cell_type": "code",
   "execution_count": 22,
   "metadata": {},
   "outputs": [],
   "source": [
    "y_one_hot = tf.one_hot(y, 8)"
   ]
  },
  {
   "cell_type": "code",
   "execution_count": 23,
   "metadata": {},
   "outputs": [
    {
     "data": {
      "text/plain": [
       "<tf.Tensor 'one_hot:0' shape=(4, 10, 8) dtype=float32>"
      ]
     },
     "execution_count": 23,
     "metadata": {},
     "output_type": "execute_result"
    }
   ],
   "source": [
    "y_one_hot"
   ]
  },
  {
   "cell_type": "code",
   "execution_count": 12,
   "metadata": {},
   "outputs": [],
   "source": [
    "class SimPosRNN:\n",
    "    def __init__(self, X_length, X_indices, y, n_of_classes, hidden_dim, max_len, word_dic):\n",
    "        \n",
    "        with tf.variable_scope('rnn_input'):\n",
    "            self._X_length = X_length\n",
    "            self._X_indices = X_indices\n",
    "            self._y = y\n",
    "            \n",
    "            one_hot = tf.eye(len(word_dic), dtype=tf.float32)\n",
    "            self._one_hot = tf.get_variable(name='one_hot_embedding', initializer=one_hot,\n",
    "                                           trainable=False)\n",
    "            self._X_batch = tf.nn.embedding_lookup(params=self._one_hot, ids=self._X_indices)\n",
    "            \n",
    "        with tf.variable_scope('rnn_cell'):\n",
    "            rnn_cell = tf.nn.rnn_cell.BasicRNNCell(num_units=hidden_dim, activation=tf.nn.tanh)\n",
    "            self.score_cell = tf.contrib.rnn.OutputProjectionWrapper(cell=rnn_cell, output_size=n_of_classes)\n",
    "            self._outputs, self.state = tf.nn.dynamic_rnn(cell=self.score_cell,\n",
    "                                                        inputs=self._X_batch,\n",
    "                                                        sequence_length=self._X_length,\n",
    "                                                        dtype=tf.float32)\n",
    "            \n",
    "        with tf.variable_scope('rnn_seq2seq_loss'):\n",
    "            self.masks = tf.sequence_mask(lengths=self._X_length, maxlen=max_len, dtype=tf.float32)\n",
    "            self.seq2seq_loss = tf.contrib.seq2seq.sequence_loss(logits=self._outputs, \n",
    "                                                                targets=self._y,\n",
    "                                                                weights=self.masks)\n",
    "            \n",
    "        with tf.variable_scope('rnn_prediction'):\n",
    "            self._prediction = tf.argmax(input=self._outputs, axis=2, output_type=tf.int32)\n",
    "            \n",
    "    def predict(self, sess, X_length, X_indices):\n",
    "        feed_prediction={self._X_length:X_length, self._X_indices:X_indices}\n",
    "        return sess.run(self._prediction, feed_dict=feed_prediction)"
   ]
  },
  {
   "cell_type": "markdown",
   "metadata": {},
   "source": [
    "```python\n",
    "pos_rnn.score_cell\n",
    "\n",
    "<tensorflow.contrib.rnn.python.ops.core_rnn_cell.OutputProjectionWrapper at 0x29afd699eb8>\n",
    "\n",
    "pos_rnn._outputs\n",
    "<tf.Tensor 'rnn_cell/rnn/transpose_1:0' shape=(?, 10, 8) dtype=float32>\n",
    "\n",
    "pos_rnn.state\n",
    "<tf.Tensor 'rnn_cell/rnn/while/Exit_3:0' shape=(?, 16) dtype=float32>\n",
    "\n",
    "pos_rnn.masks\n",
    "<tf.Tensor 'rnn_seq2seq_loss/SequenceMask/Cast_1:0' shape=(?, 10) dtype=float32>\n",
    "```"
   ]
  },
  {
   "cell_type": "code",
   "execution_count": 13,
   "metadata": {},
   "outputs": [],
   "source": [
    "class SimPosLSTM:\n",
    "    def __init__(self, X_length, X_indices, y, n_of_classes, hidden_dim, max_len, word_dic):\n",
    "        \n",
    "        with tf.variable_scope('lstm_input'):\n",
    "            self._X_length = X_length\n",
    "            self._X_indices = X_indices\n",
    "            self._y = y\n",
    "            \n",
    "            one_hot = tf.eye(len(word_dic), dtype=tf.float32)\n",
    "            self._one_hot = tf.get_variable(name='one_hot_embedding', initializer=one_hot,\n",
    "                                           trainable=False)\n",
    "            self._X_batch = tf.nn.embedding_lookup(params=self._one_hot,ids=self._X_indices)\n",
    "            \n",
    "        with tf.variable_scope('lstm_cell'):\n",
    "            lstm_cell = tf.nn.rnn_cell.BasicLSTMCell(num_units=hidden_dim,\n",
    "                                                    activation=tf.nn.tanh)\n",
    "            score_cell = tf.contrib.rnn.OutputProjectionWrapper(cell=lstm_cell, output_size=n_of_classes)\n",
    "            self._outputs, self.states = tf.nn.dynamic_rnn(cell=score_cell,\n",
    "                                                          inputs=self._X_batch,\n",
    "                                                          sequence_length=self._X_length,\n",
    "                                                          dtype=tf.float32)\n",
    "            \n",
    "        with tf.variable_scope('lstm_seq2seq_loss'):\n",
    "            masks = tf.sequence_mask(lengths=self._X_length,maxlen=max_len,dtype=tf.float32)\n",
    "            self.seq2seq_loss = tf.contrib.seq2seq.sequence_loss(logits=self._outputs,\n",
    "                                                                targets=self._y,\n",
    "                                                                weights=masks)\n",
    "        with tf.variable_scope('lstm_prediction'):\n",
    "            self._prediction = tf.argmax(input=self._outputs, axis=2, output_type=tf.int32)\n",
    "            \n",
    "    def predict(self, sess, X_length, X_indices):\n",
    "        feed_prediction={self._X_length:X_length, self._X_indices:X_indices}\n",
    "        return sess.run(self._prediction, feed_dict=feed_prediction)"
   ]
  },
  {
   "cell_type": "markdown",
   "metadata": {},
   "source": [
    "```python\n",
    "pos_rnn._X_batch\n",
    "<tf.Tensor 'lstm_input/embedding_lookup:0' shape=(?, 10, 15) dtype=float32>\n",
    "\n",
    "pos_rnn._outputs\n",
    "<tf.Tensor 'lstm_cell/rnn/transpose_1:0' shape=(?, 10, 8) dtype=float32>\n",
    "\n",
    "pos_rnn.states\n",
    "LSTMStateTuple(c=<tf.Tensor 'lstm_cell/rnn/while/Exit_3:0' shape=(?, 16) dtype=float32>, h=<tf.Tensor 'lstm_cell/rnn/while/Exit_4:0' shape=(?, 16) dtype=float32>)\n",
    "```"
   ]
  },
  {
   "cell_type": "code",
   "execution_count": 24,
   "metadata": {},
   "outputs": [],
   "source": [
    "class SimPosGRU:\n",
    "    def __init__(self, X_length, X_indices, y, n_of_classes, hidden_dim, max_len, word_dic):\n",
    "        \n",
    "        with tf.variable_scope('gru_input'):\n",
    "            self._X_length = X_length\n",
    "            self._X_indices = X_indices\n",
    "            self._y = y\n",
    "            \n",
    "            one_hot = tf.eye(len(word_dic), dtype=tf.float32)\n",
    "            self._one_hot = tf.get_variable(name='one_hot_embedding', initializer=one_hot,\n",
    "                                           trainable=False)\n",
    "            self._X_batch = tf.nn.embedding_lookup(params=self._one_hot, ids=self._X_indices)\n",
    "            \n",
    "        with tf.variable_scope('gru_cell'):\n",
    "            gru_cell = tf.nn.rnn_cell.GRUCell(num_units=hidden_dim, activation=tf.nn.tanh)\n",
    "            score_cell = tf.contrib.rnn.OutputProjectionWrapper(cell=gru_cell,\n",
    "                                                               output_size=n_of_classes)\n",
    "            self._outputs, self.states = tf.nn.dynamic_rnn(cell=score_cell, inputs=self._X_batch,\n",
    "                                                          sequence_length=self._X_length,\n",
    "                                                          dtype=tf.float32)\n",
    "            \n",
    "        with tf.variable_scope('gru_seq2seq_loss'):\n",
    "            masks = tf.sequence_mask(lengths=self._X_length, maxlen=max_len, dtype=tf.float32)\n",
    "            self.seq2seq_loss = tf.contrib.seq2seq.sequence_loss(logits=self._outputs,\n",
    "                                                                targets=self._y,\n",
    "                                                                weights=masks)\n",
    "            \n",
    "        with tf.variable_scope('gru_prediction'):\n",
    "            self._prediction = tf.argmax(input=self._outputs, axis=2, output_type=tf.int32)\n",
    "            \n",
    "    def predict(self, sess, X_length, X_indices):\n",
    "        feed_prediction={self._X_length:X_length, self._X_indices:X_indices}\n",
    "        return sess.run(self._prediction, feed_dict=feed_prediction)"
   ]
  },
  {
   "cell_type": "markdown",
   "metadata": {},
   "source": [
    "```python\n",
    "pos_rnn._X_batch\n",
    "<tf.Tensor 'gru_input/embedding_lookup:0' shape=(?, 10, 15) dtype=float32>\n",
    "\n",
    "pos_rnn._outputs\n",
    "<tf.Tensor 'gru_cell/rnn/transpose_1:0' shape=(?, 10, 8) dtype=float32>\n",
    "\n",
    "pos_rnn.states\n",
    "<tf.Tensor 'gru_cell/rnn/while/Exit_3:0' shape=(?, 16) dtype=float32>\n",
    "```"
   ]
  },
  {
   "cell_type": "code",
   "execution_count": 14,
   "metadata": {},
   "outputs": [
    {
     "name": "stdout",
     "output_type": "stream",
     "text": [
      "2\n"
     ]
    }
   ],
   "source": [
    "lr = 0.003\n",
    "epochs = 100\n",
    "batch_size = 2\n",
    "total_step = int(np.shape(X_indices)[0]/batch_size)\n",
    "print(total_step)"
   ]
  },
  {
   "cell_type": "code",
   "execution_count": 15,
   "metadata": {},
   "outputs": [],
   "source": [
    "tr_dataset = tf.data.Dataset.from_tensor_slices((X_length, X_indices, y))"
   ]
  },
  {
   "cell_type": "code",
   "execution_count": 16,
   "metadata": {},
   "outputs": [
    {
     "name": "stdout",
     "output_type": "stream",
     "text": [
      "<tensorflow.python.data.ops.iterator_ops.Iterator object at 0x000001E821FA8860>\n"
     ]
    }
   ],
   "source": [
    "tr_dataset = tr_dataset.shuffle(buffer_size=20)\n",
    "tr_dataset = tr_dataset.batch(batch_size=batch_size)\n",
    "tr_iterator = tr_dataset.make_initializable_iterator()\n",
    "print(tr_iterator)"
   ]
  },
  {
   "cell_type": "code",
   "execution_count": 17,
   "metadata": {},
   "outputs": [],
   "source": [
    "X_length_mb, X_indices_mb, y_mb = tr_iterator.get_next()"
   ]
  },
  {
   "cell_type": "code",
   "execution_count": 25,
   "metadata": {},
   "outputs": [],
   "source": [
    "# pos_rnn = SimPosRNN(X_length=X_length_mb, X_indices=X_indices_mb, y=y_mb,\n",
    "#                    n_of_classes=8, hidden_dim=16, max_len=max_length, word_dic=word_dic)\n",
    "\n",
    "# pos_rnn = SimPosLSTM(X_length = X_length_mb, X_indices = X_indices_mb, y = y_mb,\n",
    "#                           n_of_classes = 8, hidden_dim = 16, max_len = max_length, word_dic = word_dic)\n",
    "\n",
    "\n",
    "pos_rnn = SimPosGRU(X_length=X_length_mb, X_indices=X_indices_mb, y=y_mb,\n",
    "                   n_of_classes=8, hidden_dim=16, max_len=max_length, word_dic=word_dic)"
   ]
  },
  {
   "cell_type": "code",
   "execution_count": 23,
   "metadata": {},
   "outputs": [],
   "source": [
    "opt = tf.train.AdamOptimizer(learning_rate=lr)\n",
    "training_op = opt.minimize(loss=pos_rnn.seq2seq_loss)"
   ]
  },
  {
   "cell_type": "code",
   "execution_count": 24,
   "metadata": {},
   "outputs": [
    {
     "name": "stdout",
     "output_type": "stream",
     "text": [
      "epoch :  10, tr_loss : 1.580\n",
      "epoch :  20, tr_loss : 1.084\n",
      "epoch :  30, tr_loss : 0.687\n",
      "epoch :  40, tr_loss : 0.474\n",
      "epoch :  50, tr_loss : 0.341\n",
      "epoch :  60, tr_loss : 0.246\n",
      "epoch :  70, tr_loss : 0.177\n",
      "epoch :  80, tr_loss : 0.133\n",
      "epoch :  90, tr_loss : 0.102\n",
      "epoch : 100, tr_loss : 0.081\n"
     ]
    }
   ],
   "source": [
    "sess = tf.Session()\n",
    "sess.run(tf.global_variables_initializer())\n",
    "\n",
    "tr_loss_hist = []\n",
    "\n",
    "for epoch in range(epochs):\n",
    "    avg_tr_loss = 0\n",
    "    tr_step = 0\n",
    "    \n",
    "    sess.run(tr_iterator.initializer)\n",
    "    try:\n",
    "        while True:\n",
    "            _, tr_loss = sess.run(fetches = [training_op, pos_rnn.seq2seq_loss])\n",
    "            avg_tr_loss += tr_loss\n",
    "            tr_step += 1\n",
    "            \n",
    "    except tf.errors.OutOfRangeError:\n",
    "        pass\n",
    "    \n",
    "    avg_tr_loss /= tr_step\n",
    "    tr_loss_hist.append(avg_tr_loss)\n",
    "    if (epoch + 1) % 10 == 0:\n",
    "        print('epoch : {:3}, tr_loss : {:.3f}'.format(epoch + 1, avg_tr_loss))"
   ]
  },
  {
   "cell_type": "code",
   "execution_count": 25,
   "metadata": {},
   "outputs": [
    {
     "data": {
      "text/plain": [
       "array([[6, 7, 1, 0, 0, 0, 0, 0, 0, 0],\n",
       "       [4, 7, 2, 1, 0, 0, 0, 0, 0, 0],\n",
       "       [4, 7, 3, 4, 5, 1, 4, 0, 0, 0],\n",
       "       [4, 7, 2, 1, 7, 0, 0, 0, 0, 0]])"
      ]
     },
     "execution_count": 25,
     "metadata": {},
     "output_type": "execute_result"
    }
   ],
   "source": [
    "yhat = pos_rnn.predict(sess, X_length, X_indices)\n",
    "yhat"
   ]
  },
  {
   "cell_type": "code",
   "execution_count": 26,
   "metadata": {},
   "outputs": [],
   "source": [
    "yhat = [list(map(lambda elm: pos_idx_to_dic.get(elm), row)) for row in yhat]"
   ]
  },
  {
   "cell_type": "code",
   "execution_count": 29,
   "metadata": {},
   "outputs": [
    {
     "name": "stdout",
     "output_type": "stream",
     "text": [
      "['pronoun', 'verb', 'adjective', '<pad>', '<pad>', '<pad>', '<pad>', '<pad>', '<pad>', '<pad>']\n",
      "['noun', 'verb', 'adverb', 'adjective', '<pad>', '<pad>', '<pad>', '<pad>', '<pad>', '<pad>']\n",
      "['noun', 'verb', 'determiner', 'noun', 'preposition', 'adjective', 'noun', '<pad>', '<pad>', '<pad>']\n",
      "['noun', 'verb', 'adverb', 'adjective', 'verb', '<pad>', '<pad>', '<pad>', '<pad>', '<pad>']\n"
     ]
    }
   ],
   "source": [
    "for elm in yhat:\n",
    "    print(elm)"
   ]
  },
  {
   "cell_type": "code",
   "execution_count": null,
   "metadata": {},
   "outputs": [],
   "source": []
  }
 ],
 "metadata": {
  "kernelspec": {
   "display_name": "Python 3",
   "language": "python",
   "name": "python3"
  },
  "language_info": {
   "codemirror_mode": {
    "name": "ipython",
    "version": 3
   },
   "file_extension": ".py",
   "mimetype": "text/x-python",
   "name": "python",
   "nbconvert_exporter": "python",
   "pygments_lexer": "ipython3",
   "version": "3.5.5"
  }
 },
 "nbformat": 4,
 "nbformat_minor": 2
}
