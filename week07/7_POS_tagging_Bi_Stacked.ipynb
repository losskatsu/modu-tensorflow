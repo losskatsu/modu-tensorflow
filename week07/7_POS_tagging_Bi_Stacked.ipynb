{
 "cells": [
  {
   "cell_type": "code",
   "execution_count": 1,
   "metadata": {},
   "outputs": [
    {
     "name": "stdout",
     "output_type": "stream",
     "text": [
      "WARNING:tensorflow:From D:\\Program Files\\Anaconda3\\envs\\tensorflow_1_7\\lib\\site-packages\\tensorflow\\contrib\\learn\\python\\learn\\datasets\\base.py:198: retry (from tensorflow.contrib.learn.python.learn.datasets.base) is deprecated and will be removed in a future version.\n",
      "Instructions for updating:\n",
      "Use the retry module or similar alternatives.\n"
     ]
    }
   ],
   "source": [
    "import os, sys\n",
    "import numpy as np\n",
    "import matplotlib.pyplot as plt\n",
    "import tensorflow as tf\n",
    "import string\n",
    "%matplotlib inline\n",
    "\n",
    "slim = tf.contrib.slim"
   ]
  },
  {
   "cell_type": "code",
   "execution_count": 2,
   "metadata": {},
   "outputs": [],
   "source": [
    "sentences = [['I', 'feel', 'hungry'],\n",
    "     ['tensorflow', 'is', 'very', 'difficult'],\n",
    "     ['tensorflow', 'is', 'a', 'framework', 'for', 'deep', 'learning'],\n",
    "     ['tensorflow', 'is', 'very', 'fast', 'changing']]\n",
    "pos = [['pronoun', 'verb', 'adjective'],\n",
    "     ['noun', 'verb', 'adverb', 'adjective'],\n",
    "     ['noun', 'verb', 'determiner', 'noun', 'preposition', 'adjective', 'noun'],\n",
    "     ['noun', 'verb', 'adverb', 'adjective', 'verb']]"
   ]
  },
  {
   "cell_type": "code",
   "execution_count": 3,
   "metadata": {},
   "outputs": [
    {
     "name": "stdout",
     "output_type": "stream",
     "text": [
      "{'changing': 3, 'tensorflow': 13, 'learning': 12, 'is': 11, 'for': 8, 'fast': 6, 'difficult': 5, 'framework': 9, 'deep': 4, 'I': 1, '<pad>': 0, 'very': 14, 'hungry': 10, 'a': 2, 'feel': 7}\n"
     ]
    }
   ],
   "source": [
    "word_list = []\n",
    "for elm in sentences:\n",
    "    word_list += elm\n",
    "    \n",
    "word_list = list(set(word_list))\n",
    "word_list.sort()\n",
    "word_list = ['<pad>'] + word_list\n",
    "\n",
    "word_dic = {word: idx for idx, word in enumerate(word_list)}\n",
    "print(word_dic)"
   ]
  },
  {
   "cell_type": "code",
   "execution_count": 4,
   "metadata": {},
   "outputs": [
    {
     "name": "stdout",
     "output_type": "stream",
     "text": [
      "['<pad>', 'adjective', 'adverb', 'determiner', 'noun', 'preposition', 'pronoun', 'verb']\n"
     ]
    },
    {
     "data": {
      "text/plain": [
       "{'<pad>': 0,\n",
       " 'adjective': 1,\n",
       " 'adverb': 2,\n",
       " 'determiner': 3,\n",
       " 'noun': 4,\n",
       " 'preposition': 5,\n",
       " 'pronoun': 6,\n",
       " 'verb': 7}"
      ]
     },
     "execution_count": 4,
     "metadata": {},
     "output_type": "execute_result"
    }
   ],
   "source": [
    "pos_list = []\n",
    "for elm in pos:\n",
    "    pos_list += elm\n",
    "pos_list = list(set(pos_list))\n",
    "pos_list.sort()\n",
    "pos_list = ['<pad>']+pos_list\n",
    "print(pos_list)\n",
    "\n",
    "pos_dic = {pos : idx for idx, pos in enumerate(pos_list)}\n",
    "pos_dic"
   ]
  },
  {
   "cell_type": "code",
   "execution_count": 5,
   "metadata": {},
   "outputs": [
    {
     "data": {
      "text/plain": [
       "{0: '<pad>',\n",
       " 1: 'adjective',\n",
       " 2: 'adverb',\n",
       " 3: 'determiner',\n",
       " 4: 'noun',\n",
       " 5: 'preposition',\n",
       " 6: 'pronoun',\n",
       " 7: 'verb'}"
      ]
     },
     "execution_count": 5,
     "metadata": {},
     "output_type": "execute_result"
    }
   ],
   "source": [
    "pos_idx_to_dic = {elm[1]: elm[0] for elm in pos_dic.items()}\n",
    "pos_idx_to_dic"
   ]
  },
  {
   "cell_type": "code",
   "execution_count": 6,
   "metadata": {},
   "outputs": [],
   "source": [
    "def pad_seq(sequences, max_len, dic):\n",
    "    seq_len, seq_indices = [], []\n",
    "    # 여기서 seq는 한 문장\n",
    "    for seq in sequences:\n",
    "        seq_len.append(len(seq))\n",
    "        seq_idx = [dic.get(word) for word in seq]\n",
    "        seq_idx += (max_len - len(seq_idx)) * [dic.get('<pad>')]\n",
    "        seq_indices.append(seq_idx)\n",
    "    return seq_len, seq_indices"
   ]
  },
  {
   "cell_type": "code",
   "execution_count": 7,
   "metadata": {},
   "outputs": [
    {
     "name": "stdout",
     "output_type": "stream",
     "text": [
      "[3, 4, 7, 5] (4, 10)\n"
     ]
    }
   ],
   "source": [
    "max_length = 10\n",
    "X_length, X_indices = pad_seq(sequences=sentences, max_len=max_length, dic=word_dic)\n",
    "print(X_length, np.shape(X_indices))"
   ]
  },
  {
   "cell_type": "code",
   "execution_count": 8,
   "metadata": {},
   "outputs": [
    {
     "name": "stdout",
     "output_type": "stream",
     "text": [
      "(4, 10)\n"
     ]
    }
   ],
   "source": [
    "y = [elm + ['<pad>'] * (max_length-len(elm)) for elm in pos]\n",
    "y = [list(map(lambda el : pos_dic.get(el), elm)) for elm in y]\n",
    "print(np.shape(y))"
   ]
  },
  {
   "cell_type": "code",
   "execution_count": 9,
   "metadata": {},
   "outputs": [
    {
     "data": {
      "text/plain": [
       "[[6, 7, 1, 0, 0, 0, 0, 0, 0, 0],\n",
       " [4, 7, 2, 1, 0, 0, 0, 0, 0, 0],\n",
       " [4, 7, 3, 4, 5, 1, 4, 0, 0, 0],\n",
       " [4, 7, 2, 1, 7, 0, 0, 0, 0, 0]]"
      ]
     },
     "execution_count": 9,
     "metadata": {},
     "output_type": "execute_result"
    }
   ],
   "source": [
    "y"
   ]
  },
  {
   "cell_type": "code",
   "execution_count": 10,
   "metadata": {},
   "outputs": [],
   "source": [
    "class SimPosStackedBiRNN:\n",
    "    def __init__(self, X_length, X_indices, y, n_of_classes, hidden_dims, max_len, word_dic):\n",
    "        \n",
    "        with tf.variable_scope('rnn_input'):\n",
    "            self._X_length = X_length\n",
    "            self._X_indices = X_indices\n",
    "            self._y = y\n",
    "            self._keep_prob = tf.placeholder(dtype=tf.float32)\n",
    "            \n",
    "            one_hot = tf.eye(len(word_dic), dtype=tf.float32)\n",
    "            self._one_hot = tf.get_variable(name='one_hot_embedding', initializer=one_hot,\n",
    "                                           trainable=False)\n",
    "            self._X_batch = tf.nn.embedding_lookup(params=self._one_hot, ids=self._X_indices)\n",
    "            \n",
    "        with tf.variable_scope('stacked_bi_rnn'):\n",
    "            rnn_fw_cells = []\n",
    "            for hidden_dim in hidden_dims:\n",
    "                rnn_fw_cell = tf.nn.rnn_cell.BasicRNNCell(num_units=hidden_dim,\n",
    "                                                         activation=tf.nn.tanh)\n",
    "                rnn_fw_cell = tf.nn.rnn_cell.DropoutWrapper(cell=rnn_fw_cell, output_keep_prob=self._keep_prob)\n",
    "                \n",
    "                rnn_fw_cells.append(rnn_fw_cell)\n",
    "                \n",
    "            rnn_bw_cells = []\n",
    "            for hidden_dim in hidden_dims:\n",
    "                rnn_bw_cell = tf.nn.rnn_cell.BasicRNNCell(num_units=hidden_dim,\n",
    "                                                         activation=tf.nn.tanh)\n",
    "                rnn_bw_cell = tf.nn.rnn_cell.DropoutWrapper(cell=rnn_bw_cell, output_keep_prob=self._keep_prob)\n",
    "                rnn_bw_cells.append(rnn_bw_cell)\n",
    "            # [batch_size, max_time, layers_output] \n",
    "            # Where layers_output are depth-concatenated forward and backward outputs.     \n",
    "            self.outputs,self.fw_states,self.bw_states=\\\n",
    "            tf.contrib.rnn.stack_bidirectional_dynamic_rnn(cells_fw=rnn_fw_cells,\n",
    "                                                          cells_bw=rnn_bw_cells,\n",
    "                                                          inputs=self._X_batch,\n",
    "                                                          sequence_length=self._X_length,\n",
    "                                                          dtype=tf.float32)\n",
    "            weights = tf.get_variable(name='weights', shape=(self.outputs.get_shape()[-1], n_of_classes),\n",
    "                                     initializer=tf.contrib.layers.xavier_initializer())\n",
    "            self._score = tf.map_fn(lambda elm: tf.matmul(elm, weights), self.outputs)\n",
    "            \n",
    "        with tf.variable_scope('rnn_seq2seq_loss'):\n",
    "            masks = tf.sequence_mask(lengths=self._X_length,maxlen=max_len,dtype=tf.float32)\n",
    "            self.seq2seq_loss = tf.contrib.seq2seq.sequence_loss(logits=self._score,\n",
    "                                                                targets=self._y,\n",
    "                                                                weights=masks)\n",
    "            \n",
    "        with tf.variable_scope('rnn_prediction'):\n",
    "            self._prediction = tf.argmax(input=self._score, axis=2, output_type=tf.int32)\n",
    "            \n",
    "    def predict(self, sess, X_length, X_indices, keep_prob=1.):\n",
    "        feed_prediction={self._X_length:X_length, self._X_indices:X_indices,self._keep_prob:keep_prob}\n",
    "        return sess.run(self._prediction, feed_dict=feed_prediction)"
   ]
  },
  {
   "cell_type": "markdown",
   "metadata": {},
   "source": [
    "```python\n",
    "sim_pos_stacked_bi.outputs\n",
    "<tf.Tensor 'stacked_bi_rnn/stack_bidirectional_rnn/cell_1/concat:0' shape=(?, 10, 32) dtype=float32>\n",
    "\n",
    "sim_pos_stacked_bi.fw_states\n",
    "(<tf.Tensor 'stacked_bi_rnn/stack_bidirectional_rnn/cell_0/bidirectional_rnn/fw/fw/while/Exit_3:0' shape=(?, 16) dtype=float32>,\n",
    " <tf.Tensor 'stacked_bi_rnn/stack_bidirectional_rnn/cell_1/bidirectional_rnn/fw/fw/while/Exit_3:0' shape=(?, 16) dtype=float32>)\n",
    "\n",
    "sim_pos_stacked_bi.bw_states\n",
    "(<tf.Tensor 'stacked_bi_rnn/stack_bidirectional_rnn/cell_0/bidirectional_rnn/bw/bw/while/Exit_3:0' shape=(?, 16) dtype=float32>,\n",
    " <tf.Tensor 'stacked_bi_rnn/stack_bidirectional_rnn/cell_1/bidirectional_rnn/bw/bw/while/Exit_3:0' shape=(?, 16) dtype=float32>)\n",
    "```"
   ]
  },
  {
   "cell_type": "code",
   "execution_count": 11,
   "metadata": {},
   "outputs": [],
   "source": [
    "class SimPosStackedBiLSTM:\n",
    "    def __init__(self,X_length,X_indices,y,n_of_classes,hidden_dims,max_len,word_dic):\n",
    "        \n",
    "        with tf.variable_scope('lstm_input'):\n",
    "            self._X_length=X_length\n",
    "            self._X_indices=X_indices\n",
    "            self._y=y\n",
    "            self._keep_prob=tf.placeholder(dtype=tf.float32)\n",
    "            \n",
    "            one_hot=tf.eye(len(word_dic), dtype=tf.float32)\n",
    "            self._one_hot=tf.get_variable(name='one_hot_embedding', initializer=one_hot,\n",
    "                                         trainable=False)\n",
    "            self._X_batch=tf.nn.embedding_lookup(params=self._one_hot, ids=self._X_indices)\n",
    "            \n",
    "        with tf.variable_scope('stacked_bi_lstm'):\n",
    "            lstm_fw_cells = []\n",
    "            for hidden_dim in hidden_dims:\n",
    "                lstm_fw_cell=tf.nn.rnn_cell.BasicRNNCell(num_units=hidden_dim,\n",
    "                                                        activation=tf.nn.tanh)\n",
    "                lstm_fw_cell=tf.nn.rnn_cell.DropoutWrapper(cell=lstm_fw_cell,output_keep_prob=self._keep_prob)\n",
    "                lstm_fw_cells.append(lstm_fw_cell)\n",
    "                \n",
    "            lstm_bw_cells = []\n",
    "            for hidden_dim in hidden_dims:\n",
    "                lstm_bw_cell=tf.nn.rnn_cell.BasicRNNCell(num_units=hidden_dim,\n",
    "                                                        activation=tf.nn.tanh)\n",
    "                lstm_bw_cell=tf.nn.rnn_cell.DropoutWrapper(cell=lstm_bw_cell,output_keep_prob=self._keep_prob)\n",
    "                lstm_bw_cells.append(lstm_bw_cell)\n",
    "                \n",
    "            self.outputs,self.fw_states,self.bw_states=\\\n",
    "            tf.contrib.rnn.stack_bidirectional_dynamic_rnn(cells_fw=lstm_fw_cells,\n",
    "                                                          cells_bw=lstm_bw_cells,\n",
    "                                                          inputs=self._X_batch,\n",
    "                                                          sequence_length=self._X_length,\n",
    "                                                          dtype=tf.float32)\n",
    "            \n",
    "            weights=tf.get_variable(name='weights', shape=(self.outputs.get_shape()[-1], n_of_classes),\n",
    "                                   initializer=tf.contrib.layers.xavier_initializer())\n",
    "            self._score=tf.map_fn(lambda elm: tf.matmul(elm, weights), self.outputs)\n",
    "            \n",
    "        with tf.variable_scope('lstm_seq2seq_loss'):\n",
    "            masks=tf.sequence_mask(lengths=self._X_length, maxlen=max_len, dtype=tf.float32)\n",
    "            self.seq2seq_loss=tf.contrib.seq2seq.sequence_loss(logits=self._score,\n",
    "                                                              targets=self._y,\n",
    "                                                              weights=masks)\n",
    "            \n",
    "        with tf.variable_scope('lstm_prediction'):\n",
    "            self._prediction=tf.argmax(input=self._score,axis=2,output_type=tf.int32)\n",
    "            \n",
    "    def predict(self,sess,X_length,X_indices,keep_prob=1.0):\n",
    "        feed_prediction={self._X_length:X_length,self._X_indices:X_indices,self._keep_prob:keep_prob}\n",
    "        return sess.run(self._prediction, feed_dict=feed_prediction)\n",
    "            "
   ]
  },
  {
   "cell_type": "markdown",
   "metadata": {},
   "source": [
    "```python\n",
    "sim_pos_stacked_bi.outputs\n",
    "<tf.Tensor 'stacked_bi_lstm/stack_bidirectional_rnn/cell_1/concat:0' shape=(?, 10, 32) dtype=float32>\n",
    "\n",
    "sim_pos_stacked_bi.fw_states\n",
    "(<tf.Tensor 'stacked_bi_lstm/stack_bidirectional_rnn/cell_0/bidirectional_rnn/fw/fw/while/Exit_3:0' shape=(?, 16) dtype=float32>,\n",
    " <tf.Tensor 'stacked_bi_lstm/stack_bidirectional_rnn/cell_1/bidirectional_rnn/fw/fw/while/Exit_3:0' shape=(?, 16) dtype=float32>)\n",
    "\n",
    "sim_pos_stacked_bi.bw_states\n",
    "(<tf.Tensor 'stacked_bi_lstm/stack_bidirectional_rnn/cell_0/bidirectional_rnn/bw/bw/while/Exit_3:0' shape=(?, 16) dtype=float32>,\n",
    " <tf.Tensor 'stacked_bi_lstm/stack_bidirectional_rnn/cell_1/bidirectional_rnn/bw/bw/while/Exit_3:0' shape=(?, 16) dtype=float32>)\n",
    "```\n"
   ]
  },
  {
   "cell_type": "code",
   "execution_count": 12,
   "metadata": {},
   "outputs": [
    {
     "name": "stdout",
     "output_type": "stream",
     "text": [
      "2\n"
     ]
    }
   ],
   "source": [
    "lr = .003\n",
    "epochs = 100\n",
    "batch_size = 2\n",
    "total_step = int(np.shape(X_indices)[0] / batch_size)\n",
    "print(total_step)"
   ]
  },
  {
   "cell_type": "code",
   "execution_count": 13,
   "metadata": {},
   "outputs": [
    {
     "name": "stdout",
     "output_type": "stream",
     "text": [
      "<BatchDataset shapes: ((?,), (?, 10), (?, 10)), types: (tf.int32, tf.int32, tf.int32)>\n"
     ]
    }
   ],
   "source": [
    "tr_dataset = tf.data.Dataset.from_tensor_slices((X_length, X_indices, y))\n",
    "tr_dataset = tr_dataset.shuffle(buffer_size = 20)\n",
    "tr_dataset = tr_dataset.batch(batch_size = batch_size)\n",
    "tr_iterator = tr_dataset.make_initializable_iterator()\n",
    "print(tr_dataset)"
   ]
  },
  {
   "cell_type": "code",
   "execution_count": 14,
   "metadata": {},
   "outputs": [],
   "source": [
    "X_length_mb, X_indices_mb, y_mb = tr_iterator.get_next()"
   ]
  },
  {
   "cell_type": "code",
   "execution_count": 15,
   "metadata": {},
   "outputs": [],
   "source": [
    "# sim_pos_stacked_bi = SimPosStackedBiRNN(X_length=X_length_mb,X_indices=X_indices_mb,y=y_mb,\n",
    "#                                        n_of_classes=8,hidden_dims=[16,16],max_len=max_length,\n",
    "#                                        word_dic=word_dic)\n",
    "\n",
    "\n",
    "sim_pos_stacked_bi = SimPosStackedBiLSTM(X_length=X_length_mb,X_indices=X_indices_mb,y=y_mb,\n",
    "                                       n_of_classes=8,hidden_dims=[16,16],max_len=max_length,\n",
    "                                       word_dic=word_dic)"
   ]
  },
  {
   "cell_type": "code",
   "execution_count": 18,
   "metadata": {},
   "outputs": [],
   "source": [
    "opt = tf.train.AdamOptimizer(learning_rate = lr)\n",
    "training_op = opt.minimize(loss = sim_pos_stacked_bi.seq2seq_loss)"
   ]
  },
  {
   "cell_type": "code",
   "execution_count": 19,
   "metadata": {
    "scrolled": false
   },
   "outputs": [
    {
     "name": "stdout",
     "output_type": "stream",
     "text": [
      "epoch :  10, tr_loss : 1.272\n",
      "epoch :  20, tr_loss : 1.061\n",
      "epoch :  30, tr_loss : 0.615\n",
      "epoch :  40, tr_loss : 0.347\n",
      "epoch :  50, tr_loss : 0.336\n",
      "epoch :  60, tr_loss : 0.197\n",
      "epoch :  70, tr_loss : 0.131\n",
      "epoch :  80, tr_loss : 0.096\n",
      "epoch :  90, tr_loss : 0.099\n",
      "epoch : 100, tr_loss : 0.059\n"
     ]
    }
   ],
   "source": [
    "sess = tf.Session()\n",
    "sess.run(tf.global_variables_initializer())\n",
    "\n",
    "tr_loss_hist = []\n",
    "\n",
    "for epoch in range(epochs):\n",
    "    avg_tr_loss = 0\n",
    "    tr_step = 0\n",
    "    \n",
    "    sess.run(tr_iterator.initializer)\n",
    "    try:\n",
    "        while True:\n",
    "            _, tr_loss = sess.run(fetches = [training_op, sim_pos_stacked_bi.seq2seq_loss],\n",
    "                                 feed_dict={sim_pos_stacked_bi._keep_prob: 0.5})\n",
    "            avg_tr_loss += tr_loss\n",
    "            tr_step += 1\n",
    "            \n",
    "    except tf.errors.OutOfRangeError:\n",
    "        pass\n",
    "    \n",
    "    avg_tr_loss /= tr_step\n",
    "    tr_loss_hist.append(avg_tr_loss)\n",
    "    if (epoch + 1) % 10 == 0:\n",
    "        print('epoch : {:3}, tr_loss : {:.3f}'.format(epoch + 1, avg_tr_loss))"
   ]
  },
  {
   "cell_type": "code",
   "execution_count": 21,
   "metadata": {},
   "outputs": [
    {
     "data": {
      "text/plain": [
       "array([[6, 7, 1, 0, 0, 0, 0, 0, 0, 0],\n",
       "       [4, 7, 2, 1, 0, 0, 0, 0, 0, 0],\n",
       "       [4, 7, 3, 4, 5, 1, 4, 0, 0, 0],\n",
       "       [4, 7, 2, 1, 7, 0, 0, 0, 0, 0]])"
      ]
     },
     "execution_count": 21,
     "metadata": {},
     "output_type": "execute_result"
    }
   ],
   "source": [
    "yhat = sim_pos_stacked_bi.predict(sess = sess, X_length = X_length, X_indices = X_indices)\n",
    "yhat"
   ]
  },
  {
   "cell_type": "code",
   "execution_count": null,
   "metadata": {},
   "outputs": [],
   "source": []
  }
 ],
 "metadata": {
  "kernelspec": {
   "display_name": "Python 3",
   "language": "python",
   "name": "python3"
  },
  "language_info": {
   "codemirror_mode": {
    "name": "ipython",
    "version": 3
   },
   "file_extension": ".py",
   "mimetype": "text/x-python",
   "name": "python",
   "nbconvert_exporter": "python",
   "pygments_lexer": "ipython3",
   "version": "3.5.5"
  }
 },
 "nbformat": 4,
 "nbformat_minor": 2
}
