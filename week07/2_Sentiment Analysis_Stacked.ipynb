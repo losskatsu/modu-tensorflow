{
 "cells": [
  {
   "cell_type": "markdown",
   "metadata": {},
   "source": [
    "- Applying **Dropout** to modebl by tf.contrib.rnn.DropoutWrapper\n",
    "- Applying **Stacking** to model by tf.contrib.rnn.MultiRNNCell"
   ]
  },
  {
   "cell_type": "code",
   "execution_count": 1,
   "metadata": {},
   "outputs": [
    {
     "name": "stdout",
     "output_type": "stream",
     "text": [
      "WARNING:tensorflow:From D:\\Program Files\\Anaconda3\\envs\\tensorflow_1_7\\lib\\site-packages\\tensorflow\\contrib\\learn\\python\\learn\\datasets\\base.py:198: retry (from tensorflow.contrib.learn.python.learn.datasets.base) is deprecated and will be removed in a future version.\n",
      "Instructions for updating:\n",
      "Use the retry module or similar alternatives.\n",
      "1.7.0\n"
     ]
    }
   ],
   "source": [
    "import os, sys\n",
    "import numpy as np\n",
    "import matplotlib.pyplot as plt\n",
    "import tensorflow as tf\n",
    "import string\n",
    "%matplotlib inline\n",
    "\n",
    "slim = tf.contrib.slim\n",
    "print(tf.__version__)"
   ]
  },
  {
   "cell_type": "code",
   "execution_count": 2,
   "metadata": {},
   "outputs": [],
   "source": [
    "words = ['good', 'bad', 'amazing', 'so good', 'bull shit', 'awesome']\n",
    "y = [[1.,0.], [0.,1.], [1.,0.], [1., 0.],[0.,1.], [1.,0.]]"
   ]
  },
  {
   "cell_type": "code",
   "execution_count": 3,
   "metadata": {},
   "outputs": [
    {
     "data": {
      "text/plain": [
       "'abcdefghijklmnopqrstuvwxyz *'"
      ]
     },
     "execution_count": 3,
     "metadata": {},
     "output_type": "execute_result"
    }
   ],
   "source": [
    "# Character quantization\n",
    "char_space = string.ascii_lowercase \n",
    "char_space = char_space + ' ' + '*'\n",
    "char_space"
   ]
  },
  {
   "cell_type": "code",
   "execution_count": 4,
   "metadata": {},
   "outputs": [
    {
     "name": "stdout",
     "output_type": "stream",
     "text": [
      "{'s': 18, 'h': 7, 'v': 21, 'u': 20, 'g': 6, 'p': 15, 'b': 1, 'm': 12, 't': 19, 'i': 8, 'o': 14, 'y': 24, ' ': 26, '*': 27, 'r': 17, 'l': 11, 'w': 22, 'x': 23, 'j': 9, 'a': 0, 'q': 16, 'f': 5, 'c': 2, 'z': 25, 'd': 3, 'e': 4, 'n': 13, 'k': 10}\n"
     ]
    }
   ],
   "source": [
    "char_dic = {char : idx for idx, char in enumerate(char_space)}\n",
    "print(char_dic)"
   ]
  },
  {
   "cell_type": "code",
   "execution_count": 5,
   "metadata": {},
   "outputs": [],
   "source": [
    "def pad_seq(sequences, max_len, dic):\n",
    "    seq_len, seq_indices = [], []\n",
    "    for seq in sequences:\n",
    "        seq_len.append(len(seq))\n",
    "        seq_idx = [dic.get(char) for char in seq]\n",
    "        seq_idx += (max_len - len(seq_idx)) * [dic.get('*')]\n",
    "        seq_indices.append(seq_idx)\n",
    "    return seq_len, seq_indices"
   ]
  },
  {
   "cell_type": "code",
   "execution_count": 6,
   "metadata": {},
   "outputs": [],
   "source": [
    "max_length = 10\n",
    "X_length, X_indices = pad_seq(sequences=words, max_len=max_length, dic=char_dic)"
   ]
  },
  {
   "cell_type": "code",
   "execution_count": 7,
   "metadata": {},
   "outputs": [
    {
     "name": "stdout",
     "output_type": "stream",
     "text": [
      "[4, 3, 7, 7, 9, 7]\n",
      "(6, 10)\n"
     ]
    }
   ],
   "source": [
    "print(X_length)\n",
    "# 순수한 리스트는 shape를 못 보여준다.\n",
    "# np.shape를 쓰도록 하자.\n",
    "print(np.shape(X_indices))"
   ]
  },
  {
   "cell_type": "code",
   "execution_count": 8,
   "metadata": {},
   "outputs": [],
   "source": [
    "class CharStackedRNN:\n",
    "    \n",
    "    def __init__(self, X_length, X_indices, y, n_of_classes, dic, hidden_dims=[32, 16]):\n",
    "        \n",
    "        with tf.variable_scope('rnn_input_layer'):\n",
    "            # 각 단어의 길이를 나타냄\n",
    "            self._X_length = X_length\n",
    "            # 각 단어가 정수로 변환된 리스트\n",
    "            self._X_indices = X_indices\n",
    "            # 각 단어의 sentiment\n",
    "            self._y = y\n",
    "            self._keep_prob = tf.placeholder(dtype=tf.float32)\n",
    "            \n",
    "            one_hot = tf.eye(len(dic), dtype=tf.float32)\n",
    "            self._one_hot = tf.get_variable(name='one_hot_embedding', initializer=one_hot,\n",
    "                                           trainable=False)\n",
    "            self._X_batch = tf.nn.embedding_lookup(params=self._one_hot, ids=self._X_indices)\n",
    "            \n",
    "            \n",
    "        with tf.variable_scope('rnn_stacked'):\n",
    "            \n",
    "            cells = []\n",
    "            for hidden_dim in hidden_dims:\n",
    "                cell = tf.nn.rnn_cell.BasicRNNCell(num_units=hidden_dim,activation=tf.nn.tanh)\n",
    "                cell = tf.nn.rnn_cell.DropoutWrapper(cell=cell, output_keep_prob=self._keep_prob)\n",
    "                cells.append(cell)\n",
    "            else:\n",
    "                # MultiRNNCell은 cell의 list를 받는다.\n",
    "                self.cells = tf.nn.rnn_cell.MultiRNNCell(cells=cells)\n",
    "            \n",
    "            self.output, self.state = tf.nn.dynamic_rnn(cell=self.cells, inputs=self._X_batch,\n",
    "                                        sequence_length=self._X_length, dtype=tf.float32)\n",
    "            \n",
    "        with tf.variable_scope('rnn_output'):\n",
    "            self._score = slim.fully_connected(inputs=self.state[-1], num_outputs = n_of_classes,\n",
    "                                              activation_fn=None)\n",
    "            \n",
    "        with tf.variable_scope('rnn_loss'):\n",
    "            self.ce_loss = tf.losses.softmax_cross_entropy(onehot_labels=self._y, logits=self._score)\n",
    "            \n",
    "        with tf.variable_scope('rnn_prediction'):\n",
    "            self._prediction = tf.argmax(input=self._score, axis=-1, output_type=tf.int32)\n",
    "            \n",
    "    def predict(self, sess, X_length, X_indices, keep_prob=1.):\n",
    "        feed_prediction={self._X_length:X_length, self._X_indices:X_indices, self._keep_prob:keep_prob}\n",
    "        return sess.run(self._prediction, feed_dict=feed_prediction)"
   ]
  },
  {
   "cell_type": "markdown",
   "metadata": {},
   "source": [
    "```python\n",
    "type(char_stacked_rnn.cells)\n",
    "tensorflow.python.ops.rnn_cell_impl.MultiRNNCell\n",
    "\n",
    "char_stacked_rnn.output\n",
    "<tf.Tensor 'rnn_stacked/rnn/transpose_1:0' shape=(?, 10, 16) dtype=float32>\n",
    "\n",
    "char_stacked_rnn.state\n",
    "(<tf.Tensor 'rnn_stacked/rnn/while/Exit_3:0' shape=(?, 32) dtype=float32>,\n",
    " <tf.Tensor 'rnn_stacked/rnn/while/Exit_4:0' shape=(?, 16) dtype=float32>)\n",
    "```"
   ]
  },
  {
   "cell_type": "code",
   "execution_count": 9,
   "metadata": {},
   "outputs": [],
   "source": [
    "class CharStackedLSTM:\n",
    "    \n",
    "    def __init__(self, X_length, X_indices, y, n_of_classes, dic, hidden_dims=[32, 16]):\n",
    "        \n",
    "        with tf.variable_scope('lstm_input_layer'):\n",
    "            self._X_length = X_length\n",
    "            self._X_indices = X_indices\n",
    "            self._y = y\n",
    "            self._keep_prob = tf.placeholder(dtype=tf.float32)\n",
    "            \n",
    "            one_hot = tf.eye(len(dic), dtype=tf.float32)\n",
    "            self._one_hot = tf.get_variable(name='one_hot_embedding', initializer=one_hot,\n",
    "                                           trainable=False)\n",
    "            self._X_batch = tf.nn.embedding_lookup(params=self._one_hot, ids=self._X_indices)\n",
    "            \n",
    "        with tf.variable_scope('lstm_stacked'):\n",
    "            \n",
    "            cells=[]\n",
    "            for hidden_dim in hidden_dims:\n",
    "                cell = tf.nn.rnn_cell.BasicLSTMCell(num_units=hidden_dim, activation=tf.nn.tanh)\n",
    "                cell = tf.nn.rnn_cell.DropoutWrapper(cell=cell, output_keep_prob=self._keep_prob)\n",
    "                cells.append(cell)\n",
    "            else:\n",
    "                cells = tf.nn.rnn_cell.MultiRNNCell(cells=cells)\n",
    "                \n",
    "            _, self.states = tf.nn.dynamic_rnn(cell=cells,inputs=self._X_batch,\n",
    "                                              sequence_length=self._X_length, dtype=tf.float32)\n",
    "            \n",
    "        with tf.variable_scope('lstm_output'):\n",
    "            self._score = slim.fully_connected(inputs=self.states[-1].h, num_outputs=n_of_classes,\n",
    "                                              activation_fn=None)\n",
    "            \n",
    "        with tf.variable_scope('loss'):\n",
    "            self.ce_loss = tf.losses.softmax_cross_entropy(onehot_labels=self._y, logits=self._score)\n",
    "            \n",
    "        with tf.variable_scope('prediction'):\n",
    "            self._prediction = tf.argmax(input=self._score, axis=-1, output_type=tf.int32)\n",
    "            \n",
    "    def predict(self, sess, X_length, X_indices, keep_prob=1.):\n",
    "        feed_prediction={self._X_length:X_length, self._X_indices:X_indices, self._keep_prob:keep_prob}\n",
    "        return sess.run(self._prediction, feed_dict=feed_prediction)"
   ]
  },
  {
   "cell_type": "markdown",
   "metadata": {},
   "source": [
    "```python\n",
    "char_stacked_rnn.states\n",
    "\n",
    "(LSTMStateTuple(c=<tf.Tensor 'lstm_stacked/rnn/while/Exit_3:0' shape=(?, 32) dtype=float32>, h=<tf.Tensor 'lstm_stacked/rnn/while/Exit_4:0' shape=(?, 32) dtype=float32>),\n",
    " LSTMStateTuple(c=<tf.Tensor 'lstm_stacked/rnn/while/Exit_5:0' shape=(?, 16) dtype=float32>, h=<tf.Tensor 'lstm_stacked/rnn/while/Exit_6:0' shape=(?, 16) dtype=float32>))\n",
    "```"
   ]
  },
  {
   "cell_type": "code",
   "execution_count": 10,
   "metadata": {},
   "outputs": [],
   "source": [
    "class CharStackedGRU:\n",
    "    def __init__(self, X_length, X_indices, y, n_of_classes, dic, hidden_dims=[32,16]):\n",
    "        \n",
    "        with tf.variable_scope('gru_input_layer'):\n",
    "            self._X_length = X_length\n",
    "            self._X_indices = X_indices\n",
    "            self._y = y\n",
    "            self._keep_prob = tf.placeholder(dtype = tf.float32)\n",
    "            \n",
    "            one_hot = tf.eye(len(dic), dtype = tf.float32)\n",
    "            self._one_hot = tf.get_variable(name='one_hot_embedding', initializer = one_hot,\n",
    "                                            trainable = False) # embedding vector training 안할 것이기 때문\n",
    "            self._X_batch = tf.nn.embedding_lookup(params = self._one_hot, ids = self._X_indices)\n",
    "            \n",
    "        with tf.variable_scope('gru_stacked'):\n",
    "            \n",
    "            cells = []\n",
    "            for hidden_dim in hidden_dims:\n",
    "                cell = tf.nn.rnn_cell.GRUCell(num_units=hidden_dim, activation=tf.nn.tanh)\n",
    "                cell = tf.nn.rnn_cell.DropoutWrapper(cell=cell, output_keep_prob=self._keep_prob)\n",
    "                cells.append(cell)\n",
    "            else:\n",
    "                cells = tf.nn.rnn_cell.MultiRNNCell(cells=cells)\n",
    "                \n",
    "            _, self.state = tf.nn.dynamic_rnn(cell=cells, inputs=self._X_batch,\n",
    "                                        sequence_length=self._X_length, dtype=tf.float32)\n",
    "            \n",
    "        with tf.variable_scope('gru_output'):\n",
    "            self._score = slim.fully_connected(inputs=self.state[-1], num_outputs=n_of_classes,\n",
    "                                              activation_fn=None)\n",
    "            \n",
    "        with tf.variable_scope('gru_loss'):\n",
    "            self.ce_loss = tf.losses.softmax_cross_entropy(onehot_labels=self._y, logits=self._score)\n",
    "            \n",
    "    def predict(self, sess, X_length, X_indices, keep_prob=1.0):\n",
    "        feed_prediction={self._X_length:X_length, self._X_indices:X_indices, self._keep_prob:keep_prob}\n",
    "        return sess.run(self._prediction, feed_dict=feed_prediction)"
   ]
  },
  {
   "cell_type": "markdown",
   "metadata": {},
   "source": [
    "```python\n",
    "char_stacked_rnn.state\n",
    "\n",
    "(<tf.Tensor 'gru_stacked/rnn/while/Exit_3:0' shape=(?, 32) dtype=float32>,\n",
    " <tf.Tensor 'gru_stacked/rnn/while/Exit_4:0' shape=(?, 16) dtype=float32>)\n",
    "```"
   ]
  },
  {
   "cell_type": "code",
   "execution_count": 11,
   "metadata": {},
   "outputs": [
    {
     "name": "stdout",
     "output_type": "stream",
     "text": [
      "3\n"
     ]
    }
   ],
   "source": [
    "lr=0.003\n",
    "epochs = 10\n",
    "batch_size = 2\n",
    "total_step = int(np.shape(X_indices)[0] / batch_size)\n",
    "print(total_step)"
   ]
  },
  {
   "cell_type": "code",
   "execution_count": 12,
   "metadata": {},
   "outputs": [
    {
     "name": "stdout",
     "output_type": "stream",
     "text": [
      "<BatchDataset shapes: ((?,), (?, 10), (?, 2)), types: (tf.int32, tf.int32, tf.float32)>\n"
     ]
    }
   ],
   "source": [
    "tr_dataset = tf.data.Dataset.from_tensor_slices((X_length, X_indices, y))\n",
    "tr_dataset = tr_dataset.shuffle(buffer_size=20)\n",
    "tr_dataset = tr_dataset.batch(batch_size=batch_size)\n",
    "tr_iterator = tr_dataset.make_initializable_iterator()\n",
    "print(tr_dataset)"
   ]
  },
  {
   "cell_type": "code",
   "execution_count": 13,
   "metadata": {},
   "outputs": [],
   "source": [
    "X_length_mb, X_indices_mb, y_mb = tr_iterator.get_next()"
   ]
  },
  {
   "cell_type": "code",
   "execution_count": 14,
   "metadata": {},
   "outputs": [],
   "source": [
    "char_stacked_rnn = CharStackedGRU(X_length=X_length_mb, X_indices=X_indices_mb, y=y_mb, \n",
    "                                 n_of_classes=2,dic=char_dic)"
   ]
  },
  {
   "cell_type": "code",
   "execution_count": 16,
   "metadata": {},
   "outputs": [],
   "source": [
    "opt = tf.train.AdamOptimizer(learning_rate=lr)\n",
    "training_op = opt.minimize(loss=char_stacked_rnn.ce_loss)"
   ]
  },
  {
   "cell_type": "code",
   "execution_count": 17,
   "metadata": {},
   "outputs": [
    {
     "name": "stdout",
     "output_type": "stream",
     "text": [
      "epoch :   1, tr_loss : 0.701\n",
      "epoch :   2, tr_loss : 0.672\n",
      "epoch :   3, tr_loss : 0.642\n",
      "epoch :   4, tr_loss : 0.613\n",
      "epoch :   5, tr_loss : 0.559\n",
      "epoch :   6, tr_loss : 0.510\n",
      "epoch :   7, tr_loss : 0.412\n",
      "epoch :   8, tr_loss : 0.329\n",
      "epoch :   9, tr_loss : 0.255\n",
      "epoch :  10, tr_loss : 0.201\n"
     ]
    }
   ],
   "source": [
    "sess = tf.Session()\n",
    "sess.run(tf.global_variables_initializer())\n",
    "\n",
    "tr_loss_hist = []\n",
    "\n",
    "for epoch in range(epochs):\n",
    "    avg_tr_loss = 0\n",
    "    tr_step = 0\n",
    "    \n",
    "    sess.run(tr_iterator.initializer)\n",
    "    \n",
    "    try:\n",
    "        while True:\n",
    "            _, tr_loss = sess.run([training_op, char_stacked_rnn.ce_loss],\n",
    "                                 feed_dict={char_stacked_rnn._keep_prob : 0.5})\n",
    "            \n",
    "            avg_tr_loss += tr_loss\n",
    "            tr_step += 1\n",
    "            \n",
    "    except tf.errors.OutOfRangeError:\n",
    "        pass\n",
    "    \n",
    "    avg_tr_loss /= tr_step\n",
    "    tr_loss_hist.append(avg_tr_loss)\n",
    "    \n",
    "    print('epoch : {:3}, tr_loss : {:.3f}'.format(epoch+1, avg_tr_loss))"
   ]
  },
  {
   "cell_type": "code",
   "execution_count": 18,
   "metadata": {},
   "outputs": [
    {
     "data": {
      "text/plain": [
       "[<matplotlib.lines.Line2D at 0x178aae6f400>]"
      ]
     },
     "execution_count": 18,
     "metadata": {},
     "output_type": "execute_result"
    },
    {
     "data": {
      "image/png": "[encoded data removed]",
      "text/plain": [
       "<Figure size 432x288 with 1 Axes>"
      ]
     },
     "metadata": {},
     "output_type": "display_data"
    }
   ],
   "source": [
    "plt.plot(tr_loss_hist, label='train')"
   ]
  },
  {
   "cell_type": "code",
   "execution_count": 19,
   "metadata": {},
   "outputs": [],
   "source": [
    "yhat = char_stacked_rnn.predict(sess=sess, X_length=X_length, X_indices=X_indices)"
   ]
  },
  {
   "cell_type": "code",
   "execution_count": 20,
   "metadata": {},
   "outputs": [
    {
     "name": "stdout",
     "output_type": "stream",
     "text": [
      "training acc: 83.33%\n"
     ]
    }
   ],
   "source": [
    "print('training acc: {:.2%}'.format(np.mean(yhat==np.argmax(y, axis=-1))))"
   ]
  },
  {
   "cell_type": "code",
   "execution_count": null,
   "metadata": {},
   "outputs": [],
   "source": []
  }
 ],
 "metadata": {
  "kernelspec": {
   "display_name": "Python 3",
   "language": "python",
   "name": "python3"
  },
  "language_info": {
   "codemirror_mode": {
    "name": "ipython",
    "version": 3
   },
   "file_extension": ".py",
   "mimetype": "text/x-python",
   "name": "python",
   "nbconvert_exporter": "python",
   "pygments_lexer": "ipython3",
   "version": "3.5.5"
  }
 },
 "nbformat": 4,
 "nbformat_minor": 2
}
