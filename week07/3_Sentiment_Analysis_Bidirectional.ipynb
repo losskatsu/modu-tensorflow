{
 "cells": [
  {
   "cell_type": "code",
   "execution_count": 1,
   "metadata": {},
   "outputs": [
    {
     "name": "stdout",
     "output_type": "stream",
     "text": [
      "WARNING:tensorflow:From D:\\Program Files\\Anaconda3\\envs\\tensorflow_1_7\\lib\\site-packages\\tensorflow\\contrib\\learn\\python\\learn\\datasets\\base.py:198: retry (from tensorflow.contrib.learn.python.learn.datasets.base) is deprecated and will be removed in a future version.\n",
      "Instructions for updating:\n",
      "Use the retry module or similar alternatives.\n",
      "1.7.0\n"
     ]
    }
   ],
   "source": [
    "import os, sys\n",
    "import numpy as np\n",
    "import matplotlib.pyplot as plt\n",
    "import tensorflow as tf\n",
    "import string\n",
    "%matplotlib inline\n",
    "\n",
    "slim = tf.contrib.slim\n",
    "print(tf.__version__)"
   ]
  },
  {
   "cell_type": "code",
   "execution_count": 2,
   "metadata": {},
   "outputs": [],
   "source": [
    "words = ['good', 'bad', 'amazing', 'so good', 'bull shit', 'awesome']\n",
    "y = [[1.,0.], [0.,1.], [1.,0.], [1., 0.],[0.,1.], [1.,0.]]"
   ]
  },
  {
   "cell_type": "code",
   "execution_count": 3,
   "metadata": {},
   "outputs": [
    {
     "data": {
      "text/plain": [
       "'abcdefghijklmnopqrstuvwxyz *'"
      ]
     },
     "execution_count": 3,
     "metadata": {},
     "output_type": "execute_result"
    }
   ],
   "source": [
    "# Character quantization\n",
    "char_space = string.ascii_lowercase \n",
    "char_space = char_space + ' ' + '*'\n",
    "char_space"
   ]
  },
  {
   "cell_type": "code",
   "execution_count": 4,
   "metadata": {},
   "outputs": [
    {
     "name": "stdout",
     "output_type": "stream",
     "text": [
      "{'x': 23, ' ': 26, 'h': 7, 'g': 6, 's': 18, 'o': 14, 'b': 1, 'i': 8, 'f': 5, 'z': 25, 'n': 13, 'j': 9, 'a': 0, 'p': 15, '*': 27, 'l': 11, 'e': 4, 'y': 24, 'u': 20, 'v': 21, 'w': 22, 't': 19, 'r': 17, 'k': 10, 'd': 3, 'q': 16, 'm': 12, 'c': 2}\n"
     ]
    }
   ],
   "source": [
    "char_dic = {char : idx for idx, char in enumerate(char_space)}\n",
    "print(char_dic)"
   ]
  },
  {
   "cell_type": "code",
   "execution_count": 5,
   "metadata": {},
   "outputs": [],
   "source": [
    "def pad_seq(sequences, max_len, dic):\n",
    "    seq_len, seq_indices = [], []\n",
    "    for seq in sequences:\n",
    "        seq_len.append(len(seq))\n",
    "        seq_idx = [dic.get(char) for char in seq]\n",
    "        seq_idx += (max_len - len(seq_idx)) * [dic.get('*')] # 27 is idx of meaningless token \"*\"\n",
    "        seq_indices.append(seq_idx)\n",
    "    return seq_len, seq_indices"
   ]
  },
  {
   "cell_type": "code",
   "execution_count": 6,
   "metadata": {},
   "outputs": [],
   "source": [
    "max_length = 10\n",
    "X_length, X_indices = pad_seq(sequences = words, max_len = max_length, dic = char_dic)"
   ]
  },
  {
   "cell_type": "code",
   "execution_count": 7,
   "metadata": {},
   "outputs": [
    {
     "name": "stdout",
     "output_type": "stream",
     "text": [
      "[4, 3, 7, 7, 9, 7]\n",
      "(6, 10)\n"
     ]
    }
   ],
   "source": [
    "print(X_length)\n",
    "print(np.shape(X_indices))"
   ]
  },
  {
   "cell_type": "code",
   "execution_count": 8,
   "metadata": {},
   "outputs": [],
   "source": [
    "class CharStackedBiRNN:\n",
    "    def __init__(self, X_length, X_indices, y, n_of_classes, hidden_dims, dic):\n",
    "        \n",
    "        with tf.variable_scope('rnn_input_layer'):\n",
    "            self._X_length = X_length\n",
    "            self._X_indices = X_indices\n",
    "            self._y = y\n",
    "            \n",
    "            one_hot = tf.eye(len(dic), dtype=tf.float32)\n",
    "            self._one_hot = tf.get_variable(name='one_hot_embedding', initializer=one_hot,\n",
    "                                           trainable=False)\n",
    "            self._X_batch = tf.nn.embedding_lookup(params=self._one_hot, ids=self._X_indices)\n",
    "            self._keep_prob = tf.placeholder(dtype=tf.float32)\n",
    "            \n",
    "        with tf.variable_scope('stacked_bi_rnn'):\n",
    "            rnn_fw_cells = []\n",
    "            for hidden_dim in hidden_dims:\n",
    "                rnn_fw_cell = tf.nn.rnn_cell.BasicRNNCell(num_units=hidden_dim,activation=tf.nn.tanh)\n",
    "                rnn_fw_cell = tf.nn.rnn_cell.DropoutWrapper(cell=rnn_fw_cell, \n",
    "                                                            output_keep_prob=self._keep_prob)\n",
    "                rnn_fw_cells.append(rnn_fw_cell)\n",
    "            rnn_bw_cells = []\n",
    "            for hidden_dim in hidden_dims:\n",
    "                rnn_bw_cell = tf.nn.rnn_cell.BasicRNNCell(num_units=hidden_dim,activation=tf.nn.tanh)\n",
    "                rnn_bw_cell = tf.nn.rnn_cell.DropoutWrapper(cell=rnn_bw_cell,\n",
    "                                                            output_keep_prob=self._keep_prob)\n",
    "                rnn_bw_cells.append(rnn_bw_cell)\n",
    "                \n",
    "            _, self.output_state_fw, self.output_state_bw = \\\n",
    "            tf.contrib.rnn.stack_bidirectional_dynamic_rnn(cells_fw=rnn_fw_cells, cells_bw=rnn_bw_cells, \n",
    "                                                          inputs=self._X_batch,\n",
    "                                                          sequence_length=self._X_length,\n",
    "                                                          dtype=tf.float32)\n",
    "            # [batch, hidden_unit]으로 최종 state가 나오므로 axis=1로 주어서 hidden_unit을 기준으로 concat\n",
    "            final_state = tf.concat([self.output_state_fw[-1], self.output_state_bw[-1]], axis=1)\n",
    "            \n",
    "        with tf.variable_scope('rnn_output'):\n",
    "            self._score = slim.fully_connected(inputs=final_state, num_outputs=n_of_classes,\n",
    "                                              activation_fn=None)\n",
    "            \n",
    "        with tf.variable_scope('loss'):\n",
    "            self.ce_loss = tf.losses.softmax_cross_entropy(onehot_labels=self._y, logits=self._score)\n",
    "            \n",
    "        with tf.variable_scope('prediction'):\n",
    "            self._prediction = tf.argmax(input=self._score,axis=-1,output_type=tf.int32)\n",
    "            \n",
    "    def predict(self, sess, X_length, X_indices, keep_prob=1.0):\n",
    "        feed_prediction = {self._X_length:X_length, self._X_indices:X_indices, self._keep_prob:keep_prob}\n",
    "        return sess.run(self._prediction, feed_dict=feed_prediction)"
   ]
  },
  {
   "cell_type": "markdown",
   "metadata": {},
   "source": [
    "```python\n",
    "char_stacked_bi_rnn.output_state_bw\n",
    "\n",
    "(<tf.Tensor 'stacked_bi_rnn/stack_bidirectional_rnn/cell_0/bidirectional_rnn/bw/bw/while/Exit_3:0' shape=(?, 16) dtype=float32>,\n",
    " <tf.Tensor 'stacked_bi_rnn/stack_bidirectional_rnn/cell_1/bidirectional_rnn/bw/bw/while/Exit_3:0' shape=(?, 16) dtype=float32>)\n",
    "\n",
    "\n",
    "char_stacked_bi_rnn.output_state_fw\n",
    "(<tf.Tensor 'stacked_bi_rnn/stack_bidirectional_rnn/cell_0/bidirectional_rnn/fw/fw/while/Exit_3:0' shape=(?, 16) dtype=float32>,\n",
    " <tf.Tensor 'stacked_bi_rnn/stack_bidirectional_rnn/cell_1/bidirectional_rnn/fw/fw/while/Exit_3:0' shape=(?, 16) dtype=float32>)\n",
    "```"
   ]
  },
  {
   "cell_type": "code",
   "execution_count": 9,
   "metadata": {},
   "outputs": [],
   "source": [
    "class CharStackedBiLSTM:\n",
    "    def __init__(self, X_length, X_indices, y, n_of_classes, hidden_dims, dic):\n",
    "        \n",
    "        # data pipeline\n",
    "        with tf.variable_scope('input_layer'):\n",
    "            self._X_length = X_length\n",
    "            self._X_indices = X_indices\n",
    "            self._y = y\n",
    "            \n",
    "            one_hot = tf.eye(len(dic), dtype = tf.float32)\n",
    "            self._one_hot = tf.get_variable(name='one_hot_embedding', initializer = one_hot,\n",
    "                                            trainable = False) # embedding vector training 안할 것이기 때문\n",
    "            self._X_batch = tf.nn.embedding_lookup(params = self._one_hot, ids = self._X_indices)\n",
    "            self._keep_prob = tf.placeholder(dtype = tf.float32)\n",
    "        \n",
    "        # Stacked Bi-directional LSTM with Drop out\n",
    "        with tf.variable_scope('stacked_bi-directional_lstm'):\n",
    "            \n",
    "            # forward \n",
    "            lstm_fw_cells = []\n",
    "            for hidden_dim in hidden_dims:\n",
    "                lstm_fw_cell = tf.nn.rnn_cell.BasicRNNCell(num_units = hidden_dim, activation = tf.nn.tanh)\n",
    "                lstm_fw_cell = tf.nn.rnn_cell.DropoutWrapper(cell = lstm_fw_cell,\n",
    "                                                             output_keep_prob = self._keep_prob)\n",
    "                lstm_fw_cells.append(lstm_fw_cell)\n",
    "            \n",
    "            # backword\n",
    "            lstm_bw_cells = []\n",
    "            for hidden_dim in hidden_dims:\n",
    "                lstm_bw_cell = tf.nn.rnn_cell.BasicRNNCell(num_units = hidden_dim, activation = tf.nn.tanh)\n",
    "                lstm_bw_cell = tf.nn.rnn_cell.DropoutWrapper(cell = lstm_bw_cell,\n",
    "                                                             output_keep_prob = self._keep_prob)\n",
    "                lstm_bw_cells.append(lstm_bw_cell)\n",
    "            \n",
    "            _, self.output_state_fw, self.output_state_bw = \\\n",
    "            tf.contrib.rnn.stack_bidirectional_dynamic_rnn(cells_fw = lstm_fw_cells, cells_bw = lstm_bw_cells,\n",
    "                                                           inputs = self._X_batch,\n",
    "                                                           sequence_length = self._X_length,\n",
    "                                                           dtype = tf.float32)\n",
    "\n",
    "            final_state = tf.concat([self.output_state_fw[-1], self.output_state_bw[-1]], axis = 1)\n",
    "\n",
    "        with tf.variable_scope('output_layer'):\n",
    "            self._score = slim.fully_connected(inputs = final_state, num_outputs = n_of_classes,\n",
    "                                               activation_fn = None)\n",
    "            \n",
    "        with tf.variable_scope('loss'):\n",
    "            self.ce_loss = tf.losses.softmax_cross_entropy(onehot_labels = self._y, logits = self._score)\n",
    "            \n",
    "        with tf.variable_scope('prediction'):\n",
    "            self._prediction = tf.argmax(input = self._score, axis = -1, output_type = tf.int32)\n",
    "    \n",
    "    def predict(self, sess, X_length, X_indices, keep_prob = 1.):\n",
    "        feed_prediction = {self._X_length : X_length, self._X_indices : X_indices, self._keep_prob : keep_prob}\n",
    "        return sess.run(self._prediction, feed_dict = feed_prediction)"
   ]
  },
  {
   "cell_type": "markdown",
   "metadata": {},
   "source": [
    "```python\n",
    "char_stacked_bi_rnn.output_state_fw\n",
    "\n",
    "(<tf.Tensor 'stacked_bi-directional_lstm/stack_bidirectional_rnn/cell_0/bidirectional_rnn/fw/fw/while/Exit_3:0' shape=(?, 16) dtype=float32>,\n",
    " <tf.Tensor 'stacked_bi-directional_lstm/stack_bidirectional_rnn/cell_1/bidirectional_rnn/fw/fw/while/Exit_3:0' shape=(?, 16) dtype=float32>)\n",
    "\n",
    "char_stacked_bi_rnn.output_state_bw\n",
    "(<tf.Tensor 'stacked_bi-directional_lstm/stack_bidirectional_rnn/cell_0/bidirectional_rnn/bw/bw/while/Exit_3:0' shape=(?, 16) dtype=float32>,\n",
    " <tf.Tensor 'stacked_bi-directional_lstm/stack_bidirectional_rnn/cell_1/bidirectional_rnn/bw/bw/while/Exit_3:0' shape=(?, 16) dtype=float32>)\n",
    "```"
   ]
  },
  {
   "cell_type": "code",
   "execution_count": 10,
   "metadata": {},
   "outputs": [],
   "source": [
    "class CharStackBiGRU:\n",
    "    def __init__(self, X_length, X_indices, y, n_of_classes, hidden_dims, dic):\n",
    "        \n",
    "        with tf.variable_scope('gru_input'):\n",
    "            self._X_length = X_length\n",
    "            self._X_indices = X_indices\n",
    "            self._y = y\n",
    "            \n",
    "            one_hot = tf.eye(len(dic), dtype=tf.float32)\n",
    "            self._one_hot = tf.get_variable(name='one_hot_embedding', initializer=one_hot,\n",
    "                                           trainable = False)\n",
    "            self._X_batch = tf.nn.embedding_lookup(params=self._one_hot, ids=self._X_indices)\n",
    "            self._keep_prob = tf.placeholder(dtype=tf.float32)\n",
    "            \n",
    "        with tf.variable_scope('stacked_bi_gru'):\n",
    "            \n",
    "            gru_fw_cells = []\n",
    "            for hidden_dim in hidden_dims:\n",
    "                gru_fw_cell = tf.nn.rnn_cell.GRUCell(num_units=hidden_dim,activation=tf.nn.tanh)\n",
    "                gru_fw_cell = tf.nn.rnn_cell.DropoutWrapper(cell=gru_fw_cell,output_keep_prob=self._keep_prob)\n",
    "                gru_fw_cells.append(gru_fw_cell)\n",
    "                \n",
    "            gru_bw_cells = []\n",
    "            for hidden_dim in hidden_dims:\n",
    "                gru_bw_cell = tf.nn.rnn_cell.GRUCell(num_units=hidden_dim,activation=tf.nn.tanh)\n",
    "                gru_bw_cell = tf.nn.rnn_cell.DropoutWrapper(cell=gru_bw_cell,output_keep_prob=self._keep_prob)\n",
    "                gru_bw_cells.append(gru_bw_cell)\n",
    "            \n",
    "            _, self.output_state_fw, self.output_state_bw = \\\n",
    "            tf.contrib.rnn.stack_bidirectional_dynamic_rnn(cells_fw = gru_fw_cells, cells_bw = gru_bw_cells,\n",
    "                                                           inputs = self._X_batch,\n",
    "                                                           sequence_length = self._X_length,\n",
    "                                                           dtype = tf.float32)\n",
    "            \n",
    "            final_state = tf.concat([self.output_state_fw[-1], self.output_state_bw[-1]], axis=1)\n",
    "            \n",
    "        with tf.variable_scope('gur_output'):\n",
    "            self._score = slim.fully_connected(inputs=final_state,num_outputs=n_of_classes,activation_fn=None)\n",
    "            \n",
    "        with tf.variable_scope('gru_loss'):\n",
    "            self.ce_loss = tf.losses.softmax_cross_entropy(onehot_labels=self._y, logits=self._score)\n",
    "            \n",
    "        with tf.variable_scope('gru_prediction'):\n",
    "            self._prediction = tf.argmax(input=self._score, axis=-1, output_type=tf.int32)\n",
    "            \n",
    "    def predict(self, sess, X_length, X_indices, keep_prob=1.0):\n",
    "        feed_prediction={self._X_length:X_length, self._X_indices:X_indices, self._keep_prob:keep_prob}\n",
    "        return sess.run(self._prediction, feed_dict=feed_prediction)"
   ]
  },
  {
   "cell_type": "markdown",
   "metadata": {},
   "source": [
    "```python\n",
    "char_stacked_bi_rnn.output_state_bw\n",
    "\n",
    "(<tf.Tensor 'stacked_bi_gru/stack_bidirectional_rnn/cell_0/bidirectional_rnn/bw/bw/while/Exit_3:0' shape=(?, 16) dtype=float32>,\n",
    " <tf.Tensor 'stacked_bi_gru/stack_bidirectional_rnn/cell_1/bidirectional_rnn/bw/bw/while/Exit_3:0' shape=(?, 16) dtype=float32>)\n",
    "\n",
    "char_stacked_bi_rnn.output_state_fw\n",
    "(<tf.Tensor 'stacked_bi_gru/stack_bidirectional_rnn/cell_0/bidirectional_rnn/fw/fw/while/Exit_3:0' shape=(?, 16) dtype=float32>,\n",
    " <tf.Tensor 'stacked_bi_gru/stack_bidirectional_rnn/cell_1/bidirectional_rnn/fw/fw/while/Exit_3:0' shape=(?, 16) dtype=float32>)\n",
    "```"
   ]
  },
  {
   "cell_type": "code",
   "execution_count": 11,
   "metadata": {},
   "outputs": [
    {
     "name": "stdout",
     "output_type": "stream",
     "text": [
      "3\n"
     ]
    }
   ],
   "source": [
    "lr = 0.003\n",
    "epochs = 10\n",
    "batch_size = 2\n",
    "total_step = int(np.shape(X_indices)[0] / batch_size)\n",
    "print(total_step)"
   ]
  },
  {
   "cell_type": "code",
   "execution_count": 12,
   "metadata": {},
   "outputs": [],
   "source": [
    "tr_dataset = tf.data.Dataset.from_tensor_slices((X_length, X_indices, y))"
   ]
  },
  {
   "cell_type": "code",
   "execution_count": 13,
   "metadata": {},
   "outputs": [
    {
     "name": "stdout",
     "output_type": "stream",
     "text": [
      "<BatchDataset shapes: ((?,), (?, 10), (?, 2)), types: (tf.int32, tf.int32, tf.float32)>\n"
     ]
    }
   ],
   "source": [
    "tr_dataset = tr_dataset.shuffle(buffer_size=20)\n",
    "tr_dataset = tr_dataset.batch(batch_size=batch_size)\n",
    "tr_iterator = tr_dataset.make_initializable_iterator()\n",
    "print(tr_dataset)"
   ]
  },
  {
   "cell_type": "code",
   "execution_count": 14,
   "metadata": {},
   "outputs": [],
   "source": [
    "X_length_mb, X_indices_mb, y_mb = tr_iterator.get_next()"
   ]
  },
  {
   "cell_type": "code",
   "execution_count": 15,
   "metadata": {},
   "outputs": [],
   "source": [
    "char_stacked_bi_rnn = CharStackBiGRU(X_length=X_length_mb, X_indices=X_indices_mb,\n",
    "                                      y=y_mb, n_of_classes=2, hidden_dims=[16,16], dic=char_dic)"
   ]
  },
  {
   "cell_type": "code",
   "execution_count": 17,
   "metadata": {},
   "outputs": [],
   "source": [
    "opt = tf.train.AdamOptimizer(learning_rate=lr)\n",
    "training_op = opt.minimize(char_stacked_bi_rnn.ce_loss)"
   ]
  },
  {
   "cell_type": "code",
   "execution_count": 18,
   "metadata": {},
   "outputs": [
    {
     "name": "stdout",
     "output_type": "stream",
     "text": [
      "epoch :   1, tr_loss: 1.106\n",
      "epoch :   2, tr_loss: 0.680\n",
      "epoch :   3, tr_loss: 0.651\n",
      "epoch :   4, tr_loss: 0.433\n",
      "epoch :   5, tr_loss: 0.414\n",
      "epoch :   6, tr_loss: 0.368\n",
      "epoch :   7, tr_loss: 0.288\n",
      "epoch :   8, tr_loss: 0.200\n",
      "epoch :   9, tr_loss: 0.165\n",
      "epoch :  10, tr_loss: 0.190\n"
     ]
    }
   ],
   "source": [
    "sess = tf.Session()\n",
    "sess.run(tf.global_variables_initializer())\n",
    "\n",
    "tr_loss_hist = []\n",
    "\n",
    "for epoch in range(epochs):\n",
    "    avg_tr_loss = 0\n",
    "    tr_step = 0\n",
    "    \n",
    "    sess.run(tr_iterator.initializer)\n",
    "    try:\n",
    "        while True:\n",
    "            _, tr_loss = sess.run([training_op, char_stacked_bi_rnn.ce_loss],\n",
    "                                 feed_dict={char_stacked_bi_rnn._keep_prob : 0.5})\n",
    "            avg_tr_loss += tr_loss\n",
    "            tr_step +=1\n",
    "    except tf.errors.OutOfRangeError:\n",
    "        pass\n",
    "    \n",
    "    avg_tr_loss /= tr_step\n",
    "    tr_loss_hist.append(avg_tr_loss)\n",
    "    \n",
    "    print('epoch : {:3}, tr_loss: {:.3f}'.format(epoch+1, avg_tr_loss))"
   ]
  },
  {
   "cell_type": "code",
   "execution_count": 19,
   "metadata": {},
   "outputs": [
    {
     "data": {
      "text/plain": [
       "[<matplotlib.lines.Line2D at 0x15d5fa3ac18>]"
      ]
     },
     "execution_count": 19,
     "metadata": {},
     "output_type": "execute_result"
    },
    {
     "data": {
      "image/png": "[encoded data removed]",
      "text/plain": [
       "<Figure size 432x288 with 1 Axes>"
      ]
     },
     "metadata": {},
     "output_type": "display_data"
    }
   ],
   "source": [
    "plt.plot(tr_loss_hist, label='train')"
   ]
  },
  {
   "cell_type": "code",
   "execution_count": 20,
   "metadata": {},
   "outputs": [],
   "source": [
    "yhat = char_stacked_bi_rnn.predict(sess, X_length, X_indices)"
   ]
  },
  {
   "cell_type": "code",
   "execution_count": 21,
   "metadata": {},
   "outputs": [
    {
     "name": "stdout",
     "output_type": "stream",
     "text": [
      "trainign acc:100.00%\n"
     ]
    }
   ],
   "source": [
    "print('trainign acc:{:.2%}'.format(np.mean(yhat==np.argmax(y, axis=-1))))"
   ]
  },
  {
   "cell_type": "code",
   "execution_count": null,
   "metadata": {},
   "outputs": [],
   "source": []
  }
 ],
 "metadata": {
  "kernelspec": {
   "display_name": "Python 3",
   "language": "python",
   "name": "python3"
  },
  "language_info": {
   "codemirror_mode": {
    "name": "ipython",
    "version": 3
   },
   "file_extension": ".py",
   "mimetype": "text/x-python",
   "name": "python",
   "nbconvert_exporter": "python",
   "pygments_lexer": "ipython3",
   "version": "3.5.5"
  }
 },
 "nbformat": 4,
 "nbformat_minor": 2
}
