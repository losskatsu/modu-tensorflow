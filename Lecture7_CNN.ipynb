{
 "cells": [
  {
   "cell_type": "markdown",
   "metadata": {},
   "source": [
    "## 1. Agenda\n",
    "\n",
    "- `Convolutions without training`\n",
    "\n",
    "- `Convert with MNIST`\n",
    "\n",
    "- `tf.layers`"
   ]
  },
  {
   "cell_type": "markdown",
   "metadata": {},
   "source": [
    "## 2. Understanding convolutions\n",
    "\n",
    "**Convolutions in math and physics**\n",
    "\n",
    "a function derived from two given functions by integration that expresses how the shape of one is modified by the other.\n",
    "\n",
    "How an input is transformed by a kernel(filter/feature map)\n",
    "\n",
    "**Convolutions in machine learning**\n",
    "\n",
    "We can use one single convolutional layer to modify a certain image"
   ]
  },
  {
   "cell_type": "markdown",
   "metadata": {},
   "source": [
    "Matrix multiplication of this kernel with a 3x3 patch of an image is a weighted sum of neighboring pixels"
   ]
  },
  {
   "cell_type": "code",
   "execution_count": 1,
   "metadata": {},
   "outputs": [],
   "source": [
    "# Kernelr for blurring\n",
    "blur = [[0.0625, 0.125, 0.0625],\n",
    "       [0.125, 0.25, 0.125],\n",
    "       [0.0625, 0.125, 0.0625]]\n"
   ]
  },
  {
   "cell_type": "markdown",
   "metadata": {},
   "source": [
    "## 3. Convolutions in Tensorflow\n",
    "\n",
    "We can use one single convolutional layer to midify a certain image\n",
    "\n",
    "- `tf.nn.conv2d(input, filter, strides, padding, use_cudnn_on_gpu=True, data_format='NHWC', dilations=[1,1,1,1], name=None`\n",
    "\n",
    "input = Batch size(N) x Height (H) x Width(W) x Channels(C)\n",
    "\n",
    "filter = Height x Width x Input Channels x Output Channels\n",
    "\n",
    "stides = 4 element 1-D tensor, strides in each direction\n",
    "\n",
    "padding = 'SAME' or 'VALID'"
   ]
  },
  {
   "cell_type": "code",
   "execution_count": 2,
   "metadata": {},
   "outputs": [],
   "source": [
    "import numpy as np\n",
    "import tensorflow as tf\n"
   ]
  },
  {
   "cell_type": "code",
   "execution_count": 3,
   "metadata": {
    "scrolled": true
   },
   "outputs": [
    {
     "name": "stdout",
     "output_type": "stream",
     "text": [
      "[[[[0. 0. 0.]\n",
      "   [0. 0. 0.]\n",
      "   [0. 0. 0.]]\n",
      "\n",
      "  [[0. 0. 0.]\n",
      "   [0. 0. 0.]\n",
      "   [0. 0. 0.]]\n",
      "\n",
      "  [[0. 0. 0.]\n",
      "   [0. 0. 0.]\n",
      "   [0. 0. 0.]]]\n",
      "\n",
      "\n",
      " [[[0. 0. 0.]\n",
      "   [0. 0. 0.]\n",
      "   [0. 0. 0.]]\n",
      "\n",
      "  [[0. 0. 0.]\n",
      "   [0. 0. 0.]\n",
      "   [0. 0. 0.]]\n",
      "\n",
      "  [[0. 0. 0.]\n",
      "   [0. 0. 0.]\n",
      "   [0. 0. 0.]]]\n",
      "\n",
      "\n",
      " [[[0. 0. 0.]\n",
      "   [0. 0. 0.]\n",
      "   [0. 0. 0.]]\n",
      "\n",
      "  [[0. 0. 0.]\n",
      "   [0. 0. 0.]\n",
      "   [0. 0. 0.]]\n",
      "\n",
      "  [[0. 0. 0.]\n",
      "   [0. 0. 0.]\n",
      "   [0. 0. 0.]]]]\n"
     ]
    }
   ],
   "source": [
    "a = np.zeros([3,3,3,3])\n",
    "print(a)"
   ]
  },
  {
   "cell_type": "code",
   "execution_count": 4,
   "metadata": {},
   "outputs": [],
   "source": [
    "a[1,1,:,:] = 0.25\n",
    "a[0,1,:,:] = 0.125\n",
    "a[1,0,:,:] = 0.125\n",
    "a[2,1,:,:] = 0.125\n",
    "a[1,2,:,:] = 0.125\n",
    "a[0,0,:,:] = 0.0625\n",
    "a[0,2,:,:] = 0.0625\n",
    "a[2,0,:,:] = 0.0625\n",
    "a[2,2,:,:] = 0.0625"
   ]
  },
  {
   "cell_type": "code",
   "execution_count": 5,
   "metadata": {
    "scrolled": true
   },
   "outputs": [
    {
     "name": "stdout",
     "output_type": "stream",
     "text": [
      "[[[[0.0625 0.0625 0.0625]\n",
      "   [0.0625 0.0625 0.0625]\n",
      "   [0.0625 0.0625 0.0625]]\n",
      "\n",
      "  [[0.125  0.125  0.125 ]\n",
      "   [0.125  0.125  0.125 ]\n",
      "   [0.125  0.125  0.125 ]]\n",
      "\n",
      "  [[0.0625 0.0625 0.0625]\n",
      "   [0.0625 0.0625 0.0625]\n",
      "   [0.0625 0.0625 0.0625]]]\n",
      "\n",
      "\n",
      " [[[0.125  0.125  0.125 ]\n",
      "   [0.125  0.125  0.125 ]\n",
      "   [0.125  0.125  0.125 ]]\n",
      "\n",
      "  [[0.25   0.25   0.25  ]\n",
      "   [0.25   0.25   0.25  ]\n",
      "   [0.25   0.25   0.25  ]]\n",
      "\n",
      "  [[0.125  0.125  0.125 ]\n",
      "   [0.125  0.125  0.125 ]\n",
      "   [0.125  0.125  0.125 ]]]\n",
      "\n",
      "\n",
      " [[[0.0625 0.0625 0.0625]\n",
      "   [0.0625 0.0625 0.0625]\n",
      "   [0.0625 0.0625 0.0625]]\n",
      "\n",
      "  [[0.125  0.125  0.125 ]\n",
      "   [0.125  0.125  0.125 ]\n",
      "   [0.125  0.125  0.125 ]]\n",
      "\n",
      "  [[0.0625 0.0625 0.0625]\n",
      "   [0.0625 0.0625 0.0625]\n",
      "   [0.0625 0.0625 0.0625]]]]\n"
     ]
    }
   ],
   "source": [
    "print(a)"
   ]
  },
  {
   "cell_type": "code",
   "execution_count": 6,
   "metadata": {},
   "outputs": [],
   "source": [
    "BLUR_FILTER_RGB = tf.constant(a, dtype=tf.float32)"
   ]
  },
  {
   "cell_type": "code",
   "execution_count": 7,
   "metadata": {},
   "outputs": [
    {
     "name": "stdout",
     "output_type": "stream",
     "text": [
      "[[[[1.]]\n",
      "\n",
      "  [[1.]]\n",
      "\n",
      "  [[1.]]]\n",
      "\n",
      "\n",
      " [[[1.]]\n",
      "\n",
      "  [[1.]]\n",
      "\n",
      "  [[1.]]]\n",
      "\n",
      "\n",
      " [[[1.]]\n",
      "\n",
      "  [[1.]]\n",
      "\n",
      "  [[1.]]]]\n"
     ]
    }
   ],
   "source": [
    "a = np.zeros([3,3,1,1])\n",
    "a[1,1,:,:] = 1.0\n",
    "a[0, 1, :, :] = 1.0\n",
    "a[1, 0, :, :] = 1.0\n",
    "a[2, 1, :, :] = 1.0\n",
    "a[1, 2, :, :] = 1.0\n",
    "a[0, 0, :, :] = 1.0\n",
    "a[0, 2, :, :] = 1.0\n",
    "a[2, 0, :, :] = 1.0\n",
    "a[2, 2, :, :] = 1.0\n",
    "print(a)"
   ]
  },
  {
   "cell_type": "code",
   "execution_count": 8,
   "metadata": {},
   "outputs": [],
   "source": [
    "BLUR_FILTER = tf.constant(a, dtype=tf.float32)"
   ]
  },
  {
   "cell_type": "code",
   "execution_count": 9,
   "metadata": {},
   "outputs": [],
   "source": [
    "a = np.zeros([3, 3, 3, 3])\n",
    "a[1, 1, :, :] = 5\n",
    "a[0, 1, :, :] = -1\n",
    "a[1, 0, :, :] = -1\n",
    "a[2, 1, :, :] = -1\n",
    "a[1, 2, :, :] = -1\n",
    "\n",
    "SHARPEN_FILTER_RGB = tf.constant(a, dtype=tf.float32)"
   ]
  },
  {
   "cell_type": "code",
   "execution_count": 10,
   "metadata": {},
   "outputs": [],
   "source": [
    "a = np.zeros([3, 3, 1, 1])\n",
    "a[1, 1, :, :] = 5\n",
    "a[0, 1, :, :] = -1\n",
    "a[1, 0, :, :] = -1\n",
    "a[2, 1, :, :] = -1\n",
    "a[1, 2, :, :] = -1\n",
    "\n",
    "SHARPEN_FILTER = tf.constant(a, dtype=tf.float32)"
   ]
  },
  {
   "cell_type": "code",
   "execution_count": 11,
   "metadata": {},
   "outputs": [],
   "source": [
    "EDGE_FILTER_RGB = tf.constant([\n",
    "\t\t\t[[[ -1., 0., 0.], [ 0., -1., 0.], [ 0., 0., -1.]],\n",
    "            [[ -1., 0., 0.], [ 0., -1., 0.], [ 0., 0., -1.]],\n",
    "            [[ -1., 0., 0.], [ 0., -1., 0.], [ 0., 0., -1.]]],\n",
    "            [[[ -1., 0., 0.], [ 0., -1., 0.], [ 0., 0., -1.]],\n",
    "\t\t\t[[ 8., 0., 0.], [ 0., 8., 0.], [ 0., 0., 8.]],\n",
    "\t\t\t[[ -1., 0., 0.], [ 0., -1., 0.], [ 0., 0., -1.]]],\n",
    "\t\t\t[[[ -1., 0., 0.], [ 0., -1., 0.], [ 0., 0., -1.]],\n",
    "\t\t\t[[ -1., 0., 0.], [ 0., -1., 0.], [ 0., 0., -1.]],\n",
    "\t\t\t[[ -1., 0., 0.], [ 0., -1., 0.], [ 0., 0., -1.]]]\n",
    "])"
   ]
  },
  {
   "cell_type": "code",
   "execution_count": 12,
   "metadata": {},
   "outputs": [],
   "source": [
    "a = np.zeros([3, 3, 1, 1])\n",
    "# a[:, :, :, :] = -1\n",
    "# a[1, 1, :, :] = 8\n",
    "a[0, 1, :, :] = -1\n",
    "a[1, 0, :, :] = -1\n",
    "a[1, 2, :, :] = -1\n",
    "a[2, 1, :, :] = -1\n",
    "a[1, 1, :, :] = 4\n",
    "\n",
    "EDGE_FILTER = tf.constant(a, dtype=tf.float32)"
   ]
  },
  {
   "cell_type": "code",
   "execution_count": 13,
   "metadata": {},
   "outputs": [],
   "source": [
    "a = np.zeros([3, 3, 3, 3])\n",
    "a[0, :, :, :] = 1\n",
    "a[0, 1, :, :] = 2 # originally 2\n",
    "a[2, :, :, :] = -1\n",
    "a[2, 1, :, :] = -2\n",
    "\n",
    "TOP_SOBEL_RGB = tf.constant(a, dtype=tf.float32)"
   ]
  },
  {
   "cell_type": "code",
   "execution_count": 14,
   "metadata": {},
   "outputs": [],
   "source": [
    "a = np.zeros([3, 3, 1, 1])\n",
    "a[0, :, :, :] = 1\n",
    "a[0, 1, :, :] = 2 # originally 2\n",
    "a[2, :, :, :] = -1\n",
    "a[2, 1, :, :] = -2\n",
    "\n",
    "TOP_SOBEL = tf.constant(a, dtype=tf.float32)"
   ]
  },
  {
   "cell_type": "code",
   "execution_count": 15,
   "metadata": {},
   "outputs": [],
   "source": [
    "a = np.zeros([3, 3, 3, 3])\n",
    "a[0, 0, :, :] = -2\n",
    "a[0, 1, :, :] = -1 \n",
    "a[1, 0, :, :] = -1\n",
    "a[1, 1, :, :] = 1\n",
    "a[1, 2, :, :] = 1\n",
    "a[2, 1, :, :] = 1\n",
    "a[2, 2, :, :] = 2\n",
    "\n",
    "EMBOSS_FILTER_RGB = tf.constant(a, dtype=tf.float32)"
   ]
  },
  {
   "cell_type": "code",
   "execution_count": 16,
   "metadata": {},
   "outputs": [],
   "source": [
    "a = np.zeros([3, 3, 1, 1])\n",
    "a[0, 0, :, :] = -2\n",
    "a[0, 1, :, :] = -1 \n",
    "a[1, 0, :, :] = -1\n",
    "a[1, 1, :, :] = 1\n",
    "a[1, 2, :, :] = 1\n",
    "a[2, 1, :, :] = 1\n",
    "a[2, 2, :, :] = 2\n",
    "EMBOSS_FILTER = tf.constant(a, dtype=tf.float32)"
   ]
  },
  {
   "cell_type": "code",
   "execution_count": 18,
   "metadata": {},
   "outputs": [
    {
     "data": {
      "image/png": "[encoded data removed]",
      "text/plain": [
       "<Figure size 432x288 with 5 Axes>"
      ]
     },
     "metadata": {},
     "output_type": "display_data"
    }
   ],
   "source": [
    "from matplotlib import gridspec as gridspec\n",
    "from matplotlib import pyplot as plt\n",
    "\n",
    "def read_one_image(filename):\n",
    "    ''' This method is to show how to read image from a file into a tensor.\n",
    "    The output is a tensor object.\n",
    "    '''\n",
    "    image_string = tf.read_file(filename)\n",
    "    image_decoded = tf.image.decode_image(image_string)\n",
    "    image = tf.cast(image_decoded, tf.float32) / 256.0\n",
    "    return image\n",
    "\n",
    "def convolve(image, kernels, rgb=True, strides=[1, 3, 3, 1], padding='SAME'):\n",
    "    images = [image[0]]\n",
    "    for i, kernel in enumerate(kernels):\n",
    "        filtered_image = tf.nn.conv2d(image, \n",
    "                                      kernel, \n",
    "                                      strides=strides,\n",
    "                                      padding=padding)[0]\n",
    "        if i == 2:\n",
    "            filtered_image = tf.minimum(tf.nn.relu(filtered_image), 255)\n",
    "        images.append(filtered_image)\n",
    "    return images\n",
    "\n",
    "def show_images(images, rgb=True):\n",
    "    gs = gridspec.GridSpec(1, len(images))\n",
    "    for i, image in enumerate(images):\n",
    "        plt.subplot(gs[0, i])\n",
    "        if rgb:\n",
    "            plt.imshow(image)\n",
    "        else: \n",
    "            image = image.reshape(image.shape[0], image.shape[1])\n",
    "            plt.imshow(image, cmap='gray')\n",
    "        plt.axis('off')\n",
    "    plt.show()\n",
    "\n",
    "def main():\n",
    "    rgb = False\n",
    "    if rgb:\n",
    "        kernels_list = [BLUR_FILTER_RGB, \n",
    "                        SHARPEN_FILTER_RGB, \n",
    "                        EDGE_FILTER_RGB,\n",
    "                        TOP_SOBEL_RGB,\n",
    "                        EMBOSS_FILTER_RGB]\n",
    "    else:\n",
    "        kernels_list = [BLUR_FILTER,\n",
    "                        SHARPEN_FILTER,\n",
    "                        EDGE_FILTER,\n",
    "                        TOP_SOBEL,\n",
    "                        EMBOSS_FILTER]\n",
    "\n",
    "    kernels_list = kernels_list[1:]\n",
    "    image = read_one_image('data/friday.jpg')\n",
    "    if not rgb:\n",
    "        image = tf.image.rgb_to_grayscale(image)\n",
    "    image = tf.expand_dims(image, 0) # make it into a batch of 1 element\n",
    "    images = convolve(image, kernels_list, rgb)\n",
    "    with tf.Session() as sess:\n",
    "        images = sess.run(images) # convert images from tensors to float values\n",
    "    show_images(images, rgb)\n",
    "\n",
    "if __name__ == '__main__':\n",
    "    main()"
   ]
  },
  {
   "cell_type": "markdown",
   "metadata": {},
   "source": [
    "## 4. ConvNet with MNIST"
   ]
  },
  {
   "cell_type": "markdown",
   "metadata": {},
   "source": [
    "### padding\n",
    "\n",
    "Input width=13, Filter width = 6, Stride = 5\n",
    "\n",
    "VALID = without padding ,  only ever drops the right-most columns(or bottom-most rows)\n",
    "\n",
    "input : {1 2 3 4 5 {6} 7 8 9 10 11}(12 13)\n",
    "\n",
    "\n",
    "SAME = with zero padding, tries to pad evenly left and right, but if the amount of columns to be added is odd, it will add the extra column to the right.\n",
    "\n",
    "input {0 1 2 3 4 {5} 6 7 8 9 {10} 11 12 13 0 0}"
   ]
  },
  {
   "cell_type": "code",
   "execution_count": null,
   "metadata": {},
   "outputs": [],
   "source": []
  },
  {
   "cell_type": "code",
   "execution_count": 1,
   "metadata": {},
   "outputs": [
    {
     "name": "stdout",
     "output_type": "stream",
     "text": [
      "WARNING:tensorflow:From D:\\Program Files\\Anaconda3\\envs\\tensorflow_1_7\\lib\\site-packages\\tensorflow\\contrib\\learn\\python\\learn\\datasets\\base.py:198: retry (from tensorflow.contrib.learn.python.learn.datasets.base) is deprecated and will be removed in a future version.\n",
      "Instructions for updating:\n",
      "Use the retry module or similar alternatives.\n"
     ]
    }
   ],
   "source": [
    "import time\n",
    "import tensorflow as tf\n",
    "from tensorflow.examples.tutorials.mnist import input_data\n",
    "\n",
    "import utils"
   ]
  },
  {
   "cell_type": "code",
   "execution_count": 2,
   "metadata": {},
   "outputs": [
    {
     "name": "stdout",
     "output_type": "stream",
     "text": [
      "WARNING:tensorflow:From <ipython-input-2-5449d16eba46>:5: read_data_sets (from tensorflow.contrib.learn.python.learn.datasets.mnist) is deprecated and will be removed in a future version.\n",
      "Instructions for updating:\n",
      "Please use alternatives such as official/mnist/dataset.py from tensorflow/models.\n",
      "WARNING:tensorflow:From D:\\Program Files\\Anaconda3\\envs\\tensorflow_1_7\\lib\\site-packages\\tensorflow\\contrib\\learn\\python\\learn\\datasets\\mnist.py:260: maybe_download (from tensorflow.contrib.learn.python.learn.datasets.base) is deprecated and will be removed in a future version.\n",
      "Instructions for updating:\n",
      "Please write your own downloading logic.\n",
      "WARNING:tensorflow:From D:\\Program Files\\Anaconda3\\envs\\tensorflow_1_7\\lib\\site-packages\\tensorflow\\contrib\\learn\\python\\learn\\datasets\\mnist.py:262: extract_images (from tensorflow.contrib.learn.python.learn.datasets.mnist) is deprecated and will be removed in a future version.\n",
      "Instructions for updating:\n",
      "Please use tf.data to implement this functionality.\n",
      "Extracting /data/mnist\\train-images-idx3-ubyte.gz\n",
      "WARNING:tensorflow:From D:\\Program Files\\Anaconda3\\envs\\tensorflow_1_7\\lib\\site-packages\\tensorflow\\contrib\\learn\\python\\learn\\datasets\\mnist.py:267: extract_labels (from tensorflow.contrib.learn.python.learn.datasets.mnist) is deprecated and will be removed in a future version.\n",
      "Instructions for updating:\n",
      "Please use tf.data to implement this functionality.\n",
      "Extracting /data/mnist\\train-labels-idx1-ubyte.gz\n",
      "WARNING:tensorflow:From D:\\Program Files\\Anaconda3\\envs\\tensorflow_1_7\\lib\\site-packages\\tensorflow\\contrib\\learn\\python\\learn\\datasets\\mnist.py:110: dense_to_one_hot (from tensorflow.contrib.learn.python.learn.datasets.mnist) is deprecated and will be removed in a future version.\n",
      "Instructions for updating:\n",
      "Please use tf.one_hot on tensors.\n",
      "Extracting /data/mnist\\t10k-images-idx3-ubyte.gz\n",
      "Extracting /data/mnist\\t10k-labels-idx1-ubyte.gz\n",
      "WARNING:tensorflow:From D:\\Program Files\\Anaconda3\\envs\\tensorflow_1_7\\lib\\site-packages\\tensorflow\\contrib\\learn\\python\\learn\\datasets\\mnist.py:290: DataSet.__init__ (from tensorflow.contrib.learn.python.learn.datasets.mnist) is deprecated and will be removed in a future version.\n",
      "Instructions for updating:\n",
      "Please use alternatives such as official/mnist/dataset.py from tensorflow/models.\n"
     ]
    }
   ],
   "source": [
    "N_CLASSES = 10\n",
    "\n",
    "# Step1 : Read in data\n",
    "# using TF learn's built in function to laoad MNIST\n",
    "mnist = input_data.read_data_sets(\"/data/mnist\", one_hot=True)"
   ]
  },
  {
   "cell_type": "code",
   "execution_count": 3,
   "metadata": {},
   "outputs": [],
   "source": [
    "# Step2 : Define parameters for the model\n",
    "LEARNING_RATE = 0.001\n",
    "BATCH_SIZE = 128\n",
    "SKIP_STEP = 10\n",
    "DROPOUT = 0.75\n",
    "N_EPOCHS = 1"
   ]
  },
  {
   "cell_type": "code",
   "execution_count": 4,
   "metadata": {},
   "outputs": [],
   "source": [
    "# Step3 : create placeholders for features and labels\n",
    "# each image in the MNIS datga is of shape 28*28 = 784\n",
    "# therefore each image is represented with a 1x784 tensor\n",
    "# We'll be doing dropout for hidden layer so we'll need a placeholder\n",
    "# for the dropout probability too\n",
    "# Use None for shape so we can change the batch_size once we've built the graph\n",
    "with tf.name_scope('data'):\n",
    "    X = tf.placeholder(tf.float32, [None, 784], name='X_placeholder')\n",
    "    Y = tf.placeholder(tf.float32, [None, 10], name='Y_placeholder')\n",
    "    \n",
    "dropout = tf.placeholder(tf.float32, name='dropout')"
   ]
  },
  {
   "cell_type": "code",
   "execution_count": 5,
   "metadata": {},
   "outputs": [],
   "source": [
    "# Step 4+5 :create weights + do inference\n",
    "# the model is conv -> relu -> pool -> conv -> relu -> pool -> fully connected -> softmax\n",
    "\n",
    "global_step = tf.Variable(0, dtype=tf.int32, trainable=False, name='global_step')\n",
    "\n",
    "with tf.variable_scope('conv1') as scope:\n",
    "    # first, reshpae the image to [BATCH_SIZE, 28, 28, 1] to make it work with  tf.nn.conv2d\n",
    "    images = tf.reshape(X, shape=[-1, 28, 28, 1])\n",
    "    kernel = tf.get_variable('kernel', [5,5,1,32], initializer=tf.truncated_normal_initializer())\n",
    "    biases = tf.get_variable('biases', [32], initializer=tf.random_normal_initializer())\n",
    "    conv = tf.nn.conv2d(images, kernel, strides=[1,1,1,1], padding='SAME')\n",
    "    conv1 = tf.nn.relu(conv + biases, name=scope.name)\n",
    "    \n",
    "    # output is of dimension BATCH_SIZE x 28 x 28 x 32\n",
    "    # conv1 = tf.contrib.layers.conv2d(images, 32, 5, 1, activation_fn=tf.nn.relu, padding='SAME')\n",
    "    \n",
    "with tf.variable_scope('pool1') as scope:\n",
    "    pool1 = tf.nn.max_pool(conv1, ksize=[1,2,2,1], strides=[1,2,2,1], padding='SAME')\n",
    "    \n",
    "with tf.variable_scope('conv2') as scope:\n",
    "    kernel = tf.get_variable('kernels', [5,5,32,64], initializer=tf.truncated_normal_initializer())\n",
    "    biases = tf.get_variable('biases', [64], initializer=tf.random_normal_initializer())\n",
    "    conv = tf.nn.conv2d(pool1, kernel, strides=[1,1,1,1], padding='SAME')\n",
    "    conv2 = tf.nn.relu(conv+biases, name=scope.name)\n",
    "    \n",
    "with tf.variable_scope('pool2') as scope:\n",
    "    pool2 = tf.nn.max_pool(conv2, ksize=[1,2,2,1], strides=[1,2,2,1], padding='SAME')\n",
    "    \n",
    "with tf.variable_scope('fc') as scope:\n",
    "    input_features = 7*7*64\n",
    "    w = tf.get_variable('weights', [input_features, 1024], initializer=tf.truncated_normal_initializer())\n",
    "    b = tf.get_variable('biases', [1024], initializer=tf.constant_initializer(0.0))\n",
    "    \n",
    "    pool2 = tf.reshape(pool2, [-1, input_features])\n",
    "    fc = tf.nn.relu(tf.matmul(pool2, w) + b, name='relu')\n",
    "    \n",
    "    # pool2 = layers.flatten(pool2)\n",
    "    # fc = layers.fully_connected(pool2, 1024, tf.nn.relu)\n",
    "    \n",
    "    fc = tf.nn.dropout(fc, dropout, name='relu_dropout')\n",
    "    \n",
    "with tf.variable_scope('softmax_linear') as scope:\n",
    "    w = tf.get_variable('weights', [1024, N_CLASSES], initializer=tf.truncated_normal_initializer())\n",
    "    b = tf.get_variable('biases', [N_CLASSES], initializer=tf.random_normal_initializer())\n",
    "    logits = tf.matmul(fc, w) + b"
   ]
  },
  {
   "cell_type": "code",
   "execution_count": 6,
   "metadata": {},
   "outputs": [
    {
     "name": "stdout",
     "output_type": "stream",
     "text": [
      "WARNING:tensorflow:From <ipython-input-6-5386ce64e5c2>:5: softmax_cross_entropy_with_logits (from tensorflow.python.ops.nn_ops) is deprecated and will be removed in a future version.\n",
      "Instructions for updating:\n",
      "\n",
      "Future major versions of TensorFlow will allow gradients to flow\n",
      "into the labels input on backprop by default.\n",
      "\n",
      "See tf.nn.softmax_cross_entropy_with_logits_v2.\n",
      "\n",
      "INFO:tensorflow:Summary name histogram loss is illegal; using histogram_loss instead.\n"
     ]
    }
   ],
   "source": [
    "# Step 6: define loss function\n",
    "# use softmax cross entropy with logits as the loss function\n",
    "# compute mean cross entropy, softmax is applied internally\n",
    "with tf.name_scope('loss'):\n",
    "    entropy = tf.nn.softmax_cross_entropy_with_logits(labels=Y, logits=logits)\n",
    "    loss = tf.reduce_mean(entropy, name='loss')\n",
    "    \n",
    "with tf.name_scope('summaries'):\n",
    "    tf.summary.scalar('loss', loss)\n",
    "    tf.summary.histogram('histogram loss', loss)\n",
    "    summary_op =  tf.summary.merge_all()"
   ]
  },
  {
   "cell_type": "code",
   "execution_count": 7,
   "metadata": {},
   "outputs": [],
   "source": [
    "# Step 7: define trainig op\n",
    "# using gradient descent with learning rate of LEARNING RATE to minimize cost\n",
    "optimizer = tf.train.AdamOptimizer(LEARNING_RATE).minimize(loss, global_step=global_step)\n",
    "\n",
    "utils.make_dir('checkpoints')\n",
    "utils.make_dir('checkpoints/convnet_mnist')"
   ]
  },
  {
   "cell_type": "code",
   "execution_count": 9,
   "metadata": {
    "scrolled": true
   },
   "outputs": [
    {
     "name": "stdout",
     "output_type": "stream",
     "text": [
      "Average loss at step 10: 24726.8\n",
      "Average loss at step 20: 14294.9\n",
      "Average loss at step 30: 8917.2\n",
      "Average loss at step 40: 6323.6\n",
      "Average loss at step 50: 4861.0\n",
      "Average loss at step 60: 3766.8\n",
      "Average loss at step 70: 3294.9\n",
      "Average loss at step 80: 2475.9\n",
      "Average loss at step 90: 2361.7\n",
      "Average loss at step 100: 2229.0\n",
      "Average loss at step 110: 2042.0\n",
      "Average loss at step 120: 2073.5\n",
      "Average loss at step 130: 1653.0\n",
      "Average loss at step 140: 1721.7\n",
      "Average loss at step 150: 1456.4\n",
      "Average loss at step 160: 1288.7\n",
      "Average loss at step 170: 1233.6\n",
      "Average loss at step 180: 1094.8\n",
      "Average loss at step 190: 1305.5\n",
      "Average loss at step 200: 1067.7\n",
      "Average loss at step 210: 952.4\n",
      "Average loss at step 220: 1023.8\n",
      "Average loss at step 230: 1035.4\n",
      "Average loss at step 240: 1176.2\n",
      "Average loss at step 250: 967.6\n",
      "Average loss at step 260: 773.6\n",
      "Average loss at step 270: 953.9\n",
      "Average loss at step 280: 928.8\n",
      "Average loss at step 290: 810.8\n",
      "Average loss at step 300: 764.9\n",
      "Average loss at step 310: 857.3\n",
      "Average loss at step 320: 698.1\n",
      "Average loss at step 330: 800.5\n",
      "Average loss at step 340: 751.5\n",
      "Average loss at step 350: 660.8\n",
      "Average loss at step 360: 643.7\n",
      "Average loss at step 370: 580.2\n",
      "Average loss at step 380: 600.2\n",
      "Average loss at step 390: 659.3\n",
      "Average loss at step 400: 599.7\n",
      "Average loss at step 410: 608.1\n",
      "Average loss at step 420: 599.1\n",
      "Optimization Finished\n",
      "Total time:13.682405710220337 seconds\n",
      "Accuracy 0.9543\n"
     ]
    }
   ],
   "source": [
    "import os \n",
    "\n",
    "with tf.Session() as sess:\n",
    "    sess.run(tf.global_variables_initializer())\n",
    "    saver = tf.train.Saver()\n",
    "    \n",
    "    writer = tf.summary.FileWriter('./graphs/convnet', sess.graph)\n",
    "    ckpt = tf.train.get_checkpoint_state(os.path.dirname('checkpints/convnet_mnist/checkpoint'))\n",
    "    # if that checkpoint exists, restore from checkpoint\n",
    "    if ckpt and ckpt.model_checkpoint_path:\n",
    "        saver.restore(sess, ckpt.model_checkpoint_path)\n",
    "        \n",
    "    initial_step = global_step.eval()\n",
    "    \n",
    "    start_time = time.time()\n",
    "    n_batches = int(mnist.train.num_examples / BATCH_SIZE)\n",
    "    \n",
    "    total_loss = 0.0\n",
    "    for index in range(initial_step, n_batches*N_EPOCHS):\n",
    "        X_batch, Y_batch = mnist.train.next_batch(BATCH_SIZE)\n",
    "        _, loss_batch, summary = sess.run([optimizer, loss, summary_op], feed_dict={X:X_batch, Y:Y_batch, dropout:DROPOUT})\n",
    "        \n",
    "        writer.add_summary(summary, global_step=index)\n",
    "        total_loss += loss_batch\n",
    "        \n",
    "        if(index + 1) % SKIP_STEP == 0:\n",
    "            print('Average loss at step {}: {:5.1f}'.format(index+1, total_loss/SKIP_STEP))\n",
    "            total_loss = 0.0\n",
    "            saver.save(sess, 'checkpoints/convnet_mnist/mnist-convnet', index)\n",
    "            \n",
    "    print(\"Optimization Finished\")\n",
    "    print(\"Total time:{0} seconds\".format(time.time() - start_time))\n",
    "    \n",
    "    # test the model\n",
    "    n_batches = int(mnist.test.num_examples/BATCH_SIZE)\n",
    "    total_correct_preds = 0\n",
    "    for i in range(n_batches):\n",
    "        X_batch, Y_batch = mnist.test.next_batch(BATCH_SIZE)\n",
    "        _, loss_batch, logits_batch = sess.run([optimizer, loss, logits], feed_dict={X:X_batch, Y:Y_batch, dropout:1.0})\n",
    "        preds = tf.nn.softmax(logits_batch)\n",
    "        correct_pres = tf.equal(tf.argmax(preds, 1), tf.argmax(Y_batch, 1))\n",
    "        accuracy = tf.reduce_sum(tf.cast(correct_pres, tf.float32))\n",
    "        total_correct_preds += sess.run(accuracy)\n",
    "        \n",
    "    print(\"Accuracy {0}\".format(total_correct_preds/mnist.test.num_examples))"
   ]
  },
  {
   "cell_type": "code",
   "execution_count": null,
   "metadata": {},
   "outputs": [],
   "source": [
    "import os\n",
    "import time\n",
    "\n",
    "import tensorflow as tf\n",
    "import utils\n",
    "\n",
    "def "
   ]
  },
  {
   "cell_type": "markdown",
   "metadata": {},
   "source": [
    "## 5. tf.layers\n",
    "\n",
    "- `conv1 = tf.layers.conv2d(inputs=self.img, filter=32, kernel_size=[5,5],padding='SAME', activation=tf.nn.relu, name='conv1'`\n",
    "\n",
    "\n",
    "- `pool1 = tf.layers.max_pooling2d(inputs=conv1, pool_size=[2,2], strides=2, name='pool1'`\n",
    "\n",
    "\n",
    "- `tf = tf.layers.dense(pool2, 1024, activation=tf.nn.relu, name='fc')`\n",
    "\n",
    "**dropout**\n",
    "\n",
    "Drop neurals during training, want to use all of them during testing\n",
    "- `self.training = tf.placeholder(tf.bool)`\n",
    "- `dropout = tf.layers.dropout(fc, self.keep_prob, training=self.training, name='dropout')`"
   ]
  },
  {
   "cell_type": "code",
   "execution_count": null,
   "metadata": {},
   "outputs": [],
   "source": []
  }
 ],
 "metadata": {
  "kernelspec": {
   "display_name": "Python 3",
   "language": "python",
   "name": "python3"
  },
  "language_info": {
   "codemirror_mode": {
    "name": "ipython",
    "version": 3
   },
   "file_extension": ".py",
   "mimetype": "text/x-python",
   "name": "python",
   "nbconvert_exporter": "python",
   "pygments_lexer": "ipython3",
   "version": "3.5.5"
  }
 },
 "nbformat": 4,
 "nbformat_minor": 2
}
