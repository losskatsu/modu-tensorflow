{
 "cells": [
  {
   "cell_type": "markdown",
   "metadata": {},
   "source": [
    "# MNIST convolutional neural networks with slim\n",
    "\n",
    "* MNIST data를 가지고 softmax classifier를 만들어보자.\n",
    "* [`tf.contrib.slim`](https://github.com/tensorflow/tensorflow/tree/master/tensorflow/contrib/slim) 참고"
   ]
  },
  {
   "cell_type": "markdown",
   "metadata": {},
   "source": [
    "### Import modules"
   ]
  },
  {
   "cell_type": "code",
   "execution_count": 1,
   "metadata": {},
   "outputs": [
    {
     "name": "stderr",
     "output_type": "stream",
     "text": [
      "/Users/shatapy/anaconda/lib/python3.5/importlib/_bootstrap.py:222: RuntimeWarning: compiletime version 3.6 of module 'tensorflow.python.framework.fast_tensor_util' does not match runtime version 3.5\n",
      "  return f(*args, **kwds)\n"
     ]
    }
   ],
   "source": [
    "\"\"\"A very simple MNIST classifier.\n",
    "\"\"\"\n",
    "from __future__ import absolute_import\n",
    "from __future__ import division\n",
    "from __future__ import print_function\n",
    "\n",
    "import numpy as np\n",
    "import time\n",
    "import tensorflow as tf\n",
    "\n",
    "slim = tf.contrib.slim\n",
    "\n",
    "sess_config = tf.ConfigProto(gpu_options=tf.GPUOptions(allow_growth=True))\n",
    "\n",
    "np.random.seed(219)\n",
    "tf.set_random_seed(219)"
   ]
  },
  {
   "cell_type": "markdown",
   "metadata": {},
   "source": [
    "### Import data"
   ]
  },
  {
   "cell_type": "code",
   "execution_count": 2,
   "metadata": {
    "collapsed": true
   },
   "outputs": [],
   "source": [
    "# Load training and eval data from tf.keras\n",
    "(train_data, train_labels), (test_data, test_labels) = \\\n",
    "    tf.keras.datasets.mnist.load_data()\n",
    "\n",
    "train_data = train_data / 255.\n",
    "train_labels = np.asarray(train_labels, dtype=np.int32)\n",
    "\n",
    "test_data = test_data / 255.\n",
    "test_labels = np.asarray(test_labels, dtype=np.int32)"
   ]
  },
  {
   "cell_type": "markdown",
   "metadata": {},
   "source": [
    "### Show the MNIST"
   ]
  },
  {
   "cell_type": "code",
   "execution_count": 3,
   "metadata": {},
   "outputs": [
    {
     "name": "stdout",
     "output_type": "stream",
     "text": [
      "label = 3\n"
     ]
    },
    {
     "data": {
      "image/png": "[encoded data removed]",
      "text/plain": [
       "<Figure size 432x288 with 1 Axes>"
      ]
     },
     "metadata": {},
     "output_type": "display_data"
    }
   ],
   "source": [
    "import numpy as np\n",
    "import matplotlib.pyplot as plt\n",
    "%matplotlib inline\n",
    "\n",
    "index = 500\n",
    "print(\"label = {}\".format(train_labels[index]))\n",
    "plt.imshow(train_data[index].reshape(28, 28), cmap='gray')\n",
    "plt.show()"
   ]
  },
  {
   "cell_type": "markdown",
   "metadata": {},
   "source": [
    "### Set up dataset with `tf.data`\n",
    "\n",
    "#### create input pipeline with `tf.data.Dataset`"
   ]
  },
  {
   "cell_type": "code",
   "execution_count": 4,
   "metadata": {},
   "outputs": [
    {
     "name": "stdout",
     "output_type": "stream",
     "text": [
      "<BatchDataset shapes: ((?, 28, 28), (?,)), types: (tf.float64, tf.int32)>\n",
      "<BatchDataset shapes: ((?, 28, 28), (?,)), types: (tf.float64, tf.int32)>\n"
     ]
    }
   ],
   "source": [
    "batch_size = 32\n",
    "\n",
    "# for train\n",
    "train_dataset = tf.data.Dataset.from_tensor_slices((train_data, train_labels))\n",
    "train_dataset = train_dataset.shuffle(buffer_size = 10000)\n",
    "train_dataset = train_dataset.batch(batch_size = batch_size)\n",
    "print(train_dataset)\n",
    "\n",
    "# for test\n",
    "test_dataset = tf.data.Dataset.from_tensor_slices((test_data, test_labels))\n",
    "test_dataset = test_dataset.shuffle(buffer_size = 10000)\n",
    "test_dataset = test_dataset.batch(batch_size = len(test_data))\n",
    "print(test_dataset)"
   ]
  },
  {
   "cell_type": "markdown",
   "metadata": {},
   "source": [
    "#### Define Iterator"
   ]
  },
  {
   "cell_type": "code",
   "execution_count": 5,
   "metadata": {
    "collapsed": true
   },
   "outputs": [],
   "source": [
    "# tf.data.Iterator.from_string_handle의 output_shapes는 default = None이지만 꼭 값을 넣는 게 좋음\n",
    "handle = tf.placeholder(tf.string, shape=[])\n",
    "iterator = tf.data.Iterator.from_string_handle(handle,\n",
    "                                               train_dataset.output_types,\n",
    "                                               train_dataset.output_shapes)\n",
    "x, y = iterator.get_next()\n",
    "x = tf.cast(x, dtype = tf.float32)\n",
    "y = tf.cast(y, dtype = tf.int32)"
   ]
  },
  {
   "cell_type": "markdown",
   "metadata": {},
   "source": [
    "## `tf.contrib.slim`\n",
    "\n",
    "```python\n",
    "from __future__ import absolute_import\n",
    "from __future__ import division\n",
    "from __future__ import print_function\n",
    "\n",
    "# pylint: disable=unused-import,line-too-long,g-importing-member,wildcard-import\n",
    "# TODO(jart): Delete non-slim imports\n",
    "from tensorflow.contrib import losses\n",
    "from tensorflow.contrib import metrics\n",
    "from tensorflow.contrib.framework.python.ops.arg_scope import *\n",
    "from tensorflow.contrib.framework.python.ops.variables import *\n",
    "from tensorflow.contrib.layers.python.layers import *\n",
    "from tensorflow.contrib.layers.python.layers.initializers import *\n",
    "from tensorflow.contrib.layers.python.layers.regularizers import *\n",
    "from tensorflow.contrib.slim.python.slim import evaluation\n",
    "from tensorflow.contrib.slim.python.slim import learning\n",
    "from tensorflow.contrib.slim.python.slim import model_analyzer\n",
    "from tensorflow.contrib.slim.python.slim import queues\n",
    "from tensorflow.contrib.slim.python.slim import summaries\n",
    "from tensorflow.contrib.slim.python.slim.data import data_decoder\n",
    "from tensorflow.contrib.slim.python.slim.data import data_provider\n",
    "from tensorflow.contrib.slim.python.slim.data import dataset\n",
    "from tensorflow.contrib.slim.python.slim.data import dataset_data_provider\n",
    "from tensorflow.contrib.slim.python.slim.data import parallel_reader\n",
    "from tensorflow.contrib.slim.python.slim.data import prefetch_queue\n",
    "from tensorflow.contrib.slim.python.slim.data import tfexample_decoder\n",
    "from tensorflow.python.util.all_util import make_all\n",
    "# pylint: enable=unused-import,line-too-long,g-importing-member,wildcard-import\n",
    "\n",
    "__all__ = make_all(__name__)\n",
    "```"
   ]
  },
  {
   "cell_type": "markdown",
   "metadata": {},
   "source": [
    "### Difference between [`tf.layers`](https://www.tensorflow.org/api_docs/python/tf/layers) and [`tf.contrib.layers`](https://www.tensorflow.org/api_docs/python/tf/contrib/layers)\n",
    "\n",
    "#### [`tf.layers.conv2d()`](https://www.tensorflow.org/api_docs/python/tf/layers/conv2d)\n",
    "```python\n",
    "tf.layers.conv2d(\n",
    "    inputs,\n",
    "    filters,\n",
    "    kernel_size,\n",
    "    strides=(1, 1),\n",
    "    padding='valid',\n",
    "    data_format='channels_last',\n",
    "    dilation_rate=(1, 1),\n",
    "    activation=None,\n",
    "    use_bias=True,\n",
    "    kernel_initializer=None,\n",
    "    bias_initializer=tf.zeros_initializer(),\n",
    "    kernel_regularizer=None,\n",
    "    bias_regularizer=None,\n",
    "    activity_regularizer=None,\n",
    "    kernel_constraint=None,\n",
    "    bias_constraint=None,\n",
    "    trainable=True,\n",
    "    name=None,\n",
    "    reuse=None\n",
    ")\n",
    "```\n",
    "\n",
    "#### [`slim.conv2d()`](https://www.tensorflow.org/api_docs/python/tf/contrib/layers/conv2d)\n",
    "```python\n",
    "tf.contrib.layers.conv2d(\n",
    "    inputs,\n",
    "    num_outputs,\n",
    "    kernel_size,\n",
    "    stride=1,\n",
    "    padding='SAME',\n",
    "    data_format=None,\n",
    "    rate=1,\n",
    "    activation_fn=tf.nn.relu,\n",
    "    normalizer_fn=None,\n",
    "    normalizer_params=None,\n",
    "    weights_initializer=initializers.xavier_initializer(),\n",
    "    weights_regularizer=None,\n",
    "    biases_initializer=tf.zeros_initializer(),\n",
    "    biases_regularizer=None,\n",
    "    reuse=None,\n",
    "    variables_collections=None,\n",
    "    outputs_collections=None,\n",
    "    trainable=True,\n",
    "    scope=None\n",
    ")\n",
    "```"
   ]
  },
  {
   "cell_type": "markdown",
   "metadata": {},
   "source": [
    "### Create the model"
   ]
  },
  {
   "cell_type": "code",
   "execution_count": 6,
   "metadata": {
    "collapsed": true
   },
   "outputs": [],
   "source": [
    "def cnn_model_fn(x):\n",
    "  \"\"\"Model function for CNN.\n",
    "  Args:\n",
    "    x: input images\n",
    "    mode: boolean whether trainig mode or test mode\n",
    "    \n",
    "  Returns:\n",
    "    logits: unnormalized score funtion\n",
    "  \"\"\"\n",
    "  # Input Layer\n",
    "  # Reshape X to 4-D tensor: [batch_size, width, height, channels]\n",
    "  # MNIST images are 28x28 pixels, and have one color channel\n",
    "  with tf.name_scope('reshape'):\n",
    "    x_image = tf.reshape(x, [-1, 28, 28, 1])\n",
    "\n",
    "  # Convolutional Layer #1\n",
    "  # Input Tensor Shape: [batch_size, 28, 28, 1]\n",
    "  # Output Tensor Shape: [batch_size, 28, 28, 32]\n",
    "  # 여기를 직접 채워 넣으시면 됩니다.\n",
    "  conv1 = slim.conv2d(x_image, 32, [5, 5])\n",
    "\n",
    "  # Pooling Layer #1\n",
    "  # Input Tensor Shape: [batch_size, 28, 28, 32]\n",
    "  # Output Tensor Shape: [batch_size, 14, 14, 32]\n",
    "  # 여기를 직접 채워 넣으시면 됩니다.\n",
    "  pool1 = slim.max_pool2d(conv1, [2, 2])\n",
    "  \n",
    "  # Convolutional Layer #2\n",
    "  # Input Tensor Shape: [batch_size, 14, 14, 32]\n",
    "  # Output Tensor Shape: [batch_size, 14, 14, 64]\n",
    "  # 여기를 직접 채워 넣으시면 됩니다.\n",
    "  conv2 = slim.conv2d(pool1, 64, [5, 5])\n",
    "\n",
    "  # Pooling Layer #2\n",
    "  # Second max pooling layer with a 2x2 filter and stride of 2\n",
    "  # Input Tensor Shape: [batch_size, 14, 14, 64]\n",
    "  # Output Tensor Shape: [batch_size, 7, 7, 64]\n",
    "  # 여기를 직접 채워 넣으시면 됩니다.\n",
    "  pool2 = slim.max_pool2d(conv2, [2, 2])\n",
    "\n",
    "  # Flatten tensor into a batch of vectors\n",
    "  # Input Tensor Shape: [batch_size, 7, 7, 64]\n",
    "  # Output Tensor Shape: [batch_size, 7 * 7 * 64]\n",
    "  # 여기를 직접 채워 넣으시면 됩니다.\n",
    "  pool2_flat = slim.flatten(pool2)\n",
    "  \n",
    "  # Fully connected Layer\n",
    "  # Input Tensor Shape: [batch_size, 7 * 7 * 64]\n",
    "  # Output Tensor Shape: [batch_size, 1024]\n",
    "  # 여기를 직접 채워 넣으시면 됩니다.\n",
    "  fc1 = slim.fully_connected(pool2_flat, 1024, activation_fn=tf.nn.relu)\n",
    "\n",
    "  # Add dropout operation; 0.6 probability that element will be kept\n",
    "  is_training = tf.placeholder(tf.bool)\n",
    "  # 여기를 직접 채워 넣으시면 됩니다.\n",
    "  fc1_drop = slim.dropout(fc1, 0.6, is_training=is_training)\n",
    "\n",
    "  # Logits layer\n",
    "  # Input Tensor Shape: [batch_size, 1024]\n",
    "  # Output Tensor Shape: [batch_size, 10]\n",
    "  # 여기를 직접 채워 넣으시면 됩니다.\n",
    "  logits = slim.fully_connected(fc1_drop, 10, activation_fn=tf.nn.relu)\n",
    "  \n",
    "  return logits, is_training, x_image"
   ]
  },
  {
   "cell_type": "markdown",
   "metadata": {},
   "source": [
    "### Build the model"
   ]
  },
  {
   "cell_type": "code",
   "execution_count": 7,
   "metadata": {},
   "outputs": [],
   "source": [
    "logits, is_training, x_image = cnn_model_fn(x)"
   ]
  },
  {
   "cell_type": "markdown",
   "metadata": {},
   "source": [
    "### Define loss and optimizer"
   ]
  },
  {
   "cell_type": "code",
   "execution_count": 8,
   "metadata": {},
   "outputs": [],
   "source": [
    "# 여기를 직접 채워 넣으시면 됩니다.\n",
    "y_one_hot = tf.one_hot(y, 10)\n",
    "cross_entropy = tf.reduce_mean(tf.losses.softmax_cross_entropy(logits=logits, onehot_labels=y_one_hot))\n",
    "\n",
    "train_step = tf.train.AdamOptimizer(1e-4).minimize(cross_entropy)"
   ]
  },
  {
   "cell_type": "markdown",
   "metadata": {},
   "source": [
    "### Assign `tf.summary.FileWriter`"
   ]
  },
  {
   "cell_type": "code",
   "execution_count": 9,
   "metadata": {},
   "outputs": [
    {
     "name": "stdout",
     "output_type": "stream",
     "text": [
      "Saving graph to: graphs/02_mnist_cnn_with_slim\n"
     ]
    }
   ],
   "source": [
    "graph_location = 'graphs/02_mnist_cnn_with_slim'\n",
    "print('Saving graph to: %s' % graph_location)\n",
    "train_writer = tf.summary.FileWriter(graph_location)\n",
    "train_writer.add_graph(tf.get_default_graph()) "
   ]
  },
  {
   "cell_type": "markdown",
   "metadata": {},
   "source": [
    "### `tf.summary`"
   ]
  },
  {
   "cell_type": "code",
   "execution_count": 10,
   "metadata": {
    "collapsed": true
   },
   "outputs": [],
   "source": [
    "with tf.name_scope('summaries'):\n",
    "  tf.summary.scalar('loss/cross_entropy', cross_entropy)\n",
    "  tf.summary.image('images', x_image)\n",
    "  for var in tf.trainable_variables():\n",
    "    tf.summary.histogram(var.op.name, var)\n",
    "  # merge all summaries\n",
    "  summary_op = tf.summary.merge_all()"
   ]
  },
  {
   "cell_type": "markdown",
   "metadata": {},
   "source": [
    "### `tf.Session()` and train"
   ]
  },
  {
   "cell_type": "code",
   "execution_count": 11,
   "metadata": {},
   "outputs": [
    {
     "name": "stdout",
     "output_type": "stream",
     "text": [
      "step: 0, loss: 2.31413\n",
      "step: 10, loss: 2.21872\n",
      "step: 20, loss: 2.11076\n",
      "step: 30, loss: 2.06672\n",
      "step: 40, loss: 1.81771\n",
      "step: 50, loss: 1.66868\n",
      "step: 60, loss: 1.47269\n",
      "step: 70, loss: 1.27892\n",
      "step: 80, loss: 1.17966\n",
      "step: 90, loss: 0.994523\n",
      "step: 100, loss: 0.620166\n",
      "step: 110, loss: 0.822477\n",
      "step: 120, loss: 0.45813\n",
      "step: 130, loss: 0.633566\n",
      "step: 140, loss: 0.390372\n",
      "step: 150, loss: 0.417386\n",
      "step: 160, loss: 0.299729\n",
      "step: 170, loss: 0.376684\n",
      "step: 180, loss: 0.316323\n",
      "step: 190, loss: 0.281795\n",
      "step: 200, loss: 0.416732\n",
      "step: 210, loss: 0.834931\n",
      "step: 220, loss: 0.507515\n",
      "step: 230, loss: 0.169468\n",
      "step: 240, loss: 0.353798\n",
      "step: 250, loss: 0.140062\n",
      "step: 260, loss: 0.278425\n",
      "step: 270, loss: 0.101519\n",
      "step: 280, loss: 0.42218\n",
      "step: 290, loss: 0.260041\n",
      "step: 300, loss: 0.422316\n",
      "step: 310, loss: 0.245676\n",
      "step: 320, loss: 0.258643\n",
      "step: 330, loss: 0.409888\n",
      "step: 340, loss: 0.40515\n",
      "step: 350, loss: 0.150999\n",
      "step: 360, loss: 0.31755\n",
      "step: 370, loss: 0.125788\n",
      "step: 380, loss: 0.199848\n",
      "step: 390, loss: 0.397922\n",
      "step: 400, loss: 0.246928\n",
      "step: 410, loss: 0.267351\n",
      "step: 420, loss: 0.222703\n",
      "step: 430, loss: 0.396011\n",
      "step: 440, loss: 0.254893\n",
      "step: 450, loss: 0.314108\n",
      "step: 460, loss: 0.125927\n",
      "step: 470, loss: 0.402241\n",
      "step: 480, loss: 0.397471\n",
      "step: 490, loss: 0.210791\n",
      "step: 500, loss: 0.132786\n",
      "step: 510, loss: 0.279918\n",
      "step: 520, loss: 0.133614\n",
      "step: 530, loss: 0.137703\n",
      "step: 540, loss: 0.0870287\n",
      "step: 550, loss: 0.229969\n",
      "step: 560, loss: 0.201935\n",
      "step: 570, loss: 0.240273\n",
      "step: 580, loss: 0.322794\n",
      "step: 590, loss: 0.250688\n",
      "step: 600, loss: 0.109895\n",
      "step: 610, loss: 0.124867\n",
      "step: 620, loss: 0.163486\n",
      "step: 630, loss: 0.149443\n",
      "step: 640, loss: 0.0903801\n",
      "step: 650, loss: 0.306435\n",
      "step: 660, loss: 0.293463\n",
      "step: 670, loss: 0.126605\n",
      "step: 680, loss: 0.125048\n",
      "step: 690, loss: 0.19083\n",
      "step: 700, loss: 0.276696\n",
      "step: 710, loss: 0.101562\n",
      "step: 720, loss: 0.48991\n",
      "step: 730, loss: 0.297372\n",
      "step: 740, loss: 0.124948\n",
      "step: 750, loss: 0.435398\n",
      "step: 760, loss: 0.123321\n",
      "step: 770, loss: 0.172491\n",
      "step: 780, loss: 0.0754761\n",
      "step: 790, loss: 0.0417487\n",
      "step: 800, loss: 0.321059\n",
      "step: 810, loss: 0.214037\n",
      "step: 820, loss: 0.0627355\n",
      "step: 830, loss: 0.179838\n",
      "step: 840, loss: 0.0413689\n",
      "step: 850, loss: 0.169269\n",
      "step: 860, loss: 0.22381\n",
      "step: 870, loss: 0.222355\n",
      "step: 880, loss: 0.0617517\n",
      "step: 890, loss: 0.154222\n",
      "step: 900, loss: 0.110538\n",
      "step: 910, loss: 0.0714635\n",
      "step: 920, loss: 0.217813\n",
      "step: 930, loss: 0.0627968\n",
      "step: 940, loss: 0.0103643\n",
      "step: 950, loss: 0.352652\n",
      "step: 960, loss: 0.0636851\n",
      "step: 970, loss: 0.302749\n",
      "step: 980, loss: 0.232639\n",
      "step: 990, loss: 0.081708\n",
      "step: 1000, loss: 0.282767\n",
      "step: 1010, loss: 0.142451\n",
      "step: 1020, loss: 0.173217\n",
      "step: 1030, loss: 0.0495202\n",
      "step: 1040, loss: 0.084307\n",
      "step: 1050, loss: 0.0947756\n",
      "step: 1060, loss: 0.0635275\n",
      "step: 1070, loss: 0.227538\n",
      "step: 1080, loss: 0.159656\n",
      "step: 1090, loss: 0.04367\n",
      "step: 1100, loss: 0.220114\n",
      "step: 1110, loss: 0.0748065\n",
      "step: 1120, loss: 0.168498\n",
      "step: 1130, loss: 0.137831\n",
      "step: 1140, loss: 0.246929\n",
      "step: 1150, loss: 0.0661469\n",
      "step: 1160, loss: 0.0531177\n",
      "step: 1170, loss: 0.0167032\n",
      "step: 1180, loss: 0.0875841\n",
      "step: 1190, loss: 0.0802328\n",
      "step: 1200, loss: 0.0762739\n",
      "step: 1210, loss: 0.261749\n",
      "step: 1220, loss: 0.152368\n",
      "step: 1230, loss: 0.285623\n",
      "step: 1240, loss: 0.1144\n",
      "step: 1250, loss: 0.392128\n",
      "step: 1260, loss: 0.18078\n",
      "step: 1270, loss: 0.0391463\n",
      "step: 1280, loss: 0.0988882\n",
      "step: 1290, loss: 0.2847\n",
      "step: 1300, loss: 0.0820678\n",
      "step: 1310, loss: 0.152884\n",
      "step: 1320, loss: 0.148916\n",
      "step: 1330, loss: 0.153592\n",
      "step: 1340, loss: 0.090376\n",
      "step: 1350, loss: 0.224252\n",
      "step: 1360, loss: 0.161384\n",
      "step: 1370, loss: 0.0429739\n",
      "step: 1380, loss: 0.0622635\n",
      "step: 1390, loss: 0.0394801\n",
      "step: 1400, loss: 0.0267854\n",
      "step: 1410, loss: 0.0357354\n",
      "step: 1420, loss: 0.0336727\n",
      "step: 1430, loss: 0.0952778\n",
      "step: 1440, loss: 0.640858\n",
      "step: 1450, loss: 0.012535\n",
      "step: 1460, loss: 0.0358797\n",
      "step: 1470, loss: 0.0548014\n",
      "step: 1480, loss: 0.0311974\n",
      "step: 1490, loss: 0.0487958\n",
      "step: 1500, loss: 0.0384459\n",
      "step: 1510, loss: 0.130049\n",
      "step: 1520, loss: 0.246237\n",
      "step: 1530, loss: 0.173429\n",
      "step: 1540, loss: 0.0872806\n",
      "step: 1550, loss: 0.0609948\n",
      "step: 1560, loss: 0.0608367\n",
      "step: 1570, loss: 0.0595195\n",
      "step: 1580, loss: 0.0494522\n",
      "step: 1590, loss: 0.0441013\n",
      "step: 1600, loss: 0.0868498\n",
      "step: 1610, loss: 0.0191856\n",
      "step: 1620, loss: 0.0936209\n",
      "step: 1630, loss: 0.0462881\n",
      "step: 1640, loss: 0.294601\n",
      "step: 1650, loss: 0.167157\n",
      "step: 1660, loss: 0.0212292\n",
      "step: 1670, loss: 0.0919764\n",
      "step: 1680, loss: 0.146046\n",
      "step: 1690, loss: 0.0112341\n",
      "step: 1700, loss: 0.0340683\n",
      "End of dataset\n",
      "Epochs: 0 Elapsed time: 148.34672284126282\n",
      "step: 1710, loss: 0.216221\n",
      "step: 1720, loss: 0.169325\n",
      "step: 1730, loss: 0.0194147\n",
      "step: 1740, loss: 0.162655\n",
      "step: 1750, loss: 0.144134\n",
      "step: 1760, loss: 0.061256\n",
      "step: 1770, loss: 0.0227251\n",
      "step: 1780, loss: 0.391361\n",
      "step: 1790, loss: 0.0585832\n",
      "step: 1800, loss: 0.086359\n",
      "step: 1810, loss: 0.0596672\n",
      "step: 1820, loss: 0.216747\n",
      "step: 1830, loss: 0.0891972\n",
      "step: 1840, loss: 0.0359566\n",
      "step: 1850, loss: 0.117615\n",
      "step: 1860, loss: 0.0468166\n",
      "step: 1870, loss: 0.117854\n",
      "step: 1880, loss: 0.00718847\n",
      "step: 1890, loss: 0.0595809\n",
      "step: 1900, loss: 0.0116386\n",
      "step: 1910, loss: 0.0856554\n",
      "step: 1920, loss: 0.103078\n",
      "step: 1930, loss: 0.039282\n",
      "step: 1940, loss: 0.00843313\n",
      "step: 1950, loss: 0.103087\n",
      "step: 1960, loss: 0.0700076\n",
      "step: 1970, loss: 0.131382\n",
      "step: 1980, loss: 0.0500257\n",
      "step: 1990, loss: 0.133269\n",
      "step: 2000, loss: 0.103998\n",
      "step: 2010, loss: 0.0693712\n",
      "step: 2020, loss: 0.111628\n",
      "step: 2030, loss: 0.299482\n",
      "step: 2040, loss: 0.115666\n",
      "step: 2050, loss: 0.0179682\n",
      "step: 2060, loss: 0.0464969\n",
      "step: 2070, loss: 0.276546\n",
      "step: 2080, loss: 0.0217511\n",
      "step: 2090, loss: 0.0415878\n",
      "step: 2100, loss: 0.0101229\n",
      "step: 2110, loss: 0.0723025\n",
      "step: 2120, loss: 0.158514\n",
      "step: 2130, loss: 0.019471\n",
      "step: 2140, loss: 0.0725522\n",
      "step: 2150, loss: 0.0307171\n",
      "step: 2160, loss: 0.175897\n",
      "step: 2170, loss: 0.0718394\n",
      "step: 2180, loss: 0.382047\n",
      "step: 2190, loss: 0.0528616\n",
      "step: 2200, loss: 0.0877281\n",
      "step: 2210, loss: 0.0747017\n",
      "step: 2220, loss: 0.0309306\n",
      "step: 2230, loss: 0.0588709\n",
      "step: 2240, loss: 0.0430537\n",
      "step: 2250, loss: 0.0700447\n",
      "step: 2260, loss: 0.0613123\n",
      "step: 2270, loss: 0.0344146\n",
      "step: 2280, loss: 0.0266684\n",
      "step: 2290, loss: 0.305072\n",
      "step: 2300, loss: 0.101842\n",
      "step: 2310, loss: 0.0183575\n",
      "step: 2320, loss: 0.0119359\n",
      "step: 2330, loss: 0.0616722\n",
      "step: 2340, loss: 0.0359352\n",
      "step: 2350, loss: 0.0281655\n",
      "step: 2360, loss: 0.196382\n",
      "step: 2370, loss: 0.0182911\n",
      "step: 2380, loss: 0.152259\n",
      "step: 2390, loss: 0.0328032\n",
      "step: 2400, loss: 0.0234326\n",
      "step: 2410, loss: 0.0446087\n",
      "step: 2420, loss: 0.029817\n",
      "step: 2430, loss: 0.0688287\n",
      "step: 2440, loss: 0.108602\n",
      "step: 2450, loss: 0.0162615\n",
      "step: 2460, loss: 0.0905697\n",
      "step: 2470, loss: 0.0489682\n",
      "step: 2480, loss: 0.00948076\n",
      "step: 2490, loss: 0.0273516\n",
      "step: 2500, loss: 0.232758\n",
      "step: 2510, loss: 0.0233558\n",
      "step: 2520, loss: 0.0315593\n",
      "step: 2530, loss: 0.103119\n",
      "step: 2540, loss: 0.045112\n",
      "step: 2550, loss: 0.059357\n",
      "step: 2560, loss: 0.0387529\n",
      "step: 2570, loss: 0.067683\n",
      "step: 2580, loss: 0.170306\n",
      "step: 2590, loss: 0.075023\n",
      "step: 2600, loss: 0.0103746\n",
      "step: 2610, loss: 0.0152216\n",
      "step: 2620, loss: 0.0387875\n",
      "step: 2630, loss: 0.0183764\n",
      "step: 2640, loss: 0.0387338\n",
      "step: 2650, loss: 0.0310318\n",
      "step: 2660, loss: 0.183556\n",
      "step: 2670, loss: 0.0524052\n",
      "step: 2680, loss: 0.0469435\n",
      "step: 2690, loss: 0.0074157\n",
      "step: 2700, loss: 0.206339\n",
      "step: 2710, loss: 0.0099457\n",
      "step: 2720, loss: 0.211067\n",
      "step: 2730, loss: 0.0955994\n",
      "step: 2740, loss: 0.0470839\n",
      "step: 2750, loss: 0.0356091\n",
      "step: 2760, loss: 0.0206043\n",
      "step: 2770, loss: 0.171679\n",
      "step: 2780, loss: 0.0621361\n",
      "step: 2790, loss: 0.0157822\n",
      "step: 2800, loss: 0.134975\n",
      "step: 2810, loss: 0.189863\n",
      "step: 2820, loss: 0.0260555\n",
      "step: 2830, loss: 0.0562887\n",
      "step: 2840, loss: 0.0158134\n",
      "step: 2850, loss: 0.16846\n",
      "step: 2860, loss: 0.0586179\n",
      "step: 2870, loss: 0.0681737\n",
      "step: 2880, loss: 0.0464448\n",
      "step: 2890, loss: 0.064963\n",
      "step: 2900, loss: 0.0314336\n",
      "step: 2910, loss: 0.0406892\n",
      "step: 2920, loss: 0.044721\n",
      "step: 2930, loss: 0.0467877\n",
      "step: 2940, loss: 0.0231565\n",
      "step: 2950, loss: 0.0662911\n",
      "step: 2960, loss: 0.0436003\n",
      "step: 2970, loss: 0.0747949\n",
      "step: 2980, loss: 0.0265448\n",
      "step: 2990, loss: 0.166098\n",
      "step: 3000, loss: 0.0997423\n",
      "step: 3010, loss: 0.00898321\n"
     ]
    },
    {
     "name": "stdout",
     "output_type": "stream",
     "text": [
      "step: 3020, loss: 0.0102455\n",
      "step: 3030, loss: 0.0199806\n",
      "step: 3040, loss: 0.0307569\n",
      "step: 3050, loss: 0.0855085\n",
      "step: 3060, loss: 0.122695\n",
      "step: 3070, loss: 0.0364364\n",
      "step: 3080, loss: 0.0115856\n",
      "step: 3090, loss: 0.0185213\n",
      "step: 3100, loss: 0.0179669\n",
      "step: 3110, loss: 0.0207366\n",
      "step: 3120, loss: 0.115116\n",
      "step: 3130, loss: 0.0890324\n",
      "step: 3140, loss: 0.0376131\n",
      "step: 3150, loss: 0.0409208\n",
      "step: 3160, loss: 0.123736\n",
      "step: 3170, loss: 0.117231\n",
      "step: 3180, loss: 0.00607836\n",
      "step: 3190, loss: 0.0660428\n",
      "step: 3200, loss: 0.488534\n",
      "step: 3210, loss: 0.0812929\n",
      "step: 3220, loss: 0.128541\n",
      "step: 3230, loss: 0.0274213\n",
      "step: 3240, loss: 0.100071\n",
      "step: 3250, loss: 0.0171381\n",
      "step: 3260, loss: 0.00829276\n",
      "step: 3270, loss: 0.0277011\n",
      "step: 3280, loss: 0.0400591\n",
      "step: 3290, loss: 0.0238682\n",
      "step: 3300, loss: 0.137709\n",
      "step: 3310, loss: 0.0112257\n",
      "step: 3320, loss: 0.0345276\n",
      "step: 3330, loss: 0.0256569\n",
      "step: 3340, loss: 0.0499375\n",
      "step: 3350, loss: 0.104281\n",
      "step: 3360, loss: 0.0536238\n",
      "step: 3370, loss: 0.00247134\n",
      "step: 3380, loss: 0.0796401\n",
      "step: 3390, loss: 0.15304\n",
      "step: 3400, loss: 0.00453919\n",
      "End of dataset\n",
      "Epochs: 1 Elapsed time: 146.44975590705872\n",
      "training done!\n"
     ]
    }
   ],
   "source": [
    "sess = tf.Session(config=sess_config)\n",
    "sess.run(tf.global_variables_initializer())\n",
    "\n",
    "# train_iterator\n",
    "train_iterator = train_dataset.make_initializable_iterator()\n",
    "train_handle = sess.run(train_iterator.string_handle())\n",
    "\n",
    "# Train\n",
    "max_epochs = 2\n",
    "step = 0\n",
    "for epochs in range(max_epochs):\n",
    "  # 여기를 직접 채워 넣으시면 됩니다.\n",
    "  sess.run(train_iterator.initializer)\n",
    "\n",
    "  start_time = time.time()\n",
    "  while True:\n",
    "    try:\n",
    "      # 여기를 직접 채워 넣으시면 됩니다.\n",
    "      _, loss = sess.run([train_step, cross_entropy], \n",
    "                         feed_dict={handle: train_handle, is_training:True})\n",
    "      if step % 10 == 0:\n",
    "        print(\"step: %d, loss: %g\" % (step, loss))\n",
    "        \n",
    "        # summary\n",
    "        summary_str = sess.run(summary_op,\n",
    "                         feed_dict={handle: train_handle, is_training:True})\n",
    "        train_writer.add_summary(summary_str, global_step=step)\n",
    "        \n",
    "      step += 1\n",
    "\n",
    "    except tf.errors.OutOfRangeError:\n",
    "      print(\"End of dataset\")  # ==> \"End of dataset\"\n",
    "      break\n",
    "    \n",
    "  print(\"Epochs: {} Elapsed time: {}\".format(epochs, time.time() - start_time))\n",
    "\n",
    "train_writer.close()\n",
    "print(\"training done!\")"
   ]
  },
  {
   "cell_type": "markdown",
   "metadata": {},
   "source": [
    "slim: https://github.com/tensorflow/tensorflow/blob/master/tensorflow/contrib/layers/python/layers/layers.py"
   ]
  },
  {
   "cell_type": "markdown",
   "metadata": {},
   "source": [
    "### Test trained model"
   ]
  },
  {
   "cell_type": "code",
   "execution_count": 12,
   "metadata": {
    "collapsed": true
   },
   "outputs": [],
   "source": [
    "# test_iterator\n",
    "test_iterator = test_dataset.make_initializable_iterator()\n",
    "test_handle = sess.run(test_iterator.string_handle())\n",
    "sess.run(test_iterator.initializer)"
   ]
  },
  {
   "cell_type": "code",
   "execution_count": 13,
   "metadata": {},
   "outputs": [
    {
     "name": "stdout",
     "output_type": "stream",
     "text": [
      "test accuracy: 0.9837\n"
     ]
    }
   ],
   "source": [
    "accuracy, acc_op = tf.metrics.accuracy(labels=y, predictions=tf.argmax(logits, 1), name='accuracy')\n",
    "sess.run(tf.local_variables_initializer())\n",
    "\n",
    "sess.run(acc_op, feed_dict={handle: test_handle, is_training: False})\n",
    "print(\"test accuracy:\", sess.run(accuracy, feed_dict={handle: test_handle, is_training: False}))"
   ]
  },
  {
   "cell_type": "markdown",
   "metadata": {},
   "source": [
    "### Print results"
   ]
  },
  {
   "cell_type": "code",
   "execution_count": 14,
   "metadata": {},
   "outputs": [
    {
     "data": {
      "image/png": "[encoded data removed]",
      "text/plain": [
       "<Figure size 1152x720 with 16 Axes>"
      ]
     },
     "metadata": {},
     "output_type": "display_data"
    }
   ],
   "source": [
    "import numpy as np\n",
    "import matplotlib.pyplot as plt\n",
    "%matplotlib inline\n",
    "\n",
    "test_batch_size = 16\n",
    "batch_index = np.random.choice(len(test_data), size=test_batch_size, replace=False)\n",
    "batch_xs = test_data[batch_index]\n",
    "y_pred = sess.run(logits, feed_dict={x: batch_xs, is_training: False})\n",
    "\n",
    "fig = plt.figure(figsize=(16, 10))\n",
    "for i, (px, py) in enumerate(zip(batch_xs, y_pred)):\n",
    "  p = fig.add_subplot(4, 8, i+1)\n",
    "  p.set_title(\"y_pred: {}\".format(np.argmax(py)))\n",
    "  p.imshow(px.reshape(28, 28), cmap='gray')\n",
    "  p.axis('off')"
   ]
  },
  {
   "cell_type": "markdown",
   "metadata": {},
   "source": [
    "## 직접 실습\n",
    "\n",
    "* 여러가지 hyper-parameter들을 바꿔가면서 accuracy를 높혀보자"
   ]
  }
 ],
 "metadata": {
  "kernelspec": {
   "display_name": "Python 3",
   "language": "python",
   "name": "python3"
  },
  "language_info": {
   "codemirror_mode": {
    "name": "ipython",
    "version": 3
   },
   "file_extension": ".py",
   "mimetype": "text/x-python",
   "name": "python",
   "nbconvert_exporter": "python",
   "pygments_lexer": "ipython3",
   "version": "3.5.5"
  }
 },
 "nbformat": 4,
 "nbformat_minor": 2
}
