{
 "cells": [
  {
   "cell_type": "markdown",
   "metadata": {},
   "source": [
    "# MNIST convolutional neural networks with slim\n",
    "\n",
    "* MNIST data를 가지고 softmax classifier를 만들어보자.\n",
    "* [`tf.contrib.slim`](https://github.com/tensorflow/tensorflow/tree/master/tensorflow/contrib/slim) 참고"
   ]
  },
  {
   "cell_type": "markdown",
   "metadata": {},
   "source": [
    "### Import modules"
   ]
  },
  {
   "cell_type": "code",
   "execution_count": 1,
   "metadata": {},
   "outputs": [
    {
     "name": "stdout",
     "output_type": "stream",
     "text": [
      "WARNING:tensorflow:From D:\\Program Files\\Anaconda3\\envs\\tensorflow_1_7\\lib\\site-packages\\tensorflow\\contrib\\learn\\python\\learn\\datasets\\base.py:198: retry (from tensorflow.contrib.learn.python.learn.datasets.base) is deprecated and will be removed in a future version.\n",
      "Instructions for updating:\n",
      "Use the retry module or similar alternatives.\n"
     ]
    }
   ],
   "source": [
    "\"\"\"A very simple MNIST classifier.\n",
    "\"\"\"\n",
    "from __future__ import absolute_import\n",
    "from __future__ import division\n",
    "from __future__ import print_function\n",
    "\n",
    "import numpy as np\n",
    "\n",
    "import tensorflow as tf\n",
    "\n",
    "slim = tf.contrib.slim\n",
    "\n",
    "sess_config = tf.ConfigProto(gpu_options=tf.GPUOptions(allow_growth=True))\n",
    "\n",
    "np.random.seed(219)\n",
    "tf.set_random_seed(219)"
   ]
  },
  {
   "cell_type": "markdown",
   "metadata": {},
   "source": [
    "### Import data"
   ]
  },
  {
   "cell_type": "code",
   "execution_count": 2,
   "metadata": {},
   "outputs": [],
   "source": [
    "# Load training and eval data from tf.keras\n",
    "(train_data, train_labels), (test_data, test_labels) = \\\n",
    "    tf.keras.datasets.mnist.load_data()\n",
    "\n",
    "train_data = train_data / 255.\n",
    "train_labels = np.asarray(train_labels, dtype=np.int32)\n",
    "\n",
    "test_data = test_data / 255.\n",
    "test_labels = np.asarray(test_labels, dtype=np.int32)"
   ]
  },
  {
   "cell_type": "markdown",
   "metadata": {},
   "source": [
    "### Show the MNIST"
   ]
  },
  {
   "cell_type": "code",
   "execution_count": 3,
   "metadata": {},
   "outputs": [
    {
     "name": "stdout",
     "output_type": "stream",
     "text": [
      "label = 3\n"
     ]
    },
    {
     "data": {
      "image/png": "[encoded data removed]",
      "text/plain": [
       "<Figure size 432x288 with 1 Axes>"
      ]
     },
     "metadata": {},
     "output_type": "display_data"
    }
   ],
   "source": [
    "import numpy as np\n",
    "import matplotlib.pyplot as plt\n",
    "%matplotlib inline\n",
    "\n",
    "index = 500\n",
    "print(\"label = {}\".format(train_labels[index]))\n",
    "plt.imshow(train_data[index].reshape(28, 28), cmap='gray')\n",
    "plt.show()"
   ]
  },
  {
   "cell_type": "markdown",
   "metadata": {},
   "source": [
    "### Set up dataset with `tf.data`\n",
    "\n",
    "#### create input pipeline with `tf.data.Dataset`"
   ]
  },
  {
   "cell_type": "code",
   "execution_count": 4,
   "metadata": {},
   "outputs": [
    {
     "name": "stdout",
     "output_type": "stream",
     "text": [
      "<BatchDataset shapes: ((?, 28, 28), (?,)), types: (tf.float64, tf.int32)>\n",
      "<BatchDataset shapes: ((?, 28, 28), (?,)), types: (tf.float64, tf.int32)>\n"
     ]
    }
   ],
   "source": [
    "batch_size = 32\n",
    "\n",
    "# for train\n",
    "train_dataset = tf.data.Dataset.from_tensor_slices((train_data, train_labels))\n",
    "train_dataset = train_dataset.shuffle(buffer_size = 10000)\n",
    "train_dataset = train_dataset.batch(batch_size = batch_size)\n",
    "print(train_dataset)\n",
    "\n",
    "# for test\n",
    "test_dataset = tf.data.Dataset.from_tensor_slices((test_data, test_labels))\n",
    "test_dataset = test_dataset.shuffle(buffer_size = 10000)\n",
    "test_dataset = test_dataset.batch(batch_size = len(test_data))\n",
    "print(test_dataset)"
   ]
  },
  {
   "cell_type": "markdown",
   "metadata": {},
   "source": [
    "#### Define Iterator"
   ]
  },
  {
   "cell_type": "code",
   "execution_count": 5,
   "metadata": {},
   "outputs": [],
   "source": [
    "# tf.data.Iterator.from_string_handle의 output_shapes는 default = None이지만 꼭 값을 넣는 게 좋음\n",
    "handle = tf.placeholder(tf.string, shape=[])\n",
    "iterator = tf.data.Iterator.from_string_handle(handle,\n",
    "                                               train_dataset.output_types,\n",
    "                                               train_dataset.output_shapes)\n",
    "x, y = iterator.get_next()\n",
    "x = tf.cast(x, dtype = tf.float32)\n",
    "y = tf.cast(y, dtype = tf.int32)"
   ]
  },
  {
   "cell_type": "markdown",
   "metadata": {},
   "source": [
    "## `tf.contrib.slim`\n",
    "\n",
    "```python\n",
    "from __future__ import absolute_import\n",
    "from __future__ import division\n",
    "from __future__ import print_function\n",
    "\n",
    "# pylint: disable=unused-import,line-too-long,g-importing-member,wildcard-import\n",
    "# TODO(jart): Delete non-slim imports\n",
    "from tensorflow.contrib import losses\n",
    "from tensorflow.contrib import metrics\n",
    "from tensorflow.contrib.framework.python.ops.arg_scope import *\n",
    "from tensorflow.contrib.framework.python.ops.variables import *\n",
    "from tensorflow.contrib.layers.python.layers import *\n",
    "from tensorflow.contrib.layers.python.layers.initializers import *\n",
    "from tensorflow.contrib.layers.python.layers.regularizers import *\n",
    "from tensorflow.contrib.slim.python.slim import evaluation\n",
    "from tensorflow.contrib.slim.python.slim import learning\n",
    "from tensorflow.contrib.slim.python.slim import model_analyzer\n",
    "from tensorflow.contrib.slim.python.slim import queues\n",
    "from tensorflow.contrib.slim.python.slim import summaries\n",
    "from tensorflow.contrib.slim.python.slim.data import data_decoder\n",
    "from tensorflow.contrib.slim.python.slim.data import data_provider\n",
    "from tensorflow.contrib.slim.python.slim.data import dataset\n",
    "from tensorflow.contrib.slim.python.slim.data import dataset_data_provider\n",
    "from tensorflow.contrib.slim.python.slim.data import parallel_reader\n",
    "from tensorflow.contrib.slim.python.slim.data import prefetch_queue\n",
    "from tensorflow.contrib.slim.python.slim.data import tfexample_decoder\n",
    "from tensorflow.python.util.all_util import make_all\n",
    "# pylint: enable=unused-import,line-too-long,g-importing-member,wildcard-import\n",
    "\n",
    "__all__ = make_all(__name__)\n",
    "```"
   ]
  },
  {
   "cell_type": "markdown",
   "metadata": {},
   "source": [
    "### Difference between [`tf.layers`](https://www.tensorflow.org/api_docs/python/tf/layers) and [`tf.contrib.layers`](https://www.tensorflow.org/api_docs/python/tf/contrib/layers)\n",
    "\n",
    "#### [`tf.layers.conv2d()`](https://www.tensorflow.org/api_docs/python/tf/layers/conv2d)\n",
    "```python\n",
    "tf.layers.conv2d(\n",
    "    inputs,\n",
    "    filters,\n",
    "    kernel_size,\n",
    "    strides=(1, 1),\n",
    "    padding='valid',\n",
    "    data_format='channels_last',\n",
    "    dilation_rate=(1, 1),\n",
    "    activation=None,\n",
    "    use_bias=True,\n",
    "    kernel_initializer=None,\n",
    "    bias_initializer=tf.zeros_initializer(),\n",
    "    kernel_regularizer=None,\n",
    "    bias_regularizer=None,\n",
    "    activity_regularizer=None,\n",
    "    kernel_constraint=None,\n",
    "    bias_constraint=None,\n",
    "    trainable=True,\n",
    "    name=None,\n",
    "    reuse=None\n",
    ")\n",
    "```\n",
    "\n",
    "#### [`slim.conv2d()`](https://www.tensorflow.org/api_docs/python/tf/contrib/layers/conv2d)\n",
    "```python\n",
    "tf.contrib.layers.conv2d(\n",
    "    inputs,\n",
    "    num_outputs,\n",
    "    kernel_size,\n",
    "    stride=1,\n",
    "    padding='SAME',\n",
    "    data_format=None,\n",
    "    rate=1,\n",
    "    activation_fn=tf.nn.relu,\n",
    "    normalizer_fn=None,\n",
    "    normalizer_params=None,\n",
    "    weights_initializer=initializers.xavier_initializer(),\n",
    "    weights_regularizer=None,\n",
    "    biases_initializer=tf.zeros_initializer(),\n",
    "    biases_regularizer=None,\n",
    "    reuse=None,\n",
    "    variables_collections=None,\n",
    "    outputs_collections=None,\n",
    "    trainable=True,\n",
    "    scope=None\n",
    ")\n",
    "```"
   ]
  },
  {
   "cell_type": "markdown",
   "metadata": {},
   "source": [
    "### Create the model"
   ]
  },
  {
   "cell_type": "code",
   "execution_count": 6,
   "metadata": {},
   "outputs": [],
   "source": [
    "def cnn_model_fn(x):\n",
    "  \"\"\"Model function for CNN.\n",
    "  Args:\n",
    "    x: input images\n",
    "    mode: boolean whether trainig mode or test mode\n",
    "    \n",
    "  Returns:\n",
    "    logits: unnormalized score funtion\n",
    "  \"\"\"\n",
    "  # Input Layer\n",
    "  # Reshape X to 4-D tensor: [batch_size, width, height, channels]\n",
    "  # MNIST images are 28x28 pixels, and have one color channel\n",
    "  with tf.name_scope('reshape'):\n",
    "    x_image = tf.reshape(x, [-1, 28, 28, 1])\n",
    "\n",
    "  # Convolutional Layer #1\n",
    "  # Input Tensor Shape: [batch_size, 28, 28, 1]\n",
    "  # Output Tensor Shape: [batch_size, 28, 28, 32]\n",
    "  # 여기를 직접 채워 넣으시면 됩니다.\n",
    "  conv1 = slim.conv2d(x_image, 32, kernel_size=5, stride=1, padding='SAME', activation_fn=tf.nn.relu)\n",
    "\n",
    "  # Pooling Layer #1\n",
    "  # Input Tensor Shape: [batch_size, 28, 28, 32]\n",
    "  # Output Tensor Shape: [batch_size, 14, 14, 32]\n",
    "  # 여기를 직접 채워 넣으시면 됩니다.\n",
    "  pool1 = slim.max_pool2d(conv1, 2)\n",
    "  \n",
    "  # Convolutional Layer #2\n",
    "  # Input Tensor Shape: [batch_size, 14, 14, 32]\n",
    "  # Output Tensor Shape: [batch_size, 14, 14, 64]\n",
    "  # 여기를 직접 채워 넣으시면 됩니다.\n",
    "  conv2 = slim.conv2d(pool1, 64, kernel_size=5, stride=1, padding='SAME', activation_fn=tf.nn.relu)\n",
    "\n",
    "  # Pooling Layer #2\n",
    "  # Second max pooling layer with a 2x2 filter and stride of 2\n",
    "  # Input Tensor Shape: [batch_size, 14, 14, 64]\n",
    "  # Output Tensor Shape: [batch_size, 7, 7, 64]\n",
    "  # 여기를 직접 채워 넣으시면 됩니다.\n",
    "  pool2 = slim.max_pool2d(conv1, 2)\n",
    "\n",
    "  # Flatten tensor into a batch of vectors\n",
    "  # Input Tensor Shape: [batch_size, 7, 7, 64]\n",
    "  # Output Tensor Shape: [batch_size, 7 * 7 * 64]\n",
    "  # 여기를 직접 채워 넣으시면 됩니다.\n",
    "  pool2_flat = slim.flatten(pool2)\n",
    "  \n",
    "  # Fully connected Layer\n",
    "  # Input Tensor Shape: [batch_size, 7 * 7 * 64]\n",
    "  # Output Tensor Shape: [batch_size, 1024]\n",
    "  # 여기를 직접 채워 넣으시면 됩니다.\n",
    "  fc1 = slim.fully_connected(pool2_flat, 1024)\n",
    "\n",
    "  # Add dropout operation; 0.6 probability that element will be kept\n",
    "  is_training = tf.placeholder(tf.bool)\n",
    "  # 여기를 직접 채워 넣으시면 됩니다.\n",
    "  fc1_drop = slim.dropout(fc1, keep_prob=0.6, is_training=is_training)\n",
    "\n",
    "  # Logits layer\n",
    "  # Input Tensor Shape: [batch_size, 1024]\n",
    "  # Output Tensor Shape: [batch_size, 10]\n",
    "  # 여기를 직접 채워 넣으시면 됩니다.\n",
    "  logits = slim.fully_connected(fc1_drop, 10)\n",
    "  \n",
    "  return logits, is_training, x_image"
   ]
  },
  {
   "cell_type": "markdown",
   "metadata": {},
   "source": [
    "### Build the model"
   ]
  },
  {
   "cell_type": "code",
   "execution_count": 7,
   "metadata": {},
   "outputs": [],
   "source": [
    "logits, is_training, x_image = cnn_model_fn(x)"
   ]
  },
  {
   "cell_type": "markdown",
   "metadata": {},
   "source": [
    "### Define loss and optimizer"
   ]
  },
  {
   "cell_type": "code",
   "execution_count": 8,
   "metadata": {},
   "outputs": [],
   "source": [
    "# 여기를 직접 채워 넣으시면 됩니다.\n",
    "cross_entropy = tf.losses.sparse_softmax_cross_entropy(labels=y, logits=logits)\n",
    "\n",
    "train_step = tf.train.AdamOptimizer(1e-4).minimize(cross_entropy)"
   ]
  },
  {
   "cell_type": "markdown",
   "metadata": {},
   "source": [
    "### Assign `tf.summary.FileWriter`"
   ]
  },
  {
   "cell_type": "code",
   "execution_count": 9,
   "metadata": {},
   "outputs": [
    {
     "name": "stdout",
     "output_type": "stream",
     "text": [
      "Saving graph to: graphs/02_mnist_cnn_with_slim\n"
     ]
    }
   ],
   "source": [
    "graph_location = 'graphs/02_mnist_cnn_with_slim'\n",
    "print('Saving graph to: %s' % graph_location)\n",
    "train_writer = tf.summary.FileWriter(graph_location)\n",
    "train_writer.add_graph(tf.get_default_graph()) "
   ]
  },
  {
   "cell_type": "markdown",
   "metadata": {},
   "source": [
    "### `tf.summary`"
   ]
  },
  {
   "cell_type": "code",
   "execution_count": 10,
   "metadata": {},
   "outputs": [],
   "source": [
    "with tf.name_scope('summaries'):\n",
    "  tf.summary.scalar('loss/cross_entropy', cross_entropy)\n",
    "  tf.summary.image('images', x_image)\n",
    "  for var in tf.trainable_variables():\n",
    "    tf.summary.histogram(var.op.name, var)\n",
    "  # merge all summaries\n",
    "  summary_op = tf.summary.merge_all()"
   ]
  },
  {
   "cell_type": "markdown",
   "metadata": {},
   "source": [
    "### `tf.Session()` and train"
   ]
  },
  {
   "cell_type": "code",
   "execution_count": 11,
   "metadata": {
    "scrolled": true
   },
   "outputs": [
    {
     "name": "stdout",
     "output_type": "stream",
     "text": [
      "step: 0, loss: 2.3003\n",
      "step: 10, loss: 2.2633\n",
      "step: 20, loss: 2.24907\n",
      "step: 30, loss: 1.996\n",
      "step: 40, loss: 1.9126\n",
      "step: 50, loss: 1.77796\n",
      "step: 60, loss: 1.20221\n",
      "step: 70, loss: 1.37396\n",
      "step: 80, loss: 1.42507\n",
      "step: 90, loss: 1.16146\n",
      "step: 100, loss: 0.983938\n",
      "step: 110, loss: 1.38483\n",
      "step: 120, loss: 0.858056\n",
      "step: 130, loss: 1.09288\n",
      "step: 140, loss: 0.760726\n",
      "step: 150, loss: 0.935444\n",
      "step: 160, loss: 0.737615\n",
      "step: 170, loss: 0.801839\n",
      "step: 180, loss: 0.592394\n",
      "step: 190, loss: 0.713155\n",
      "step: 200, loss: 0.711996\n",
      "step: 210, loss: 1.16026\n",
      "step: 220, loss: 0.479807\n",
      "step: 230, loss: 0.730622\n",
      "step: 240, loss: 0.513967\n",
      "step: 250, loss: 0.59203\n",
      "step: 260, loss: 0.538492\n",
      "step: 270, loss: 0.294367\n",
      "step: 280, loss: 0.769381\n",
      "step: 290, loss: 0.690269\n",
      "step: 300, loss: 0.475494\n",
      "step: 310, loss: 0.48185\n",
      "step: 320, loss: 0.501347\n",
      "step: 330, loss: 0.710933\n",
      "step: 340, loss: 0.641737\n",
      "step: 350, loss: 0.517447\n",
      "step: 360, loss: 0.557723\n",
      "step: 370, loss: 0.268069\n",
      "step: 380, loss: 0.352454\n",
      "step: 390, loss: 0.618209\n",
      "step: 400, loss: 0.271084\n",
      "step: 410, loss: 0.543864\n",
      "step: 420, loss: 0.774164\n",
      "step: 430, loss: 0.635921\n",
      "step: 440, loss: 0.596773\n",
      "step: 450, loss: 0.752125\n",
      "step: 460, loss: 0.444915\n",
      "step: 470, loss: 0.665047\n",
      "step: 480, loss: 0.630632\n",
      "step: 490, loss: 0.30988\n",
      "step: 500, loss: 0.528689\n",
      "step: 510, loss: 0.903132\n",
      "step: 520, loss: 0.511192\n",
      "step: 530, loss: 0.681923\n",
      "step: 540, loss: 0.314935\n",
      "step: 550, loss: 0.521229\n",
      "step: 560, loss: 0.242333\n",
      "step: 570, loss: 0.48572\n",
      "step: 580, loss: 0.659515\n",
      "step: 590, loss: 0.555678\n",
      "step: 600, loss: 0.402821\n",
      "step: 610, loss: 0.340124\n",
      "step: 620, loss: 0.561784\n",
      "step: 630, loss: 0.377745\n",
      "step: 640, loss: 0.27057\n",
      "step: 650, loss: 0.605321\n",
      "step: 660, loss: 0.445875\n",
      "step: 670, loss: 0.446695\n",
      "step: 680, loss: 0.268208\n",
      "step: 690, loss: 0.454467\n",
      "step: 700, loss: 0.501985\n",
      "step: 710, loss: 0.426905\n",
      "step: 720, loss: 0.560342\n",
      "step: 730, loss: 0.659713\n",
      "step: 740, loss: 0.503795\n",
      "step: 750, loss: 0.627613\n",
      "step: 760, loss: 0.330541\n",
      "step: 770, loss: 0.572757\n",
      "step: 780, loss: 0.281877\n",
      "step: 790, loss: 0.162724\n",
      "step: 800, loss: 0.658216\n",
      "step: 810, loss: 0.395147\n",
      "step: 820, loss: 0.491367\n",
      "step: 830, loss: 0.433268\n",
      "step: 840, loss: 0.615047\n",
      "step: 850, loss: 0.496804\n",
      "step: 860, loss: 0.747323\n",
      "step: 870, loss: 0.488598\n",
      "step: 880, loss: 0.28831\n",
      "step: 890, loss: 0.193705\n",
      "step: 900, loss: 0.555782\n",
      "step: 910, loss: 0.218883\n",
      "step: 920, loss: 0.394458\n",
      "step: 930, loss: 0.507265\n",
      "step: 940, loss: 0.466844\n",
      "step: 950, loss: 0.516972\n",
      "step: 960, loss: 0.228308\n",
      "step: 970, loss: 0.446877\n",
      "step: 980, loss: 0.476485\n",
      "step: 990, loss: 0.34935\n",
      "step: 1000, loss: 0.572946\n",
      "step: 1010, loss: 0.415962\n",
      "step: 1020, loss: 0.325949\n",
      "step: 1030, loss: 0.482075\n",
      "step: 1040, loss: 0.325389\n",
      "step: 1050, loss: 0.532038\n",
      "step: 1060, loss: 0.358568\n",
      "step: 1070, loss: 0.635597\n",
      "step: 1080, loss: 0.591557\n",
      "step: 1090, loss: 0.126358\n",
      "step: 1100, loss: 0.534136\n",
      "step: 1110, loss: 0.394972\n",
      "step: 1120, loss: 0.421966\n",
      "step: 1130, loss: 0.534973\n",
      "step: 1140, loss: 0.513143\n",
      "step: 1150, loss: 0.548386\n",
      "step: 1160, loss: 0.355515\n",
      "step: 1170, loss: 0.111626\n",
      "step: 1180, loss: 0.515558\n",
      "step: 1190, loss: 0.235483\n",
      "step: 1200, loss: 0.572253\n",
      "step: 1210, loss: 0.543011\n",
      "step: 1220, loss: 0.467316\n",
      "step: 1230, loss: 0.545054\n",
      "step: 1240, loss: 0.529666\n",
      "step: 1250, loss: 0.339534\n",
      "step: 1260, loss: 0.18531\n",
      "step: 1270, loss: 0.204853\n",
      "step: 1280, loss: 0.248302\n",
      "step: 1290, loss: 0.531821\n",
      "step: 1300, loss: 0.350802\n",
      "step: 1310, loss: 0.24152\n",
      "step: 1320, loss: 0.304358\n",
      "step: 1330, loss: 0.507485\n",
      "step: 1340, loss: 0.317748\n",
      "step: 1350, loss: 0.248591\n",
      "step: 1360, loss: 0.459739\n",
      "step: 1370, loss: 0.506702\n",
      "step: 1380, loss: 0.359851\n",
      "step: 1390, loss: 0.322015\n",
      "step: 1400, loss: 0.126021\n",
      "step: 1410, loss: 0.203368\n",
      "step: 1420, loss: 0.202434\n",
      "step: 1430, loss: 0.292322\n",
      "step: 1440, loss: 0.800637\n",
      "step: 1450, loss: 0.299675\n",
      "step: 1460, loss: 0.206212\n",
      "step: 1470, loss: 0.363073\n",
      "step: 1480, loss: 0.338105\n",
      "step: 1490, loss: 0.366787\n",
      "step: 1500, loss: 0.322126\n",
      "step: 1510, loss: 0.525316\n",
      "step: 1520, loss: 0.329404\n",
      "step: 1530, loss: 0.209879\n",
      "step: 1540, loss: 0.358573\n",
      "step: 1550, loss: 0.223707\n",
      "step: 1560, loss: 0.229356\n",
      "step: 1570, loss: 0.519133\n",
      "step: 1580, loss: 0.365092\n",
      "step: 1590, loss: 0.353871\n",
      "step: 1600, loss: 0.380854\n",
      "step: 1610, loss: 0.250632\n",
      "step: 1620, loss: 0.333622\n",
      "step: 1630, loss: 0.448999\n",
      "step: 1640, loss: 0.586417\n",
      "step: 1650, loss: 0.394464\n",
      "step: 1660, loss: 0.259444\n",
      "step: 1670, loss: 0.47048\n",
      "step: 1680, loss: 0.44261\n",
      "step: 1690, loss: 0.0325598\n",
      "step: 1700, loss: 0.334736\n",
      "End of dataset\n",
      "Epochs: 0 Elapsed time: 63.99510598182678\n",
      "step: 1710, loss: 0.274354\n",
      "step: 1720, loss: 0.525904\n",
      "step: 1730, loss: 0.324941\n",
      "step: 1740, loss: 0.597873\n",
      "step: 1750, loss: 0.52913\n",
      "step: 1760, loss: 0.554474\n",
      "step: 1770, loss: 0.166143\n",
      "step: 1780, loss: 0.591368\n",
      "step: 1790, loss: 0.170253\n",
      "step: 1800, loss: 0.328261\n",
      "step: 1810, loss: 0.21074\n",
      "step: 1820, loss: 0.505025\n",
      "step: 1830, loss: 0.370482\n",
      "step: 1840, loss: 0.353469\n",
      "step: 1850, loss: 0.289746\n",
      "step: 1860, loss: 0.214092\n",
      "step: 1870, loss: 0.58819\n",
      "step: 1880, loss: 0.336009\n",
      "step: 1890, loss: 0.216089\n",
      "step: 1900, loss: 0.3055\n",
      "step: 1910, loss: 0.41887\n",
      "step: 1920, loss: 0.283003\n",
      "step: 1930, loss: 0.110305\n",
      "step: 1940, loss: 0.109026\n",
      "step: 1950, loss: 0.361896\n",
      "step: 1960, loss: 0.571072\n",
      "step: 1970, loss: 0.327636\n",
      "step: 1980, loss: 0.337949\n",
      "step: 1990, loss: 0.306988\n",
      "step: 2000, loss: 0.300105\n",
      "step: 2010, loss: 0.36345\n",
      "step: 2020, loss: 0.61254\n",
      "step: 2030, loss: 0.675656\n",
      "step: 2040, loss: 0.150129\n",
      "step: 2050, loss: 0.173676\n",
      "step: 2060, loss: 0.374394\n",
      "step: 2070, loss: 0.474007\n",
      "step: 2080, loss: 0.54529\n",
      "step: 2090, loss: 0.356082\n",
      "step: 2100, loss: 0.309318\n",
      "step: 2110, loss: 0.269633\n",
      "step: 2120, loss: 0.23313\n",
      "step: 2130, loss: 0.393557\n",
      "step: 2140, loss: 0.173898\n",
      "step: 2150, loss: 0.187999\n",
      "step: 2160, loss: 0.61525\n",
      "step: 2170, loss: 0.231723\n",
      "step: 2180, loss: 0.514852\n",
      "step: 2190, loss: 0.144905\n",
      "step: 2200, loss: 0.387397\n",
      "step: 2210, loss: 0.497696\n",
      "step: 2220, loss: 0.286053\n",
      "step: 2230, loss: 0.318839\n",
      "step: 2240, loss: 0.337815\n",
      "step: 2250, loss: 0.176975\n",
      "step: 2260, loss: 0.308576\n",
      "step: 2270, loss: 0.616298\n",
      "step: 2280, loss: 0.417093\n",
      "step: 2290, loss: 0.481662\n",
      "step: 2300, loss: 0.229925\n",
      "step: 2310, loss: 0.0854258\n",
      "step: 2320, loss: 0.0207912\n",
      "step: 2330, loss: 0.531268\n",
      "step: 2340, loss: 0.231834\n",
      "step: 2350, loss: 0.424352\n",
      "step: 2360, loss: 0.359089\n",
      "step: 2370, loss: 0.461664\n",
      "step: 2380, loss: 0.198723\n",
      "step: 2390, loss: 0.190672\n",
      "step: 2400, loss: 0.245907\n",
      "step: 2410, loss: 0.328639\n",
      "step: 2420, loss: 0.324512\n",
      "step: 2430, loss: 0.327456\n",
      "step: 2440, loss: 0.425902\n",
      "step: 2450, loss: 0.32324\n",
      "step: 2460, loss: 0.327691\n",
      "step: 2470, loss: 0.273942\n",
      "step: 2480, loss: 0.115873\n",
      "step: 2490, loss: 0.389248\n",
      "step: 2500, loss: 0.497101\n",
      "step: 2510, loss: 0.316013\n",
      "step: 2520, loss: 0.258965\n",
      "step: 2530, loss: 0.391592\n",
      "step: 2540, loss: 0.41052\n",
      "step: 2550, loss: 0.426351\n",
      "step: 2560, loss: 0.255336\n",
      "step: 2570, loss: 0.307552\n",
      "step: 2580, loss: 0.419897\n",
      "step: 2590, loss: 0.287157\n",
      "step: 2600, loss: 0.319645\n",
      "step: 2610, loss: 0.350494\n",
      "step: 2620, loss: 0.173459\n",
      "step: 2630, loss: 0.150863\n",
      "step: 2640, loss: 0.245547\n",
      "step: 2650, loss: 0.50223\n",
      "step: 2660, loss: 0.472245\n",
      "step: 2670, loss: 0.132398\n",
      "step: 2680, loss: 0.196992\n",
      "step: 2690, loss: 0.295612\n",
      "step: 2700, loss: 0.43984\n",
      "step: 2710, loss: 0.371129\n",
      "step: 2720, loss: 0.434002\n",
      "step: 2730, loss: 0.245965\n",
      "step: 2740, loss: 0.311089\n",
      "step: 2750, loss: 0.391212\n",
      "step: 2760, loss: 0.679755\n",
      "step: 2770, loss: 0.621552\n",
      "step: 2780, loss: 0.573913\n",
      "step: 2790, loss: 0.0876475\n",
      "step: 2800, loss: 0.282821\n",
      "step: 2810, loss: 0.27831\n",
      "step: 2820, loss: 0.34403\n",
      "step: 2830, loss: 0.259214\n",
      "step: 2840, loss: 0.559784\n",
      "step: 2850, loss: 0.338959\n",
      "step: 2860, loss: 0.413681\n",
      "step: 2870, loss: 0.375541\n",
      "step: 2880, loss: 0.228445\n",
      "step: 2890, loss: 0.170879\n",
      "step: 2900, loss: 0.477727\n",
      "step: 2910, loss: 0.326199\n",
      "step: 2920, loss: 0.537847\n",
      "step: 2930, loss: 0.337312\n",
      "step: 2940, loss: 0.577611\n",
      "step: 2950, loss: 0.111197\n",
      "step: 2960, loss: 0.245559\n",
      "step: 2970, loss: 0.366934\n",
      "step: 2980, loss: 0.625492\n",
      "step: 2990, loss: 0.408479\n",
      "step: 3000, loss: 0.388901\n",
      "step: 3010, loss: 0.514254\n",
      "step: 3020, loss: 0.120911\n",
      "step: 3030, loss: 0.179178\n",
      "step: 3040, loss: 0.103544\n",
      "step: 3050, loss: 0.237591\n",
      "step: 3060, loss: 0.518199\n"
     ]
    },
    {
     "name": "stdout",
     "output_type": "stream",
     "text": [
      "step: 3070, loss: 0.350894\n",
      "step: 3080, loss: 0.0462525\n",
      "step: 3090, loss: 0.324558\n",
      "step: 3100, loss: 0.391808\n",
      "step: 3110, loss: 0.249612\n",
      "step: 3120, loss: 0.221159\n",
      "step: 3130, loss: 0.575305\n",
      "step: 3140, loss: 0.319139\n",
      "step: 3150, loss: 0.34503\n",
      "step: 3160, loss: 0.64881\n",
      "step: 3170, loss: 0.386993\n",
      "step: 3180, loss: 0.157228\n",
      "step: 3190, loss: 0.291223\n",
      "step: 3200, loss: 0.721927\n",
      "step: 3210, loss: 0.103079\n",
      "step: 3220, loss: 0.21592\n",
      "step: 3230, loss: 0.267753\n",
      "step: 3240, loss: 0.313865\n",
      "step: 3250, loss: 0.388074\n",
      "step: 3260, loss: 0.29527\n",
      "step: 3270, loss: 0.210831\n",
      "step: 3280, loss: 0.254272\n",
      "step: 3290, loss: 0.231223\n",
      "step: 3300, loss: 0.520363\n",
      "step: 3310, loss: 0.240268\n",
      "step: 3320, loss: 0.254207\n",
      "step: 3330, loss: 0.259377\n",
      "step: 3340, loss: 0.684005\n",
      "step: 3350, loss: 0.576318\n",
      "step: 3360, loss: 0.314368\n",
      "step: 3370, loss: 0.148451\n",
      "step: 3380, loss: 0.271975\n",
      "step: 3390, loss: 0.354275\n",
      "step: 3400, loss: 0.154172\n",
      "End of dataset\n",
      "Epochs: 1 Elapsed time: 60.45431041717529\n",
      "training done!\n"
     ]
    }
   ],
   "source": [
    "import time\n",
    "\n",
    "sess = tf.Session(config=sess_config)\n",
    "sess.run(tf.global_variables_initializer())\n",
    "\n",
    "# train_iterator\n",
    "train_iterator = train_dataset.make_initializable_iterator()\n",
    "train_handle = sess.run(train_iterator.string_handle())\n",
    "\n",
    "# Train\n",
    "max_epochs = 2\n",
    "step = 0\n",
    "for epochs in range(max_epochs):\n",
    "  # 여기를 직접 채워 넣으시면 됩니다.\n",
    "  sess.run(train_iterator.initializer)\n",
    "\n",
    "  start_time = time.time()\n",
    "  while True:\n",
    "    try:\n",
    "      # 여기를 직접 채워 넣으시면 됩니다.\n",
    "      _, loss = sess.run([train_step, cross_entropy], feed_dict={handle:train_handle, is_training:True})\n",
    "      if step % 10 == 0:\n",
    "        print(\"step: %d, loss: %g\" % (step, loss))\n",
    "        \n",
    "        # summary\n",
    "        summary_str = sess.run(summary_op, feed_dict={handle:train_handle, is_training:True})\n",
    "        train_writer.add_summary(summary_str, global_step=step)\n",
    "        \n",
    "      step += 1\n",
    "\n",
    "    except tf.errors.OutOfRangeError:\n",
    "        print(\"End of dataset\")  # ==> \"End of dataset\"\n",
    "        break\n",
    "    \n",
    "  print(\"Epochs: {} Elapsed time: {}\".format(epochs, time.time() - start_time))\n",
    "\n",
    "train_writer.close()\n",
    "print(\"training done!\")"
   ]
  },
  {
   "cell_type": "markdown",
   "metadata": {},
   "source": [
    "### Test trained model"
   ]
  },
  {
   "cell_type": "code",
   "execution_count": 12,
   "metadata": {},
   "outputs": [],
   "source": [
    "# test_iterator\n",
    "test_iterator = test_dataset.make_initializable_iterator()\n",
    "test_handle = sess.run(test_iterator.string_handle())\n",
    "sess.run(test_iterator.initializer)"
   ]
  },
  {
   "cell_type": "code",
   "execution_count": 13,
   "metadata": {},
   "outputs": [
    {
     "name": "stdout",
     "output_type": "stream",
     "text": [
      "test accuracy: 0.8825\n"
     ]
    }
   ],
   "source": [
    "accuracy, acc_op = tf.metrics.accuracy(labels=y, predictions=tf.argmax(logits, 1), name='accuracy')\n",
    "sess.run(tf.local_variables_initializer())\n",
    "\n",
    "sess.run(acc_op, feed_dict={handle: test_handle, is_training: False})\n",
    "print(\"test accuracy:\", sess.run(accuracy, feed_dict={handle: test_handle, is_training: False}))"
   ]
  },
  {
   "cell_type": "markdown",
   "metadata": {},
   "source": [
    "### Print results"
   ]
  },
  {
   "cell_type": "code",
   "execution_count": 14,
   "metadata": {},
   "outputs": [
    {
     "data": {
      "image/png": "[encoded data removed]",
      "text/plain": [
       "<Figure size 1152x720 with 16 Axes>"
      ]
     },
     "metadata": {},
     "output_type": "display_data"
    }
   ],
   "source": [
    "import numpy as np\n",
    "import matplotlib.pyplot as plt\n",
    "%matplotlib inline\n",
    "\n",
    "test_batch_size = 16\n",
    "batch_index = np.random.choice(len(test_data), size=test_batch_size, replace=False)\n",
    "batch_xs = test_data[batch_index]\n",
    "y_pred = sess.run(logits, feed_dict={x: batch_xs, is_training: False})\n",
    "\n",
    "fig = plt.figure(figsize=(16, 10))\n",
    "for i, (px, py) in enumerate(zip(batch_xs, y_pred)):\n",
    "  p = fig.add_subplot(4, 8, i+1)\n",
    "  p.set_title(\"y_pred: {}\".format(np.argmax(py)))\n",
    "  p.imshow(px.reshape(28, 28), cmap='gray')\n",
    "  p.axis('off')"
   ]
  },
  {
   "cell_type": "markdown",
   "metadata": {},
   "source": [
    "## 직접 실습\n",
    "\n",
    "* 여러가지 hyper-parameter들을 바꿔가면서 accuracy를 높혀보자"
   ]
  }
 ],
 "metadata": {
  "kernelspec": {
   "display_name": "Python 3",
   "language": "python",
   "name": "python3"
  },
  "language_info": {
   "codemirror_mode": {
    "name": "ipython",
    "version": 3
   },
   "file_extension": ".py",
   "mimetype": "text/x-python",
   "name": "python",
   "nbconvert_exporter": "python",
   "pygments_lexer": "ipython3",
   "version": "3.5.5"
  }
 },
 "nbformat": 4,
 "nbformat_minor": 2
}
