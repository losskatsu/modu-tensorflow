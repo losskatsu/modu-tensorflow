{
 "cells": [
  {
   "cell_type": "markdown",
   "metadata": {},
   "source": [
    "# VGG16 network using slim"
   ]
  },
  {
   "cell_type": "code",
   "execution_count": null,
   "metadata": {},
   "outputs": [],
   "source": [
    "#import sys\n",
    "#sys.path.append(\"$HOME/models/research/slim/\")\n",
    "\n",
    "import os\n",
    "import numpy as np\n",
    "import matplotlib.pyplot as plt\n",
    "%matplotlib inline\n",
    "\n",
    "from PIL import Image\n",
    "\n",
    "\n",
    "import tensorflow as tf\n",
    "\n",
    "slim = tf.contrib.slim\n",
    "\n",
    "sess_config = tf.ConfigProto(gpu_options=tf.GPUOptions(allow_growth=True))"
   ]
  },
  {
   "cell_type": "markdown",
   "metadata": {},
   "source": [
    "### Load a VGG16 graph"
   ]
  },
  {
   "cell_type": "code",
   "execution_count": null,
   "metadata": {},
   "outputs": [],
   "source": [
    "from nets import vgg"
   ]
  },
  {
   "cell_type": "code",
   "execution_count": null,
   "metadata": {},
   "outputs": [],
   "source": [
    "inputs = tf.placeholder(tf.float32, [None, 224, 224, 3])"
   ]
  },
  {
   "cell_type": "code",
   "execution_count": null,
   "metadata": {},
   "outputs": [],
   "source": [
    "with slim.arg_scope(vgg.vgg_arg_scope()):\n",
    "  outputs, end_points = vgg.vgg_16(inputs, num_classes=None, is_training=False)"
   ]
  },
  {
   "cell_type": "code",
   "execution_count": null,
   "metadata": {},
   "outputs": [],
   "source": [
    "print(outputs)"
   ]
  },
  {
   "cell_type": "code",
   "execution_count": null,
   "metadata": {},
   "outputs": [],
   "source": [
    "for node in end_points:\n",
    "  print(node)"
   ]
  },
  {
   "cell_type": "code",
   "execution_count": null,
   "metadata": {},
   "outputs": [],
   "source": [
    "with tf.Session() as sess:\n",
    "  writer = tf.summary.FileWriter(\"./graphs/03_vgg16\", sess.graph)\n",
    "  writer.close()"
   ]
  },
  {
   "cell_type": "markdown",
   "metadata": {},
   "source": [
    "### Download the VGG16 checkpoint: \n",
    "\n",
    "```\n",
    "$ CHECKPOINT_DIR='../checkpoints'\n",
    "$ mkdir ${CHECKPOINT_DIR}\n",
    "$ wget http://download.tensorflow.org/models/vgg_16_2016_08_28.tar.gz\n",
    "$ tar -xvf vgg_16_2016_08_28.tar.gz\n",
    "$ mv vgg_16_2016_08_28.tar.gz ${CHECKPOINT_DIR}\n",
    "$ rm vgg_16_2016_08_28.tar.gz\n",
    "```"
   ]
  },
  {
   "cell_type": "markdown",
   "metadata": {},
   "source": [
    "### Restore VGG16 weights using `tf.saver.restore`"
   ]
  },
  {
   "cell_type": "markdown",
   "metadata": {},
   "source": [
    "#### Read a image"
   ]
  },
  {
   "cell_type": "code",
   "execution_count": null,
   "metadata": {},
   "outputs": [],
   "source": [
    "my_images = Image.open('../input_data/my_cat1.jpg')\n",
    "my_images = my_images.resize((224, 224))\n",
    "my_images = np.asarray(my_images) / 255.\n",
    "my_images -= 0.5\n",
    "my_images *= 2.0\n",
    "\n",
    "my_images = np.expand_dims(my_images, axis=0)"
   ]
  },
  {
   "cell_type": "code",
   "execution_count": null,
   "metadata": {},
   "outputs": [],
   "source": [
    "saver = tf.train.Saver()\n",
    "\n",
    "with tf.Session(config=sess_config) as sess:\n",
    "\n",
    "  # use saver object to load variables from the saved model\n",
    "  saver.restore(sess, \"../checkpoints/vgg_16.ckpt\")\n",
    "  \n",
    "  # print conv1_1 weight itself\n",
    "  conv1_1_w = sess.run(tf.trainable_variables()[0])\n",
    "  \n",
    "  # print feature maps\n",
    "  conv1_1, conv2_1, \\\n",
    "  conv3_2, conv4_3, \\\n",
    "  conv5_3 = sess.run([end_points['vgg_16/conv1/conv1_1'],\n",
    "                      end_points['vgg_16/conv2/conv2_1'],\n",
    "                      end_points['vgg_16/conv3/conv3_2'],\n",
    "                      end_points['vgg_16/conv4/conv4_3'],\n",
    "                      end_points['vgg_16/conv5/conv5_3']],\n",
    "                     feed_dict={inputs: my_images})"
   ]
  },
  {
   "cell_type": "markdown",
   "metadata": {},
   "source": [
    "### Print feature maps"
   ]
  },
  {
   "cell_type": "code",
   "execution_count": null,
   "metadata": {},
   "outputs": [],
   "source": [
    "#plt.figure(figsize=(max_print, 1))\n",
    "#plt.axis('off')\n",
    "channel_index = 30\n",
    "plt.subplot(231)\n",
    "plt.imshow(conv1_1[0,:,:,channel_index], cmap='gray')\n",
    "plt.subplot(232)\n",
    "plt.imshow(conv2_1[0,:,:,channel_index], cmap='gray')\n",
    "plt.subplot(233)\n",
    "plt.imshow(conv3_2[0,:,:,channel_index], cmap='gray')\n",
    "plt.subplot(234)\n",
    "plt.imshow(conv4_3[0,:,:,channel_index], cmap='gray')\n",
    "plt.subplot(235)\n",
    "plt.imshow(conv5_3[0,:,:,channel_index], cmap='gray')\n",
    "plt.show()"
   ]
  },
  {
   "cell_type": "code",
   "execution_count": null,
   "metadata": {},
   "outputs": [],
   "source": []
  }
 ],
 "metadata": {
  "kernelspec": {
   "display_name": "Python 3",
   "language": "python",
   "name": "python3"
  },
  "language_info": {
   "codemirror_mode": {
    "name": "ipython",
    "version": 3
   },
   "file_extension": ".py",
   "mimetype": "text/x-python",
   "name": "python",
   "nbconvert_exporter": "python",
   "pygments_lexer": "ipython3",
   "version": "3.6.5"
  }
 },
 "nbformat": 4,
 "nbformat_minor": 2
}
