{
 "cells": [
  {
   "cell_type": "markdown",
   "metadata": {},
   "source": [
    "## Name scope\n",
    "\n",
    "Group nodes together with tf.name_scope(name)\n",
    "\n",
    "```python\n",
    "with tf.name_scope('data'):\n",
    "    iterator = dataset.make_initializable_iterator()\n",
    "    center_words, target_words = iterator.get_next()\n",
    "```\n"
   ]
  },
  {
   "cell_type": "markdown",
   "metadata": {},
   "source": [
    "## Variable scope\n",
    "\n",
    "Name scope vs variabel scope\n",
    "\n",
    "tf.name_scope() vs tf.variable_scope()\n",
    "\n",
    "**Variable scope faciliatate variable sharing**\n",
    "\n",
    "그냥 tf.Variable을 쓰면 별개의 Variable이 생긴다. -> tf.get_variable()을 사용해야 한다."
   ]
  },
  {
   "cell_type": "markdown",
   "metadata": {},
   "source": [
    "### tf.get_variable()\n",
    "\n",
    "If a variable with name already exists, reuse it. If not, initialize it with shape using initializer"
   ]
  },
  {
   "cell_type": "code",
   "execution_count": 13,
   "metadata": {},
   "outputs": [],
   "source": [
    "import tensorflow as tf\n",
    "import numpy as np\n",
    "\n",
    "tf.reset_default_graph()"
   ]
  },
  {
   "cell_type": "code",
   "execution_count": 14,
   "metadata": {},
   "outputs": [],
   "source": [
    "def two_hidden_layers(x):\n",
    "    #assert x.shape.as_list() == [200,100]\n",
    "    w1 = tf.get_variable(\"h1_weights\",  [100,50], initializer=tf.random_normal_initializer())\n",
    "    b1 = tf.get_variable(\"h1_baises\", [50], initializer=tf.constant_initializer(0.0))\n",
    "    h1 = tf.matmul(x, w1) + b1\n",
    "    \n",
    "    assert h1.shape.as_list() == [200, 50]\n",
    "    w2 = tf.get_variable(\"h2_weights\", [50, 10], initializer=tf.random_normal_initializer())\n",
    "    b2 = tf.get_variable(\"h2_baises\", [10], initializer=tf.constant_initializer(0.0))\n",
    "    logits = tf.matmul(h1, w2) + b2\n",
    "    \n",
    "    return logits"
   ]
  },
  {
   "cell_type": "code",
   "execution_count": 15,
   "metadata": {},
   "outputs": [],
   "source": [
    "x1 = tf.truncated_normal([200,100], name='x1')\n",
    "\n",
    "logits1 = two_hidden_layers(x1)\n"
   ]
  },
  {
   "cell_type": "code",
   "execution_count": 16,
   "metadata": {
    "scrolled": true
   },
   "outputs": [
    {
     "ename": "ValueError",
     "evalue": "Variable h1_weights already exists, disallowed. Did you mean to set reuse=True or reuse=tf.AUTO_REUSE in VarScope? Originally defined at:\n\n  File \"D:\\Program Files\\Anaconda3\\envs\\tensorflow_1_7\\lib\\site-packages\\tensorflow\\python\\framework\\ops.py\", line 1654, in __init__\n    self._traceback = self._graph._extract_stack()  # pylint: disable=protected-access\n  File \"D:\\Program Files\\Anaconda3\\envs\\tensorflow_1_7\\lib\\site-packages\\tensorflow\\python\\framework\\ops.py\", line 3290, in create_op\n    op_def=op_def)\n  File \"D:\\Program Files\\Anaconda3\\envs\\tensorflow_1_7\\lib\\site-packages\\tensorflow\\python\\framework\\op_def_library.py\", line 787, in _apply_op_helper\n    op_def=op_def)\n",
     "output_type": "error",
     "traceback": [
      "\u001b[1;31m---------------------------------------------------------------------------\u001b[0m",
      "\u001b[1;31mValueError\u001b[0m                                Traceback (most recent call last)",
      "\u001b[1;32m<ipython-input-16-884f944472b0>\u001b[0m in \u001b[0;36m<module>\u001b[1;34m()\u001b[0m\n\u001b[0;32m      1\u001b[0m \u001b[0mx2\u001b[0m \u001b[1;33m=\u001b[0m \u001b[0mtf\u001b[0m\u001b[1;33m.\u001b[0m\u001b[0mtruncated_normal\u001b[0m\u001b[1;33m(\u001b[0m\u001b[1;33m[\u001b[0m\u001b[1;36m200\u001b[0m\u001b[1;33m,\u001b[0m\u001b[1;36m100\u001b[0m\u001b[1;33m]\u001b[0m\u001b[1;33m,\u001b[0m \u001b[0mname\u001b[0m\u001b[1;33m=\u001b[0m\u001b[1;34m'x2'\u001b[0m\u001b[1;33m)\u001b[0m\u001b[1;33m\u001b[0m\u001b[0m\n\u001b[0;32m      2\u001b[0m \u001b[1;33m\u001b[0m\u001b[0m\n\u001b[1;32m----> 3\u001b[1;33m \u001b[0mlogits2\u001b[0m \u001b[1;33m=\u001b[0m \u001b[0mtwo_hidden_layers\u001b[0m\u001b[1;33m(\u001b[0m\u001b[0mx2\u001b[0m\u001b[1;33m)\u001b[0m\u001b[1;33m\u001b[0m\u001b[0m\n\u001b[0m",
      "\u001b[1;32m<ipython-input-14-1a21892d5211>\u001b[0m in \u001b[0;36mtwo_hidden_layers\u001b[1;34m(x)\u001b[0m\n\u001b[0;32m      1\u001b[0m \u001b[1;32mdef\u001b[0m \u001b[0mtwo_hidden_layers\u001b[0m\u001b[1;33m(\u001b[0m\u001b[0mx\u001b[0m\u001b[1;33m)\u001b[0m\u001b[1;33m:\u001b[0m\u001b[1;33m\u001b[0m\u001b[0m\n\u001b[0;32m      2\u001b[0m     \u001b[1;31m#assert x.shape.as_list() == [200,100]\u001b[0m\u001b[1;33m\u001b[0m\u001b[1;33m\u001b[0m\u001b[0m\n\u001b[1;32m----> 3\u001b[1;33m     \u001b[0mw1\u001b[0m \u001b[1;33m=\u001b[0m \u001b[0mtf\u001b[0m\u001b[1;33m.\u001b[0m\u001b[0mget_variable\u001b[0m\u001b[1;33m(\u001b[0m\u001b[1;34m\"h1_weights\"\u001b[0m\u001b[1;33m,\u001b[0m  \u001b[1;33m[\u001b[0m\u001b[1;36m100\u001b[0m\u001b[1;33m,\u001b[0m\u001b[1;36m50\u001b[0m\u001b[1;33m]\u001b[0m\u001b[1;33m,\u001b[0m \u001b[0minitializer\u001b[0m\u001b[1;33m=\u001b[0m\u001b[0mtf\u001b[0m\u001b[1;33m.\u001b[0m\u001b[0mrandom_normal_initializer\u001b[0m\u001b[1;33m(\u001b[0m\u001b[1;33m)\u001b[0m\u001b[1;33m)\u001b[0m\u001b[1;33m\u001b[0m\u001b[0m\n\u001b[0m\u001b[0;32m      4\u001b[0m     \u001b[0mb1\u001b[0m \u001b[1;33m=\u001b[0m \u001b[0mtf\u001b[0m\u001b[1;33m.\u001b[0m\u001b[0mget_variable\u001b[0m\u001b[1;33m(\u001b[0m\u001b[1;34m\"h1_baises\"\u001b[0m\u001b[1;33m,\u001b[0m \u001b[1;33m[\u001b[0m\u001b[1;36m50\u001b[0m\u001b[1;33m]\u001b[0m\u001b[1;33m,\u001b[0m \u001b[0minitializer\u001b[0m\u001b[1;33m=\u001b[0m\u001b[0mtf\u001b[0m\u001b[1;33m.\u001b[0m\u001b[0mconstant_initializer\u001b[0m\u001b[1;33m(\u001b[0m\u001b[1;36m0.0\u001b[0m\u001b[1;33m)\u001b[0m\u001b[1;33m)\u001b[0m\u001b[1;33m\u001b[0m\u001b[0m\n\u001b[0;32m      5\u001b[0m     \u001b[0mh1\u001b[0m \u001b[1;33m=\u001b[0m \u001b[0mtf\u001b[0m\u001b[1;33m.\u001b[0m\u001b[0mmatmul\u001b[0m\u001b[1;33m(\u001b[0m\u001b[0mx\u001b[0m\u001b[1;33m,\u001b[0m \u001b[0mw1\u001b[0m\u001b[1;33m)\u001b[0m \u001b[1;33m+\u001b[0m \u001b[0mb1\u001b[0m\u001b[1;33m\u001b[0m\u001b[0m\n",
      "\u001b[1;32mD:\\Program Files\\Anaconda3\\envs\\tensorflow_1_7\\lib\\site-packages\\tensorflow\\python\\ops\\variable_scope.py\u001b[0m in \u001b[0;36mget_variable\u001b[1;34m(name, shape, dtype, initializer, regularizer, trainable, collections, caching_device, partitioner, validate_shape, use_resource, custom_getter, constraint)\u001b[0m\n\u001b[0;32m   1295\u001b[0m       \u001b[0mpartitioner\u001b[0m\u001b[1;33m=\u001b[0m\u001b[0mpartitioner\u001b[0m\u001b[1;33m,\u001b[0m \u001b[0mvalidate_shape\u001b[0m\u001b[1;33m=\u001b[0m\u001b[0mvalidate_shape\u001b[0m\u001b[1;33m,\u001b[0m\u001b[1;33m\u001b[0m\u001b[0m\n\u001b[0;32m   1296\u001b[0m       \u001b[0muse_resource\u001b[0m\u001b[1;33m=\u001b[0m\u001b[0muse_resource\u001b[0m\u001b[1;33m,\u001b[0m \u001b[0mcustom_getter\u001b[0m\u001b[1;33m=\u001b[0m\u001b[0mcustom_getter\u001b[0m\u001b[1;33m,\u001b[0m\u001b[1;33m\u001b[0m\u001b[0m\n\u001b[1;32m-> 1297\u001b[1;33m       constraint=constraint)\n\u001b[0m\u001b[0;32m   1298\u001b[0m get_variable_or_local_docstring = (\n\u001b[0;32m   1299\u001b[0m     \"\"\"%s\n",
      "\u001b[1;32mD:\\Program Files\\Anaconda3\\envs\\tensorflow_1_7\\lib\\site-packages\\tensorflow\\python\\ops\\variable_scope.py\u001b[0m in \u001b[0;36mget_variable\u001b[1;34m(self, var_store, name, shape, dtype, initializer, regularizer, reuse, trainable, collections, caching_device, partitioner, validate_shape, use_resource, custom_getter, constraint)\u001b[0m\n\u001b[0;32m   1091\u001b[0m           \u001b[0mpartitioner\u001b[0m\u001b[1;33m=\u001b[0m\u001b[0mpartitioner\u001b[0m\u001b[1;33m,\u001b[0m \u001b[0mvalidate_shape\u001b[0m\u001b[1;33m=\u001b[0m\u001b[0mvalidate_shape\u001b[0m\u001b[1;33m,\u001b[0m\u001b[1;33m\u001b[0m\u001b[0m\n\u001b[0;32m   1092\u001b[0m           \u001b[0muse_resource\u001b[0m\u001b[1;33m=\u001b[0m\u001b[0muse_resource\u001b[0m\u001b[1;33m,\u001b[0m \u001b[0mcustom_getter\u001b[0m\u001b[1;33m=\u001b[0m\u001b[0mcustom_getter\u001b[0m\u001b[1;33m,\u001b[0m\u001b[1;33m\u001b[0m\u001b[0m\n\u001b[1;32m-> 1093\u001b[1;33m           constraint=constraint)\n\u001b[0m\u001b[0;32m   1094\u001b[0m \u001b[1;33m\u001b[0m\u001b[0m\n\u001b[0;32m   1095\u001b[0m   def _get_partitioned_variable(self,\n",
      "\u001b[1;32mD:\\Program Files\\Anaconda3\\envs\\tensorflow_1_7\\lib\\site-packages\\tensorflow\\python\\ops\\variable_scope.py\u001b[0m in \u001b[0;36mget_variable\u001b[1;34m(self, name, shape, dtype, initializer, regularizer, reuse, trainable, collections, caching_device, partitioner, validate_shape, use_resource, custom_getter, constraint)\u001b[0m\n\u001b[0;32m    437\u001b[0m           \u001b[0mcaching_device\u001b[0m\u001b[1;33m=\u001b[0m\u001b[0mcaching_device\u001b[0m\u001b[1;33m,\u001b[0m \u001b[0mpartitioner\u001b[0m\u001b[1;33m=\u001b[0m\u001b[0mpartitioner\u001b[0m\u001b[1;33m,\u001b[0m\u001b[1;33m\u001b[0m\u001b[0m\n\u001b[0;32m    438\u001b[0m           \u001b[0mvalidate_shape\u001b[0m\u001b[1;33m=\u001b[0m\u001b[0mvalidate_shape\u001b[0m\u001b[1;33m,\u001b[0m \u001b[0muse_resource\u001b[0m\u001b[1;33m=\u001b[0m\u001b[0muse_resource\u001b[0m\u001b[1;33m,\u001b[0m\u001b[1;33m\u001b[0m\u001b[0m\n\u001b[1;32m--> 439\u001b[1;33m           constraint=constraint)\n\u001b[0m\u001b[0;32m    440\u001b[0m \u001b[1;33m\u001b[0m\u001b[0m\n\u001b[0;32m    441\u001b[0m   def _get_partitioned_variable(\n",
      "\u001b[1;32mD:\\Program Files\\Anaconda3\\envs\\tensorflow_1_7\\lib\\site-packages\\tensorflow\\python\\ops\\variable_scope.py\u001b[0m in \u001b[0;36m_true_getter\u001b[1;34m(name, shape, dtype, initializer, regularizer, reuse, trainable, collections, caching_device, partitioner, validate_shape, use_resource, constraint)\u001b[0m\n\u001b[0;32m    406\u001b[0m           \u001b[0mtrainable\u001b[0m\u001b[1;33m=\u001b[0m\u001b[0mtrainable\u001b[0m\u001b[1;33m,\u001b[0m \u001b[0mcollections\u001b[0m\u001b[1;33m=\u001b[0m\u001b[0mcollections\u001b[0m\u001b[1;33m,\u001b[0m\u001b[1;33m\u001b[0m\u001b[0m\n\u001b[0;32m    407\u001b[0m           \u001b[0mcaching_device\u001b[0m\u001b[1;33m=\u001b[0m\u001b[0mcaching_device\u001b[0m\u001b[1;33m,\u001b[0m \u001b[0mvalidate_shape\u001b[0m\u001b[1;33m=\u001b[0m\u001b[0mvalidate_shape\u001b[0m\u001b[1;33m,\u001b[0m\u001b[1;33m\u001b[0m\u001b[0m\n\u001b[1;32m--> 408\u001b[1;33m           use_resource=use_resource, constraint=constraint)\n\u001b[0m\u001b[0;32m    409\u001b[0m \u001b[1;33m\u001b[0m\u001b[0m\n\u001b[0;32m    410\u001b[0m     \u001b[1;32mif\u001b[0m \u001b[0mcustom_getter\u001b[0m \u001b[1;32mis\u001b[0m \u001b[1;32mnot\u001b[0m \u001b[1;32mNone\u001b[0m\u001b[1;33m:\u001b[0m\u001b[1;33m\u001b[0m\u001b[0m\n",
      "\u001b[1;32mD:\\Program Files\\Anaconda3\\envs\\tensorflow_1_7\\lib\\site-packages\\tensorflow\\python\\ops\\variable_scope.py\u001b[0m in \u001b[0;36m_get_single_variable\u001b[1;34m(self, name, shape, dtype, initializer, regularizer, partition_info, reuse, trainable, collections, caching_device, validate_shape, use_resource, constraint)\u001b[0m\n\u001b[0;32m    745\u001b[0m                          \u001b[1;34m\"reuse=tf.AUTO_REUSE in VarScope? \"\u001b[0m\u001b[1;33m\u001b[0m\u001b[0m\n\u001b[0;32m    746\u001b[0m                          \"Originally defined at:\\n\\n%s\" % (\n\u001b[1;32m--> 747\u001b[1;33m                              name, \"\".join(traceback.format_list(tb))))\n\u001b[0m\u001b[0;32m    748\u001b[0m       \u001b[0mfound_var\u001b[0m \u001b[1;33m=\u001b[0m \u001b[0mself\u001b[0m\u001b[1;33m.\u001b[0m\u001b[0m_vars\u001b[0m\u001b[1;33m[\u001b[0m\u001b[0mname\u001b[0m\u001b[1;33m]\u001b[0m\u001b[1;33m\u001b[0m\u001b[0m\n\u001b[0;32m    749\u001b[0m       \u001b[1;32mif\u001b[0m \u001b[1;32mnot\u001b[0m \u001b[0mshape\u001b[0m\u001b[1;33m.\u001b[0m\u001b[0mis_compatible_with\u001b[0m\u001b[1;33m(\u001b[0m\u001b[0mfound_var\u001b[0m\u001b[1;33m.\u001b[0m\u001b[0mget_shape\u001b[0m\u001b[1;33m(\u001b[0m\u001b[1;33m)\u001b[0m\u001b[1;33m)\u001b[0m\u001b[1;33m:\u001b[0m\u001b[1;33m\u001b[0m\u001b[0m\n",
      "\u001b[1;31mValueError\u001b[0m: Variable h1_weights already exists, disallowed. Did you mean to set reuse=True or reuse=tf.AUTO_REUSE in VarScope? Originally defined at:\n\n  File \"D:\\Program Files\\Anaconda3\\envs\\tensorflow_1_7\\lib\\site-packages\\tensorflow\\python\\framework\\ops.py\", line 1654, in __init__\n    self._traceback = self._graph._extract_stack()  # pylint: disable=protected-access\n  File \"D:\\Program Files\\Anaconda3\\envs\\tensorflow_1_7\\lib\\site-packages\\tensorflow\\python\\framework\\ops.py\", line 3290, in create_op\n    op_def=op_def)\n  File \"D:\\Program Files\\Anaconda3\\envs\\tensorflow_1_7\\lib\\site-packages\\tensorflow\\python\\framework\\op_def_library.py\", line 787, in _apply_op_helper\n    op_def=op_def)\n"
     ]
    }
   ],
   "source": [
    "x2 = tf.truncated_normal([200,100], name='x2')\n",
    "\n",
    "logits2 = two_hidden_layers(x2)"
   ]
  },
  {
   "cell_type": "markdown",
   "metadata": {},
   "source": [
    "**tf.variable_scope implicitly creates a name scope**"
   ]
  },
  {
   "cell_type": "code",
   "execution_count": 17,
   "metadata": {},
   "outputs": [],
   "source": [
    "with tf.variable_scope('two_layers') as scope:\n",
    "    logits1 = two_hidden_layers(x1)\n",
    "    scope.reuse_variables()\n",
    "    logtis2 = two_hidden_layers(x2)"
   ]
  },
  {
   "cell_type": "markdown",
   "metadata": {},
   "source": [
    "### Layer 'em up"
   ]
  },
  {
   "cell_type": "code",
   "execution_count": 18,
   "metadata": {},
   "outputs": [],
   "source": [
    "def fully_connected(x, output_dim, scope):\n",
    "    with tf.variable_scope(scope, reuse=tf.AUTO_REUSE) as scope:\n",
    "        w = tf.get_variable(\"weights\", [x.shape[1], output_dim], initializer=tf.random_normal_initializer())\n",
    "        b = tf.get_variable(\"biases\", [output_dim], initializer=tf.constant_initializer(0.0))\n",
    "        return tf.matmul(x,w)+b\n",
    "    \n",
    "    def two_hidden_layer(x):\n",
    "        h1 = fully_connected(x, 50, 'h1')\n",
    "        h2 = fully_connected(h1, 10, 'h2')\n",
    "        \n",
    "    with tf.variable_scope('two_layers') as scope:\n",
    "        logits1 = two_hidden_layers(x1)\n",
    "        logits2 = two_hidden_layer(x2)"
   ]
  },
  {
   "cell_type": "markdown",
   "metadata": {},
   "source": [
    "## Manage Experiments\n",
    "\n",
    "## tf.train.Saver\n",
    "\n",
    "saves graph's variables in binary files\n",
    "\n",
    "A good practice is to periodically save the model's parameters after a certain number of steps so that we can restore/retrain our model from that step if need be. \n",
    "\n",
    "**tf.train.Saver.save(sess, save_path, global_step=None...)**\n",
    "\n",
    "**tf.train.Saver.restore(sess, save_path)**"
   ]
  },
  {
   "cell_type": "code",
   "execution_count": 1,
   "metadata": {
    "scrolled": true
   },
   "outputs": [
    {
     "name": "stdout",
     "output_type": "stream",
     "text": [
      "Epoch 0: 1661.8637834631543\n",
      "Epoch 1: 956.3224148609137\n",
      "Epoch 2: 844.6737023980994\n",
      "Epoch 3: 750.7312486011339\n",
      "Epoch 4: 667.6598341012079\n",
      "Epoch 5: 594.1417715627896\n",
      "Epoch 6: 529.07878103068\n",
      "Epoch 7: 471.5004191489204\n",
      "Epoch 8: 420.5458626462441\n",
      "Epoch 9: 375.45530721966765\n",
      "Epoch 10: 335.5543025185697\n",
      "Epoch 11: 300.24629857978107\n",
      "Epoch 12: 269.00376475843336\n",
      "Epoch 13: 241.35957466852116\n",
      "Epoch 14: 216.90039135300015\n",
      "Epoch 15: 195.25972298129324\n",
      "Epoch 16: 176.1137693605349\n",
      "Epoch 17: 159.17551693441837\n",
      "Epoch 18: 144.1907111125557\n",
      "Epoch 19: 130.93503488078713\n",
      "Epoch 20: 119.20935661137888\n",
      "Epoch 21: 108.8379309807855\n",
      "Epoch 22: 99.66466760624593\n",
      "Epoch 23: 91.55177013029001\n",
      "Epoch 24: 84.37664046781751\n",
      "Epoch 25: 78.03217824997724\n",
      "Epoch 26: 72.42182927812989\n",
      "Epoch 27: 67.46136239485718\n",
      "Epoch 28: 63.07566952367442\n",
      "Epoch 29: 59.19874146522856\n",
      "Epoch 30: 55.77168446383194\n",
      "Epoch 31: 52.74269822355127\n",
      "Epoch 32: 50.065632780875376\n",
      "Epoch 33: 47.70006421631674\n",
      "Epoch 34: 45.61017902122909\n",
      "Epoch 35: 43.76379750625255\n",
      "Epoch 36: 42.13259221098116\n",
      "Epoch 37: 40.69221939330516\n",
      "Epoch 38: 39.420219863367905\n",
      "Epoch 39: 38.297008645340895\n",
      "Epoch 40: 37.305591759538146\n",
      "Epoch 41: 36.43066341609841\n",
      "Epoch 42: 35.658453942681234\n",
      "Epoch 43: 34.97724816803575\n",
      "Epoch 44: 34.37655378567349\n",
      "Epoch 45: 33.84671358035044\n",
      "Epoch 46: 33.379665882282545\n",
      "Epoch 47: 32.96800991297258\n",
      "Epoch 48: 32.60548541990942\n",
      "Epoch 49: 32.28618434173986\n",
      "Epoch 50: 32.004961317298495\n",
      "Epoch 51: 31.757531331044525\n",
      "Epoch 52: 31.53978877073019\n",
      "Epoch 53: 31.348356819100445\n",
      "Epoch 54: 31.180119247269193\n",
      "Epoch 55: 31.03225782010038\n",
      "Epoch 56: 30.902462910201574\n",
      "Epoch 57: 30.78859985760776\n",
      "Epoch 58: 30.688725355066556\n",
      "Epoch 59: 30.60122861903357\n",
      "Epoch 60: 30.524590178362192\n",
      "Epoch 61: 30.457532704476954\n",
      "Epoch 62: 30.398967422668726\n",
      "Epoch 63: 30.34777825418737\n",
      "Epoch 64: 30.303121465726413\n",
      "Epoch 65: 30.26424930739051\n",
      "Epoch 66: 30.230392129550456\n",
      "Epoch 67: 30.200964921590334\n",
      "Epoch 68: 30.175501555469697\n",
      "Epoch 69: 30.153343991707324\n",
      "Epoch 70: 30.134226098457216\n",
      "Epoch 71: 30.117758308603477\n",
      "Epoch 72: 30.103543774372174\n",
      "Epoch 73: 30.09139442229674\n",
      "Epoch 74: 30.0809388476427\n",
      "Epoch 75: 30.07208499982095\n",
      "Epoch 76: 30.06452690966084\n",
      "Epoch 77: 30.058150938555205\n",
      "Epoch 78: 30.05278219980139\n",
      "Epoch 79: 30.04828310612785\n",
      "Epoch 80: 30.04458791257593\n",
      "Epoch 81: 30.041550708114855\n",
      "Epoch 82: 30.039046437352113\n",
      "Epoch 83: 30.03704103724602\n",
      "Epoch 84: 30.03545715799831\n",
      "Epoch 85: 30.034288759106282\n",
      "Epoch 86: 30.03338805212261\n",
      "Epoch 87: 30.032769865304076\n",
      "Epoch 88: 30.032386838833535\n",
      "Epoch 89: 30.032150670733166\n",
      "Epoch 90: 30.032092865493677\n",
      "Epoch 91: 30.032186730024037\n",
      "Epoch 92: 30.03240725137661\n",
      "Epoch 93: 30.032643962397827\n",
      "Epoch 94: 30.033039376884087\n",
      "Epoch 95: 30.033435566514413\n",
      "Epoch 96: 30.033922631802085\n",
      "Epoch 97: 30.03442924663878\n",
      "Epoch 98: 30.0349335548615\n",
      "Epoch 99: 30.03552558278714\n"
     ]
    }
   ],
   "source": [
    "import os\n",
    "import time\n",
    "\n",
    "import numpy as np\n",
    "import matplotlib.pyplot as plt\n",
    "import tensorflow as tf\n",
    "\n",
    "import utils\n",
    "\n",
    "DATA_FILE = './birth_life_2010.txt'\n",
    "\n",
    "data, n_samples = utils.read_birth_life_data(DATA_FILE)\n",
    "\n",
    "X= tf.placeholder(tf.float32, shape=None, name='x')\n",
    "Y = tf.placeholder(tf.float32, shape=None, name='y')\n",
    "\n",
    "w = tf.get_variable(name='w', dtype=None, initializer=tf.constant(0.0))\n",
    "b = tf.get_variable(name='b', dtype=None, initializer=tf.constant(0.0))\n",
    "\n",
    "Y_predicted = w*X + b\n",
    "\n",
    "loss = tf.square(Y - Y_predicted, name='loss')\n",
    "\n",
    "optimizer = tf.train.GradientDescentOptimizer(learning_rate=0.001).minimize(loss)\n",
    "\n",
    "saver = tf.train.Saver()\n",
    "\n",
    "with tf.Session() as sess:\n",
    "    sess.run(tf.global_variables_initializer())\n",
    "    # Step 8 : train the model for 100 epochs\n",
    "    for i in range(100):\n",
    "        total_loss = 0\n",
    "        for x, y in data:\n",
    "            # Execute train_op and get the value of loss.\n",
    "            _, loss_ = sess.run([optimizer, loss], feed_dict={X: x, Y: y})\n",
    "            total_loss += loss_\n",
    "            \n",
    "        print('Epoch {0}: {1}'.format(i, total_loss/n_samples))\n",
    "        if i % 10 == 0:\n",
    "            saver.save(sess, 'checkpoint_directory/model_name', global_step=i)\n",
    "    # Step 9 :output the values of w and b\n",
    "    w_out, b_out = sess.run([w, b])\n",
    "    "
   ]
  },
  {
   "cell_type": "markdown",
   "metadata": {},
   "source": [
    "it's helpful to append the number of training steps our model has gone through in a variable called global_step. It's very common variable to see in TF program. \n",
    "\n",
    "We first need to create it, initialize it to 0 and set it to be not trainable, since we dont want to TF to optimize it.\n",
    "\n",
    "```python\n",
    "global_step = tf.Variable(0, dtype=tf.int32, trainable=False, name='global_step')\n",
    "\n",
    "optimizer = tf.train.Adamoptimizer(lr).minimize(loss, global_step=global_step)\n",
    "```\n",
    "\n",
    "Need to tell optimizer to increment global step\n",
    "\n",
    "This can also help your optimizer know when to decay learning rate.\n",
    "\n",
    "Only save variables, not graph\n",
    "\n",
    "Checkpoints map variable names to tensors"
   ]
  },
  {
   "cell_type": "markdown",
   "metadata": {},
   "source": [
    "```python\n",
    "v1 = tf.Variable(name='v1')\n",
    "v2 = tf.Variable(name='v2')\n",
    "\n",
    "saver = tf.train.Saver({'v1':v1, 'v2':v2})\n",
    "saver = tf.train.Saver([v1, v2])\n",
    "saver = tf.train.Saver({v.op.name: v for v in [v1, v2]})\n",
    "```"
   ]
  },
  {
   "cell_type": "markdown",
   "metadata": {},
   "source": [
    "### Restore variables\n",
    "\n",
    "saver.restore(sess, 'checkpoints/name_of_the_checkpoint')\n"
   ]
  },
  {
   "cell_type": "markdown",
   "metadata": {},
   "source": [
    "### Restore the latest checkpoint\n",
    "\n",
    "\n",
    "checkpoint file keeps track of the latest checkpoint\n",
    "\n",
    "restore checkpoints only when there is a valid checkpoint path\n",
    "\n",
    "```python\n",
    "# check if there is checkpoint\n",
    "ckpt = tf.train.get_checkpoint_state(os.path.dirname('checkpoints/checkpoint'))\n",
    "\n",
    "# check if there is a valid checkpoint path\n",
    "if ckpt and ckpt.model_checkpoint_path:\n",
    "    saver.restore(sess, ckpt.model_checkpoint_path)\n",
    "```\n"
   ]
  },
  {
   "cell_type": "markdown",
   "metadata": {},
   "source": [
    "## tf.summary\n",
    "\n",
    "Visualize our summary statisitcs during our training\n",
    "\n",
    "**tf.summary.scalar**\n",
    "\n",
    "**tf.summary.histogram**\n",
    "\n",
    "**tf.summary.image**\n",
    "\n",
    "```python\n",
    "with tf.name_scope(\"summaries\"):\n",
    "    tf.summary.scalar(\"loss\", self.loss)\n",
    "    tf.summary.scalar(\"accuracy\", self.accuracy)\n",
    "    tf.summary.histogram(\"histogram loss\", self.loss)\n",
    "    # merge them all into one summary op to make managing them easier\n",
    "    summary_op = tf.summary.merge_all()\n",
    "```\n",
    "\n",
    "summaries are ops, for the summaries to be built, you have to run it in a session.\n",
    "```python\n",
    "loss_batch, _, summary = sess.run([loss, optimizer, summary_op])\n",
    "```\n",
    "\n",
    "need global step here so the model knows what summary corresponds to what step\n",
    "```python\n",
    "writer.add_summary(summary, global_step=step)\n",
    "```"
   ]
  },
  {
   "cell_type": "code",
   "execution_count": 5,
   "metadata": {
    "scrolled": true
   },
   "outputs": [
    {
     "name": "stdout",
     "output_type": "stream",
     "text": [
      "INFO:tensorflow:Summary name histogram loss is illegal; using histogram_loss instead.\n",
      "Epoch 0: 1661.8637834631543\n",
      "Epoch 1: 956.3224148609137\n",
      "Epoch 2: 844.6737023980994\n",
      "Epoch 3: 750.7312486011339\n",
      "Epoch 4: 667.6598341012079\n",
      "Epoch 5: 594.1417715627896\n",
      "Epoch 6: 529.07878103068\n",
      "Epoch 7: 471.5004191489204\n",
      "Epoch 8: 420.5458626462441\n",
      "Epoch 9: 375.45530721966765\n",
      "Epoch 10: 335.5543025185697\n",
      "Epoch 11: 300.24629857978107\n",
      "Epoch 12: 269.00376475843336\n",
      "Epoch 13: 241.35957466852116\n",
      "Epoch 14: 216.90039135300015\n",
      "Epoch 15: 195.25972298129324\n",
      "Epoch 16: 176.1137693605349\n",
      "Epoch 17: 159.17551693441837\n",
      "Epoch 18: 144.1907111125557\n",
      "Epoch 19: 130.93503488078713\n",
      "Epoch 20: 119.20935661137888\n",
      "Epoch 21: 108.8379309807855\n",
      "Epoch 22: 99.66466760624593\n",
      "Epoch 23: 91.55177013029001\n",
      "Epoch 24: 84.37664046781751\n",
      "Epoch 25: 78.03217824997724\n",
      "Epoch 26: 72.42182927812989\n",
      "Epoch 27: 67.46136239485718\n",
      "Epoch 28: 63.07566952367442\n",
      "Epoch 29: 59.19874146522856\n",
      "Epoch 30: 55.77168446383194\n",
      "Epoch 31: 52.74269822355127\n",
      "Epoch 32: 50.065632780875376\n",
      "Epoch 33: 47.70006421631674\n",
      "Epoch 34: 45.61017902122909\n",
      "Epoch 35: 43.76379750625255\n",
      "Epoch 36: 42.13259221098116\n",
      "Epoch 37: 40.69221939330516\n",
      "Epoch 38: 39.420219863367905\n",
      "Epoch 39: 38.297008645340895\n",
      "Epoch 40: 37.305591759538146\n",
      "Epoch 41: 36.43066341609841\n",
      "Epoch 42: 35.658453942681234\n",
      "Epoch 43: 34.97724816803575\n",
      "Epoch 44: 34.37655378567349\n",
      "Epoch 45: 33.84671358035044\n",
      "Epoch 46: 33.379665882282545\n",
      "Epoch 47: 32.96800991297258\n",
      "Epoch 48: 32.60548541990942\n",
      "Epoch 49: 32.28618434173986\n",
      "Epoch 50: 32.004961317298495\n",
      "Epoch 51: 31.757531331044525\n",
      "Epoch 52: 31.53978877073019\n",
      "Epoch 53: 31.348356819100445\n",
      "Epoch 54: 31.180119247269193\n",
      "Epoch 55: 31.03225782010038\n",
      "Epoch 56: 30.902462910201574\n",
      "Epoch 57: 30.78859985760776\n",
      "Epoch 58: 30.688725355066556\n",
      "Epoch 59: 30.60122861903357\n",
      "Epoch 60: 30.524590178362192\n",
      "Epoch 61: 30.457532704476954\n",
      "Epoch 62: 30.398967422668726\n",
      "Epoch 63: 30.34777825418737\n",
      "Epoch 64: 30.303121465726413\n",
      "Epoch 65: 30.26424930739051\n",
      "Epoch 66: 30.230392129550456\n",
      "Epoch 67: 30.200964921590334\n",
      "Epoch 68: 30.175501555469697\n",
      "Epoch 69: 30.153343991707324\n",
      "Epoch 70: 30.134226098457216\n",
      "Epoch 71: 30.117758308603477\n",
      "Epoch 72: 30.103543774372174\n",
      "Epoch 73: 30.09139442229674\n",
      "Epoch 74: 30.0809388476427\n",
      "Epoch 75: 30.07208499982095\n",
      "Epoch 76: 30.06452690966084\n",
      "Epoch 77: 30.058150938555205\n",
      "Epoch 78: 30.05278219980139\n",
      "Epoch 79: 30.04828310612785\n",
      "Epoch 80: 30.04458791257593\n",
      "Epoch 81: 30.041550708114855\n",
      "Epoch 82: 30.039046437352113\n",
      "Epoch 83: 30.03704103724602\n",
      "Epoch 84: 30.03545715799831\n",
      "Epoch 85: 30.034288759106282\n",
      "Epoch 86: 30.03338805212261\n",
      "Epoch 87: 30.032769865304076\n",
      "Epoch 88: 30.032386838833535\n",
      "Epoch 89: 30.032150670733166\n",
      "Epoch 90: 30.032092865493677\n",
      "Epoch 91: 30.032186730024037\n",
      "Epoch 92: 30.03240725137661\n",
      "Epoch 93: 30.032643962397827\n",
      "Epoch 94: 30.033039376884087\n",
      "Epoch 95: 30.033435566514413\n",
      "Epoch 96: 30.033922631802085\n",
      "Epoch 97: 30.03442924663878\n",
      "Epoch 98: 30.0349335548615\n",
      "Epoch 99: 30.03552558278714\n"
     ]
    }
   ],
   "source": [
    "import os\n",
    "import time\n",
    "\n",
    "import numpy as np\n",
    "import matplotlib.pyplot as plt\n",
    "import tensorflow as tf\n",
    "\n",
    "import utils\n",
    "\n",
    "DATA_FILE = './birth_life_2010.txt'\n",
    "\n",
    "tf.reset_default_graph()\n",
    "\n",
    "data, n_samples = utils.read_birth_life_data(DATA_FILE)\n",
    "\n",
    "X= tf.placeholder(tf.float32, shape=None, name='x')\n",
    "Y = tf.placeholder(tf.float32, shape=None, name='y')\n",
    "\n",
    "w = tf.get_variable(name='w', dtype=None, initializer=tf.constant(0.0))\n",
    "b = tf.get_variable(name='b', dtype=None, initializer=tf.constant(0.0))\n",
    "\n",
    "Y_predicted = w*X + b\n",
    "\n",
    "loss = tf.square(Y - Y_predicted, name='loss')\n",
    "\n",
    "optimizer = tf.train.GradientDescentOptimizer(learning_rate=0.001).minimize(loss)\n",
    "\n",
    "tf.summary.scalar(\"loss\", loss)\n",
    "tf.summary.histogram(\"histogram loss\", loss)\n",
    "summary_op = tf.summary.merge_all()\n",
    "\n",
    "saver = tf.train.Saver()\n",
    "\n",
    "with tf.Session() as sess:\n",
    "    sess.run(tf.global_variables_initializer())\n",
    "    writer = tf.summary.FileWriter('./board/linear/lr0.5', sess.graph)\n",
    "    # Step 8 : train the model for 100 epochs\n",
    "    for i in range(100):\n",
    "        total_loss = 0\n",
    "        for x, y in data:\n",
    "            # Execute train_op and get the value of loss.\n",
    "            _, loss_, summary = sess.run([optimizer, loss, summary_op], feed_dict={X: x, Y: y})\n",
    "            total_loss += loss_\n",
    "        writer.add_summary(summary, global_step=i)\n",
    "        print('Epoch {0}: {1}'.format(i, total_loss/n_samples))\n",
    "        if i % 10 == 0:\n",
    "            saver.save(sess, 'checkpoint_directory/model_name', global_step=i)\n",
    "    # Step 9 :output the values of w and b\n",
    "    w_out, b_out = sess.run([w, b])\n",
    "    writer.close()\n",
    "    "
   ]
  },
  {
   "cell_type": "markdown",
   "metadata": {},
   "source": [
    "## Control Randomization"
   ]
  },
  {
   "cell_type": "markdown",
   "metadata": {},
   "source": [
    "### Session keep track of random state\n",
    "\n",
    "Each new session restarts the random state."
   ]
  },
  {
   "cell_type": "code",
   "execution_count": 6,
   "metadata": {},
   "outputs": [
    {
     "name": "stdout",
     "output_type": "stream",
     "text": [
      "3.574932\n",
      "-5.9731865\n"
     ]
    }
   ],
   "source": [
    "c = tf.random_uniform([], -10, 10, seed=2)\n",
    "\n",
    "with tf.Session() as sess:\n",
    "    print(sess.run(c))\n",
    "    print(sess.run(c))"
   ]
  },
  {
   "cell_type": "code",
   "execution_count": 7,
   "metadata": {},
   "outputs": [
    {
     "name": "stdout",
     "output_type": "stream",
     "text": [
      "3.574932\n",
      "3.574932\n"
     ]
    }
   ],
   "source": [
    "c = tf.random_uniform([], -10, 10, seed=2)\n",
    "\n",
    "with tf.Session() as sess:\n",
    "    print(sess.run(c))\n",
    "    \n",
    "with tf.Session() as sess:\n",
    "    print(sess.run(c))"
   ]
  },
  {
   "cell_type": "markdown",
   "metadata": {},
   "source": [
    "### op level random seed\n",
    "\n",
    "Each op keeps its own seed"
   ]
  },
  {
   "cell_type": "code",
   "execution_count": 8,
   "metadata": {},
   "outputs": [
    {
     "name": "stdout",
     "output_type": "stream",
     "text": [
      "3.574932\n",
      "3.574932\n"
     ]
    }
   ],
   "source": [
    "c = tf.random_uniform([], -10, 10, seed=2)\n",
    "d = tf.random_uniform([], -10, 10, seed=2)\n",
    "\n",
    "with tf.Session() as sess:\n",
    "    print(sess.run(c))\n",
    "    print(sess.run(d))"
   ]
  },
  {
   "cell_type": "markdown",
   "metadata": {},
   "source": [
    "### Graph level seed"
   ]
  },
  {
   "cell_type": "code",
   "execution_count": 15,
   "metadata": {},
   "outputs": [
    {
     "name": "stdout",
     "output_type": "stream",
     "text": [
      "-1.1094971\n",
      "8.42697\n"
     ]
    }
   ],
   "source": [
    "tf.set_random_seed(2)\n",
    "c = tf.random_uniform([], -10, 10)\n",
    "d = tf.random_uniform([], -10, 10)\n",
    "\n",
    "with tf.Session() as sess:\n",
    "    print(sess.run(c))\n",
    "    print(sess.run(d))"
   ]
  },
  {
   "cell_type": "markdown",
   "metadata": {},
   "source": [
    "## Autodiff\n",
    "\n",
    "Tensorflow builds the backward path for you."
   ]
  },
  {
   "cell_type": "markdown",
   "metadata": {},
   "source": [
    "### tf.gradients(y, [xs])\n",
    "\n",
    "Take derivative of y with respect to each tensor in the list[xs]"
   ]
  },
  {
   "cell_type": "code",
   "execution_count": 16,
   "metadata": {},
   "outputs": [
    {
     "name": "stdout",
     "output_type": "stream",
     "text": [
      "[768.0, 32.0]\n"
     ]
    }
   ],
   "source": [
    "x = tf.Variable(2.0)\n",
    "y = 2.0 * (x**3)\n",
    "z = 3.0 + y **2\n",
    "\n",
    "grad_z = tf.gradients(z, [x,y])\n",
    "\n",
    "with tf.Session() as sess:\n",
    "    sess.run(x.initializer)\n",
    "    print(sess.run(grad_z))"
   ]
  }
 ],
 "metadata": {
  "kernelspec": {
   "display_name": "Python 3",
   "language": "python",
   "name": "python3"
  },
  "language_info": {
   "codemirror_mode": {
    "name": "ipython",
    "version": 3
   },
   "file_extension": ".py",
   "mimetype": "text/x-python",
   "name": "python",
   "nbconvert_exporter": "python",
   "pygments_lexer": "ipython3",
   "version": "3.5.5"
  }
 },
 "nbformat": 4,
 "nbformat_minor": 2
}
